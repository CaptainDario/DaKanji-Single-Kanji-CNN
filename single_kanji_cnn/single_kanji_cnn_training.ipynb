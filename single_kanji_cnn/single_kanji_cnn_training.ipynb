{
 "cells": [
  {
   "cell_type": "markdown",
   "metadata": {},
   "source": [
    "# DaKanjiRecognizer - Single Kanji CNN : Training\n",
    "## Setup\n",
    "\n",
    "Import the needed libraries."
   ]
  },
  {
   "cell_type": "code",
   "execution_count": 18,
   "metadata": {},
   "outputs": [],
   "source": [
    "#std lib\n",
    "import sys\n",
    "import os\n",
    "import time\n",
    "import datetime\n",
    "import tempfile\n",
    "import importlib\n",
    "\n",
    "#ML\n",
    "import tensorflow as tf\n",
    "import numpy as np\n",
    "\n",
    "from PIL import Image\n",
    "\n",
    "# data augmentation\n",
    "from elasticdeform import tf as tfedf\n",
    "import elasticdeform \n",
    "import RandomErasing\n",
    "\n",
    "#plotting/showing graphics\n",
    "%matplotlib inline\n",
    "import matplotlib.pyplot as plt\n",
    "from IPython.display import Image"
   ]
  },
  {
   "cell_type": "markdown",
   "metadata": {},
   "source": [
    "Because the data sets are big let's make sure that the GPU is available to speed up training."
   ]
  },
  {
   "cell_type": "code",
   "execution_count": 2,
   "metadata": {},
   "outputs": [
    {
     "name": "stdout",
     "output_type": "stream",
     "text": [
      "GPUs Available:  /device:GPU:0\n"
     ]
    }
   ],
   "source": [
    "print(\"GPUs Available: \", tf.test.gpu_device_name())"
   ]
  },
  {
   "cell_type": "markdown",
   "metadata": {},
   "source": [
    "enable memory growth"
   ]
  },
  {
   "cell_type": "code",
   "execution_count": 3,
   "metadata": {},
   "outputs": [],
   "source": [
    "physical_devices = tf.config.list_physical_devices('GPU') \n",
    "tf.config.experimental.set_memory_growth(physical_devices[0], True)"
   ]
  },
  {
   "cell_type": "markdown",
   "metadata": {},
   "source": [
    "Enable mixed precision (for RTX, etc.)."
   ]
  },
  {
   "cell_type": "code",
   "execution_count": 4,
   "metadata": {},
   "outputs": [
    {
     "name": "stdout",
     "output_type": "stream",
     "text": [
      "INFO:tensorflow:Mixed precision compatibility check (mixed_float16): OK\n",
      "Your GPU will likely run quickly with dtype policy mixed_float16 as it has compute capability of at least 7.0. Your GPU: NVIDIA GeForce RTX 2070 SUPER, compute capability 7.5\n"
     ]
    }
   ],
   "source": [
    "policy = tf.keras.mixed_precision.Policy('mixed_float16')\n",
    "tf.keras.mixed_precision.set_global_policy(policy)"
   ]
  },
  {
   "cell_type": "markdown",
   "metadata": {},
   "source": [
    "## Setting up the Data pipeline\n",
    "\n",
    "Read the labels for each class from file."
   ]
  },
  {
   "cell_type": "code",
   "execution_count": 5,
   "metadata": {},
   "outputs": [],
   "source": [
    "labels_1, labels_2, labels = [], [], []\n",
    "\n",
    "# load labels from file\n",
    "with open(r'Z:\\data_sets\\etlcdb\\encoding_1.txt', mode=\"r\", encoding=\"utf-8\") as f:\n",
    "    labels_1 = list(eval(f.read()).keys())\n",
    "with open(r'Z:\\data_sets\\etlcdb\\encoding_2.txt', mode=\"r\", encoding=\"utf-8\") as f:\n",
    "    labels_2 = list(eval(f.read()).keys())\n",
    "\n",
    "ls = labels_1 + labels_2\n",
    "# order the labels\n",
    "indexs = sorted([str(i) for i in range(0, len(ls))])\n",
    "ordered_labels = [ls[int(i)] for i in indexs]\n",
    "\n",
    "# save the labels to text files\n",
    "with open(r'E:\\projects\\DaKanjiRecognizerML\\single_kanji_cnn\\labels.txt', mode=\"w+\", encoding=\"utf-8\") as f:  \n",
    "    f.write(''.join(ls))"
   ]
  },
  {
   "cell_type": "markdown",
   "metadata": {},
   "source": [
    "Create a `tf.keras.dataset` from the saved files for test and validation."
   ]
  },
  {
   "cell_type": "code",
   "execution_count": 6,
   "metadata": {},
   "outputs": [],
   "source": [
    "#batch size\n",
    "bs=1024\n",
    "validation_split = 0.2\n",
    "h, w = 64, 64\n",
    "# class names\n",
    "classes = [str(i) for i in range(len(ls))]"
   ]
  },
  {
   "cell_type": "code",
   "execution_count": 7,
   "metadata": {},
   "outputs": [],
   "source": [
    "#define a font to show japanese characters in matplotlib figures\n",
    "import matplotlib.font_manager as fm\n",
    "show_sample_font = fm.FontProperties(fname=os.path.join(\"..\", \"fonts\", \"NotoSerifCJKjp-Regular.otf\"), size=20)\n",
    "\n",
    "def show_image(img : np.array, label : str):\n",
    "    plt.figure(figsize=(2.2, 2.2))\n",
    "    plt.title(label=label, font=show_sample_font)\n",
    "    plt.axis(\"off\")\n",
    "    plt.imshow(img.astype(np.float64), cmap=\"gray\")"
   ]
  },
  {
   "cell_type": "markdown",
   "metadata": {},
   "source": [
    "## create train and validation dataset"
   ]
  },
  {
   "cell_type": "code",
   "execution_count": 8,
   "metadata": {},
   "outputs": [
    {
     "name": "stdout",
     "output_type": "stream",
     "text": [
      "Found 70443 files belonging to 126 classes.\n",
      "Using 56355 files for training.\n"
     ]
    }
   ],
   "source": [
    "train_dataset = tf.keras.preprocessing.image_dataset_from_directory(\n",
    "    #\"Z:\\data_sets\\etlcdb\",\n",
    "    \"Z:\\data_sets\\etlcdb_test\",\n",
    "    labels=\"inferred\",\n",
    "    label_mode=\"categorical\",\n",
    "    #class_names=classes,\n",
    "    color_mode=\"grayscale\",\n",
    "    batch_size=bs,\n",
    "    image_size=(h, w),\n",
    "    shuffle=True,\n",
    "    seed=123,\n",
    "    validation_split=validation_split,\n",
    "    subset=\"training\"\n",
    ")"
   ]
  },
  {
   "cell_type": "code",
   "execution_count": 9,
   "metadata": {},
   "outputs": [],
   "source": [
    "train_dataset = train_dataset.map(lambda x, y : (tf.cast(x, dtype=tf.float16), tf.cast(y, dtype=tf.float16)))\n",
    "train_dataset = train_dataset.cache(r\"Z:\\data_sets\\etlcdb_cache\\cache_test_train\")\n",
    "train_dataset = train_dataset.prefetch(buffer_size=tf.data.AUTOTUNE)\n",
    "\n",
    "#print(train_dataset.take(1))"
   ]
  },
  {
   "cell_type": "code",
   "execution_count": 10,
   "metadata": {},
   "outputs": [
    {
     "name": "stdout",
     "output_type": "stream",
     "text": [
      "Found 70443 files belonging to 126 classes.\n",
      "Using 56354 files for validation.\n"
     ]
    }
   ],
   "source": [
    "val_dataset = tf.keras.preprocessing.image_dataset_from_directory(\n",
    "    #Z:\\data_sets\\etlcdb\",\n",
    "    \"Z:\\data_sets\\etlcdb_test\",\n",
    "    labels=\"inferred\",\n",
    "    label_mode=\"categorical\",\n",
    "    #class_names=classes,\n",
    "    color_mode=\"grayscale\",\n",
    "    batch_size=bs,\n",
    "    image_size=(h, w),\n",
    "    shuffle=True,\n",
    "    seed=123,\n",
    "    validation_split=1.0 - validation_split,\n",
    "    subset=\"validation\"\n",
    ")"
   ]
  },
  {
   "cell_type": "code",
   "execution_count": 11,
   "metadata": {},
   "outputs": [],
   "source": [
    "val_dataset = val_dataset.map(lambda x, y : (tf.cast(x, dtype=tf.float16), tf.cast(y, dtype=tf.float16)))\n",
    "val_dataset = val_dataset.cache(r\"Z:\\data_sets\\etlcdb_cache\\cache_test_test\")\n",
    "val_dataset = val_dataset.prefetch(buffer_size=tf.data.AUTOTUNE)\n",
    "\n",
    "#print(val_dataset.take(1))"
   ]
  },
  {
   "cell_type": "markdown",
   "metadata": {},
   "source": [
    "## Defining and training the CNN\n",
    "First define image image preprocessing layers."
   ]
  },
  {
   "cell_type": "code",
   "execution_count": 12,
   "metadata": {},
   "outputs": [],
   "source": [
    "@tf.function\n",
    "def preprocess_tf(x):\n",
    "    \"\"\"\n",
    "    Preprocessing for TF Lite.\n",
    "    \n",
    "    Args:\n",
    "        x : a Tensor(batch_size, height, width, channels) of images to preprocess\n",
    "        \n",
    "    Return: \n",
    "        normalized, resized and to gray scaled converted Tensor of images\n",
    "    \"\"\"\n",
    "    \n",
    "    batch, height, width, channels = x.shape\n",
    "    \n",
    "    # normalize image between [0, 1]\n",
    "    m = tf.math.reduce_max(x)\n",
    "    preprocessed = tf.math.divide(x, m)\n",
    "    \n",
    "    # resize images to (64, 64)\n",
    "    preprocessed = tf.image.resize(preprocessed, (64, 64), method=tf.image.ResizeMethod.BILINEAR)\n",
    "    \n",
    "    # if the image is not grayscale convert it\n",
    "    if(channels == 3):\n",
    "        preprocessed = tf.image.rgb_to_grayscale(preprocessed)\n",
    "\n",
    "    return preprocessed\n",
    "\n",
    "\n",
    "class PreprocessTFLayer(tf.keras.layers.Layer):\n",
    "    def __init__(self, name=\"preprocess_tf\", **kwargs):\n",
    "        super(PreprocessTFLayer, self).__init__(name=name, **kwargs)\n",
    "        self.preprocess = preprocess_tf\n",
    "\n",
    "    def call(self, input):\n",
    "        return self.preprocess(input)\n",
    "\n",
    "    def get_config(self):\n",
    "        config = super(PreprocessTFLayer, self).get_config()\n",
    "        return config\n",
    "    \n",
    "    def get_prunable_weights(self):\n",
    "        return [] "
   ]
  },
  {
   "cell_type": "markdown",
   "metadata": {},
   "source": [
    "Now define a Sequential model for image preprocessing and augmentation layers."
   ]
  },
  {
   "cell_type": "code",
   "execution_count": 53,
   "metadata": {},
   "outputs": [],
   "source": [
    "from tensorflow.keras.layers.experimental.preprocessing import Resizing, Rescaling, RandomZoom, RandomRotation, RandomTranslation\n",
    "\n",
    "img_augmentation = tf.keras.Sequential(\n",
    "    [\n",
    "        PreprocessTFLayer(),\n",
    "        RandomErasing.RandomErasing(probability=0.3),\n",
    "        \n",
    "        # random data augmentation\n",
    "        RandomZoom(height_factor=(-0.2, 1.0), width_factor=(-0.2, 1.0), \n",
    "            fill_mode='constant', interpolation='bilinear', fill_value=0.0\n",
    "        ),\n",
    "        RandomTranslation(0.2, 0.2, fill_mode=\"constant\"),\n",
    "        RandomRotation(factor=(-0.1, 0.1) , fill_mode='constant', interpolation='bilinear'),\n",
    "    ],\n",
    "    name = \"img_augmentation\"\n",
    ")"
   ]
  },
  {
   "cell_type": "code",
   "execution_count": 56,
   "metadata": {
    "tags": []
   },
   "outputs": [
    {
     "name": "stdout",
     "output_type": "stream",
     "text": [
      "elapsed timer: 0.03680210000004536\n"
     ]
    },
    {
     "data": {
      "image/png": "[encoded data removed]",
      "text/plain": [
       "<Figure size 720x720 with 9 Axes>"
      ]
     },
     "metadata": {
      "needs_background": "light"
     },
     "output_type": "display_data"
    }
   ],
   "source": [
    "plt.figure(figsize=(10, 10))\n",
    "\n",
    "t1 = time.perf_counter()\n",
    "augmented_images = img_augmentation(images)\n",
    "t2 = time.perf_counter()\n",
    "print(\"elapsed timer:\", t2 - t1)\n",
    "\n",
    "for i in range(9):\n",
    "    ax = plt.subplot(3, 3, i + 1)\n",
    "    plt.imshow(augmented_images[i].numpy().reshape((64, 64)).astype(np.float64), cmap=\"gray\")\n",
    "    plt.axis(\"off\")"
   ]
  },
  {
   "cell_type": "markdown",
   "metadata": {},
   "source": [
    "Make sure the image augmentaiton layers are working."
   ]
  },
  {
   "cell_type": "code",
   "execution_count": 16,
   "metadata": {},
   "outputs": [],
   "source": [
    "imgs, lbs = [], []\n",
    "for images, labels in train_dataset.take(1):\n",
    "    for img, label in zip(images, labels):\n",
    "        imgs.append(img.numpy())\n",
    "        lbs.append(label.numpy())"
   ]
  },
  {
   "cell_type": "markdown",
   "metadata": {},
   "source": [
    "Create an EfficientNet Lite model and merge preprocessing, augmentation layers with it to one model."
   ]
  },
  {
   "cell_type": "code",
   "execution_count": 27,
   "metadata": {},
   "outputs": [
    {
     "name": "stdout",
     "output_type": "stream",
     "text": [
      "Model: \"sequential\"\n",
      "_________________________________________________________________\n",
      "Layer (type)                 Output Shape              Param #   \n",
      "=================================================================\n",
      "img_augmentation (Sequential (None, 64, 64, 1)         0         \n",
      "_________________________________________________________________\n",
      "efficientnetlite0 (Functiona (None, 126)               3573854   \n",
      "=================================================================\n",
      "Total params: 3,573,854\n",
      "Trainable params: 3,531,838\n",
      "Non-trainable params: 42,016\n",
      "_________________________________________________________________\n"
     ]
    }
   ],
   "source": [
    "from efficientnet_lite import EfficientNetLiteB0\n",
    "\n",
    "eff_net_lite = EfficientNetLiteB0(\n",
    "    include_top=True,\n",
    "    weights=None,\n",
    "    input_shape=(64, 64, 1),\n",
    "    classes=126,#len(ls),\n",
    "    pooling=\"max\",\n",
    "    classifier_activation=\"softmax\",\n",
    ")\n",
    "\n",
    "f16_model = tf.keras.Sequential([\n",
    "    tf.keras.layers.InputLayer(input_shape=(None, None, 1)),\n",
    "    img_augmentation,\n",
    "    eff_net_lite,\n",
    "])\n",
    "f16_model.summary()"
   ]
  },
  {
   "cell_type": "markdown",
   "metadata": {},
   "source": [
    "Set a path to save model realted files and optionally load stored weights to resume training."
   ]
  },
  {
   "cell_type": "code",
   "execution_count": 28,
   "metadata": {},
   "outputs": [
    {
     "name": "stdout",
     "output_type": "stream",
     "text": [
      "model_dir: E:\\projects\\DaKanjiRecognizerML\\single_kanji_cnn\\model\n"
     ]
    }
   ],
   "source": [
    "#path where the model should be saved\n",
    "model_dir = os.path.join(os.getcwd(), \"model\")\n",
    "print(\"model_dir:\", model_dir)\n",
    "\n",
    "#f16_model.load_weights(os.path.join(model_dir, \"tf\", \"checkpoints\", \"weights-improvement-14-0.94.hdf5\"))"
   ]
  },
  {
   "cell_type": "markdown",
   "metadata": {},
   "source": [
    "Set the optimizer, loss function and compile the model"
   ]
  },
  {
   "cell_type": "code",
   "execution_count": 29,
   "metadata": {},
   "outputs": [],
   "source": [
    "l_r = 0.001\n",
    "opt = tf.keras.optimizers.Adam(learning_rate=l_r)\n",
    "\n",
    "METRICS = ['accuracy']\n",
    "\n",
    "f16_model.compile(optimizer=opt, loss=\"categorical_crossentropy\", metrics=METRICS)"
   ]
  },
  {
   "cell_type": "markdown",
   "metadata": {},
   "source": [
    "Setup callbacks for the model."
   ]
  },
  {
   "cell_type": "code",
   "execution_count": 31,
   "metadata": {},
   "outputs": [
    {
     "name": "stdout",
     "output_type": "stream",
     "text": [
      "tensorboard log dir: E:\\projects\\DaKanjiRecognizerML\\single_kanji_cnn\\model\\tf\\logs\\20210716-163654\n"
     ]
    }
   ],
   "source": [
    "from tensorflow.keras.callbacks import ModelCheckpoint\n",
    "\n",
    "#CHECKPOINTS\n",
    "#filepath = os.path.join(model_dir, \"tf\", \"checkpoints\", \"weights-improvement-{epoch:02d}-{val_accuracy:.2f}.hdf5\")\n",
    "#checkpoint = ModelCheckpoint(filepath, monitor='val_accuracy', verbose=1, save_best_only=True, mode='max')\n",
    "\n",
    "callbacks_list = [] #checkpoin]\n",
    "\n",
    "#print(\"checkpoints dir:\", filepath)\n",
    "\n",
    "# TENSORBOARD\n",
    "# load the tensorboard extension\n",
    "%load_ext tensorboard\n",
    "\n",
    "# add the tensorboard callback\n",
    "log_dir = os.path.join(model_dir, \"tf\", \"logs\", datetime.datetime.now().strftime(\"%Y%m%d-%H%M%S\"))\n",
    "tensorboard_callback = tf.keras.callbacks.TensorBoard(log_dir=log_dir, histogram_freq=1)\n",
    "callbacks_list.append(tensorboard_callback)\n",
    "\n",
    "print(\"tensorboard log dir:\", log_dir)\n",
    "\n",
    "# LEARNING RATE SCHEDULER\n",
    "def scheduler(epoch, lr):\n",
    "    return l_r - ((l_r / 100 * 4) * (epoch // 3))\n",
    "\n",
    "scheduler_callback = tf.keras.callbacks.LearningRateScheduler(scheduler, verbose=1)\n",
    "callbacks_list.append(scheduler_callback)"
   ]
  },
  {
   "cell_type": "markdown",
   "metadata": {},
   "source": [
    "Finally train the model on the data set (in case of an Interrupt creates checkpoints)."
   ]
  },
  {
   "cell_type": "code",
   "execution_count": 32,
   "metadata": {},
   "outputs": [
    {
     "name": "stderr",
     "output_type": "stream",
     "text": [
      "E:\\projects\\DaKanjiRecognizerML\\.venv\\lib\\site-packages\\tensorflow\\python\\keras\\utils\\generic_utils.py:494: CustomMaskWarning: Custom mask layers require a config and must override get_config. When loading, the custom mask layer must be passed to the custom_objects argument.\n",
      "  warnings.warn('Custom mask layers require a config and must override '\n"
     ]
    },
    {
     "name": "stdout",
     "output_type": "stream",
     "text": [
      "Epoch 1/75\n",
      "\n",
      "Epoch 00001: LearningRateScheduler reducing learning rate to 0.001.\n",
      "56/56 [==============================] - 71s 916ms/step - loss: 4.9143 - accuracy: 0.0142 - val_loss: 5.8508 - val_accuracy: 0.0128\n",
      "Epoch 2/75\n",
      "\n",
      "Epoch 00002: LearningRateScheduler reducing learning rate to 0.001.\n",
      "56/56 [==============================] - 43s 771ms/step - loss: 4.5708 - accuracy: 0.0219 - val_loss: 8.0927 - val_accuracy: 0.0122\n",
      "Epoch 3/75\n",
      "\n",
      "Epoch 00003: LearningRateScheduler reducing learning rate to 0.001.\n",
      "56/56 [==============================] - 42s 758ms/step - loss: 4.3027 - accuracy: 0.0340 - val_loss: 8.0241 - val_accuracy: 0.0093\n",
      "Epoch 4/75\n",
      "\n",
      "Epoch 00004: LearningRateScheduler reducing learning rate to 0.00096.\n",
      "56/56 [==============================] - 42s 758ms/step - loss: 4.1213 - accuracy: 0.0435 - val_loss: 7.5717 - val_accuracy: 0.0122\n",
      "Epoch 5/75\n",
      "\n",
      "Epoch 00005: LearningRateScheduler reducing learning rate to 0.00096.\n",
      "11/56 [====>.........................] - ETA: 18s - loss: 4.0810 - accuracy: 0.0469"
     ]
    },
    {
     "ename": "KeyboardInterrupt",
     "evalue": "",
     "output_type": "error",
     "traceback": [
      "\u001b[1;31m---------------------------------------------------------------------------\u001b[0m",
      "\u001b[1;31mKeyboardInterrupt\u001b[0m                         Traceback (most recent call last)",
      "\u001b[1;32m<ipython-input-32-ff5b111a760e>\u001b[0m in \u001b[0;36m<module>\u001b[1;34m\u001b[0m\n\u001b[0;32m      1\u001b[0m \u001b[1;31m#train the model\u001b[0m\u001b[1;33m\u001b[0m\u001b[1;33m\u001b[0m\u001b[1;33m\u001b[0m\u001b[0m\n\u001b[1;32m----> 2\u001b[1;33m hist = f16_model.fit(\n\u001b[0m\u001b[0;32m      3\u001b[0m     \u001b[0mtrain_dataset\u001b[0m\u001b[1;33m,\u001b[0m\u001b[1;33m\u001b[0m\u001b[1;33m\u001b[0m\u001b[0m\n\u001b[0;32m      4\u001b[0m     \u001b[0mvalidation_data\u001b[0m\u001b[1;33m=\u001b[0m\u001b[0mval_dataset\u001b[0m\u001b[1;33m,\u001b[0m\u001b[1;33m\u001b[0m\u001b[1;33m\u001b[0m\u001b[0m\n\u001b[0;32m      5\u001b[0m     \u001b[0mepochs\u001b[0m\u001b[1;33m=\u001b[0m\u001b[1;36m75\u001b[0m\u001b[1;33m,\u001b[0m\u001b[1;33m\u001b[0m\u001b[1;33m\u001b[0m\u001b[0m\n",
      "\u001b[1;32mE:\\projects\\DaKanjiRecognizerML\\.venv\\lib\\site-packages\\tensorflow\\python\\keras\\engine\\training.py\u001b[0m in \u001b[0;36mfit\u001b[1;34m(self, x, y, batch_size, epochs, verbose, callbacks, validation_split, validation_data, shuffle, class_weight, sample_weight, initial_epoch, steps_per_epoch, validation_steps, validation_batch_size, validation_freq, max_queue_size, workers, use_multiprocessing)\u001b[0m\n\u001b[0;32m   1181\u001b[0m                 _r=1):\n\u001b[0;32m   1182\u001b[0m               \u001b[0mcallbacks\u001b[0m\u001b[1;33m.\u001b[0m\u001b[0mon_train_batch_begin\u001b[0m\u001b[1;33m(\u001b[0m\u001b[0mstep\u001b[0m\u001b[1;33m)\u001b[0m\u001b[1;33m\u001b[0m\u001b[1;33m\u001b[0m\u001b[0m\n\u001b[1;32m-> 1183\u001b[1;33m               \u001b[0mtmp_logs\u001b[0m \u001b[1;33m=\u001b[0m \u001b[0mself\u001b[0m\u001b[1;33m.\u001b[0m\u001b[0mtrain_function\u001b[0m\u001b[1;33m(\u001b[0m\u001b[0miterator\u001b[0m\u001b[1;33m)\u001b[0m\u001b[1;33m\u001b[0m\u001b[1;33m\u001b[0m\u001b[0m\n\u001b[0m\u001b[0;32m   1184\u001b[0m               \u001b[1;32mif\u001b[0m \u001b[0mdata_handler\u001b[0m\u001b[1;33m.\u001b[0m\u001b[0mshould_sync\u001b[0m\u001b[1;33m:\u001b[0m\u001b[1;33m\u001b[0m\u001b[1;33m\u001b[0m\u001b[0m\n\u001b[0;32m   1185\u001b[0m                 \u001b[0mcontext\u001b[0m\u001b[1;33m.\u001b[0m\u001b[0masync_wait\u001b[0m\u001b[1;33m(\u001b[0m\u001b[1;33m)\u001b[0m\u001b[1;33m\u001b[0m\u001b[1;33m\u001b[0m\u001b[0m\n",
      "\u001b[1;32mE:\\projects\\DaKanjiRecognizerML\\.venv\\lib\\site-packages\\tensorflow\\python\\eager\\def_function.py\u001b[0m in \u001b[0;36m__call__\u001b[1;34m(self, *args, **kwds)\u001b[0m\n\u001b[0;32m    887\u001b[0m \u001b[1;33m\u001b[0m\u001b[0m\n\u001b[0;32m    888\u001b[0m       \u001b[1;32mwith\u001b[0m \u001b[0mOptionalXlaContext\u001b[0m\u001b[1;33m(\u001b[0m\u001b[0mself\u001b[0m\u001b[1;33m.\u001b[0m\u001b[0m_jit_compile\u001b[0m\u001b[1;33m)\u001b[0m\u001b[1;33m:\u001b[0m\u001b[1;33m\u001b[0m\u001b[1;33m\u001b[0m\u001b[0m\n\u001b[1;32m--> 889\u001b[1;33m         \u001b[0mresult\u001b[0m \u001b[1;33m=\u001b[0m \u001b[0mself\u001b[0m\u001b[1;33m.\u001b[0m\u001b[0m_call\u001b[0m\u001b[1;33m(\u001b[0m\u001b[1;33m*\u001b[0m\u001b[0margs\u001b[0m\u001b[1;33m,\u001b[0m \u001b[1;33m**\u001b[0m\u001b[0mkwds\u001b[0m\u001b[1;33m)\u001b[0m\u001b[1;33m\u001b[0m\u001b[1;33m\u001b[0m\u001b[0m\n\u001b[0m\u001b[0;32m    890\u001b[0m \u001b[1;33m\u001b[0m\u001b[0m\n\u001b[0;32m    891\u001b[0m       \u001b[0mnew_tracing_count\u001b[0m \u001b[1;33m=\u001b[0m \u001b[0mself\u001b[0m\u001b[1;33m.\u001b[0m\u001b[0mexperimental_get_tracing_count\u001b[0m\u001b[1;33m(\u001b[0m\u001b[1;33m)\u001b[0m\u001b[1;33m\u001b[0m\u001b[1;33m\u001b[0m\u001b[0m\n",
      "\u001b[1;32mE:\\projects\\DaKanjiRecognizerML\\.venv\\lib\\site-packages\\tensorflow\\python\\eager\\def_function.py\u001b[0m in \u001b[0;36m_call\u001b[1;34m(self, *args, **kwds)\u001b[0m\n\u001b[0;32m    915\u001b[0m       \u001b[1;31m# In this case we have created variables on the first call, so we run the\u001b[0m\u001b[1;33m\u001b[0m\u001b[1;33m\u001b[0m\u001b[1;33m\u001b[0m\u001b[0m\n\u001b[0;32m    916\u001b[0m       \u001b[1;31m# defunned version which is guaranteed to never create variables.\u001b[0m\u001b[1;33m\u001b[0m\u001b[1;33m\u001b[0m\u001b[1;33m\u001b[0m\u001b[0m\n\u001b[1;32m--> 917\u001b[1;33m       \u001b[1;32mreturn\u001b[0m \u001b[0mself\u001b[0m\u001b[1;33m.\u001b[0m\u001b[0m_stateless_fn\u001b[0m\u001b[1;33m(\u001b[0m\u001b[1;33m*\u001b[0m\u001b[0margs\u001b[0m\u001b[1;33m,\u001b[0m \u001b[1;33m**\u001b[0m\u001b[0mkwds\u001b[0m\u001b[1;33m)\u001b[0m  \u001b[1;31m# pylint: disable=not-callable\u001b[0m\u001b[1;33m\u001b[0m\u001b[1;33m\u001b[0m\u001b[0m\n\u001b[0m\u001b[0;32m    918\u001b[0m     \u001b[1;32melif\u001b[0m \u001b[0mself\u001b[0m\u001b[1;33m.\u001b[0m\u001b[0m_stateful_fn\u001b[0m \u001b[1;32mis\u001b[0m \u001b[1;32mnot\u001b[0m \u001b[1;32mNone\u001b[0m\u001b[1;33m:\u001b[0m\u001b[1;33m\u001b[0m\u001b[1;33m\u001b[0m\u001b[0m\n\u001b[0;32m    919\u001b[0m       \u001b[1;31m# Release the lock early so that multiple threads can perform the call\u001b[0m\u001b[1;33m\u001b[0m\u001b[1;33m\u001b[0m\u001b[1;33m\u001b[0m\u001b[0m\n",
      "\u001b[1;32mE:\\projects\\DaKanjiRecognizerML\\.venv\\lib\\site-packages\\tensorflow\\python\\eager\\function.py\u001b[0m in \u001b[0;36m__call__\u001b[1;34m(self, *args, **kwargs)\u001b[0m\n\u001b[0;32m   3021\u001b[0m       (graph_function,\n\u001b[0;32m   3022\u001b[0m        filtered_flat_args) = self._maybe_define_function(args, kwargs)\n\u001b[1;32m-> 3023\u001b[1;33m     return graph_function._call_flat(\n\u001b[0m\u001b[0;32m   3024\u001b[0m         filtered_flat_args, captured_inputs=graph_function.captured_inputs)  # pylint: disable=protected-access\n\u001b[0;32m   3025\u001b[0m \u001b[1;33m\u001b[0m\u001b[0m\n",
      "\u001b[1;32mE:\\projects\\DaKanjiRecognizerML\\.venv\\lib\\site-packages\\tensorflow\\python\\eager\\function.py\u001b[0m in \u001b[0;36m_call_flat\u001b[1;34m(self, args, captured_inputs, cancellation_manager)\u001b[0m\n\u001b[0;32m   1958\u001b[0m         and executing_eagerly):\n\u001b[0;32m   1959\u001b[0m       \u001b[1;31m# No tape is watching; skip to running the function.\u001b[0m\u001b[1;33m\u001b[0m\u001b[1;33m\u001b[0m\u001b[1;33m\u001b[0m\u001b[0m\n\u001b[1;32m-> 1960\u001b[1;33m       return self._build_call_outputs(self._inference_function.call(\n\u001b[0m\u001b[0;32m   1961\u001b[0m           ctx, args, cancellation_manager=cancellation_manager))\n\u001b[0;32m   1962\u001b[0m     forward_backward = self._select_forward_and_backward_functions(\n",
      "\u001b[1;32mE:\\projects\\DaKanjiRecognizerML\\.venv\\lib\\site-packages\\tensorflow\\python\\eager\\function.py\u001b[0m in \u001b[0;36mcall\u001b[1;34m(self, ctx, args, cancellation_manager)\u001b[0m\n\u001b[0;32m    589\u001b[0m       \u001b[1;32mwith\u001b[0m \u001b[0m_InterpolateFunctionError\u001b[0m\u001b[1;33m(\u001b[0m\u001b[0mself\u001b[0m\u001b[1;33m)\u001b[0m\u001b[1;33m:\u001b[0m\u001b[1;33m\u001b[0m\u001b[1;33m\u001b[0m\u001b[0m\n\u001b[0;32m    590\u001b[0m         \u001b[1;32mif\u001b[0m \u001b[0mcancellation_manager\u001b[0m \u001b[1;32mis\u001b[0m \u001b[1;32mNone\u001b[0m\u001b[1;33m:\u001b[0m\u001b[1;33m\u001b[0m\u001b[1;33m\u001b[0m\u001b[0m\n\u001b[1;32m--> 591\u001b[1;33m           outputs = execute.execute(\n\u001b[0m\u001b[0;32m    592\u001b[0m               \u001b[0mstr\u001b[0m\u001b[1;33m(\u001b[0m\u001b[0mself\u001b[0m\u001b[1;33m.\u001b[0m\u001b[0msignature\u001b[0m\u001b[1;33m.\u001b[0m\u001b[0mname\u001b[0m\u001b[1;33m)\u001b[0m\u001b[1;33m,\u001b[0m\u001b[1;33m\u001b[0m\u001b[1;33m\u001b[0m\u001b[0m\n\u001b[0;32m    593\u001b[0m               \u001b[0mnum_outputs\u001b[0m\u001b[1;33m=\u001b[0m\u001b[0mself\u001b[0m\u001b[1;33m.\u001b[0m\u001b[0m_num_outputs\u001b[0m\u001b[1;33m,\u001b[0m\u001b[1;33m\u001b[0m\u001b[1;33m\u001b[0m\u001b[0m\n",
      "\u001b[1;32mE:\\projects\\DaKanjiRecognizerML\\.venv\\lib\\site-packages\\tensorflow\\python\\eager\\execute.py\u001b[0m in \u001b[0;36mquick_execute\u001b[1;34m(op_name, num_outputs, inputs, attrs, ctx, name)\u001b[0m\n\u001b[0;32m     57\u001b[0m   \u001b[1;32mtry\u001b[0m\u001b[1;33m:\u001b[0m\u001b[1;33m\u001b[0m\u001b[1;33m\u001b[0m\u001b[0m\n\u001b[0;32m     58\u001b[0m     \u001b[0mctx\u001b[0m\u001b[1;33m.\u001b[0m\u001b[0mensure_initialized\u001b[0m\u001b[1;33m(\u001b[0m\u001b[1;33m)\u001b[0m\u001b[1;33m\u001b[0m\u001b[1;33m\u001b[0m\u001b[0m\n\u001b[1;32m---> 59\u001b[1;33m     tensors = pywrap_tfe.TFE_Py_Execute(ctx._handle, device_name, op_name,\n\u001b[0m\u001b[0;32m     60\u001b[0m                                         inputs, attrs, num_outputs)\n\u001b[0;32m     61\u001b[0m   \u001b[1;32mexcept\u001b[0m \u001b[0mcore\u001b[0m\u001b[1;33m.\u001b[0m\u001b[0m_NotOkStatusException\u001b[0m \u001b[1;32mas\u001b[0m \u001b[0me\u001b[0m\u001b[1;33m:\u001b[0m\u001b[1;33m\u001b[0m\u001b[1;33m\u001b[0m\u001b[0m\n",
      "\u001b[1;31mKeyboardInterrupt\u001b[0m: "
     ]
    }
   ],
   "source": [
    "#train the model\n",
    "hist = f16_model.fit(\n",
    "    train_dataset,\n",
    "    validation_data=val_dataset,\n",
    "    epochs=75,\n",
    "    initial_epoch=0,\n",
    "    workers=16,\n",
    "    use_multiprocessing=True,\n",
    "    callbacks=callbacks_list\n",
    ")"
   ]
  },
  {
   "cell_type": "markdown",
   "metadata": {},
   "source": [
    "## Evaluating the model\n",
    "\n",
    "After training plot the loss and accuracy for the test and validation sets."
   ]
  },
  {
   "cell_type": "code",
   "execution_count": null,
   "metadata": {},
   "outputs": [],
   "source": [
    "f16_model.evaluate(val_dataset, workers=16, use_multiprocessing=True)"
   ]
  },
  {
   "cell_type": "code",
   "execution_count": null,
   "metadata": {},
   "outputs": [],
   "source": [
    "# reload values from file if necessary\n",
    "#f16_model.load_weights(os.path.join(model_dir, \"tf\", \"checkpoints_own_cnn\", \"weights-improvement-73-0.97.hdf5\"))\n",
    "#f16_model.compile()"
   ]
  },
  {
   "cell_type": "code",
   "execution_count": null,
   "metadata": {},
   "outputs": [],
   "source": [
    "# load a sample\n",
    "sample = tf.keras.preprocessing.image.load_img(\n",
    "    path= r\"Z:\\data_sets\\etlcdb\\1540\\42.jpg\",\n",
    "    color_mode=\"grayscale\",\n",
    "    target_size=(64, 64)\n",
    ")\n",
    "sample = tf.keras.preprocessing.image.img_to_array(sample)\n",
    "sample = sample.reshape((1, 64, 64, 1)) / 255\n",
    "\n",
    "# run inference\n",
    "prediction = eff_net_lite.predict(sample)[0]\n",
    "\n",
    "# output 10 most liekly predictions\n",
    "ind = np.argpartition(prediction, -10)[-10:]\n",
    "q = ind[np.argsort(prediction[ind])]\n",
    "print([ordered_labels[i] for i in reversed(q)])\n",
    "\n",
    "# show the most confident prediction and the image\n",
    "show_image(sample.reshape((64, 64)), ls[prediction.argmax()] + \" - %.2f\" % prediction.max())"
   ]
  },
  {
   "cell_type": "markdown",
   "metadata": {},
   "source": [
    "## Pruning"
   ]
  },
  {
   "cell_type": "code",
   "execution_count": null,
   "metadata": {},
   "outputs": [],
   "source": [
    "policy = tf.keras.mixed_precision.Policy('float32')\n",
    "tf.keras.mixed_precision.set_global_policy(policy)\n",
    "\n",
    "# Create a new EfficientNet Lite (with float 32) and restore the weights\n",
    "eff = tf.keras.Sequential([EfficientNetLiteB0(\n",
    "    include_top=True,\n",
    "    weights=None,\n",
    "    input_shape=(64, 64, 1),\n",
    "    classes=len(ls),\n",
    "    pooling=\"max\",\n",
    "    classifier_activation=\"softmax\"\n",
    ")])\n",
    "eff.set_weights(eff_net_lite.get_weights())\n",
    "\n",
    "pruning_model = tf.keras.Sequential([\n",
    "    tf.keras.layers.InputLayer(input_shape=(None, None, 1)),\n",
    "    PreprocessTFLayer(),\n",
    "    eff,\n",
    "])\n",
    "\n",
    "pruning_model.summary()"
   ]
  },
  {
   "cell_type": "code",
   "execution_count": null,
   "metadata": {},
   "outputs": [],
   "source": [
    "import tensorflow_model_optimization as tfmot\n",
    "\n",
    "prune_low_magnitude = tfmot.sparsity.keras.prune_low_magnitude\n",
    "\n",
    "# Compute end step to finish pruning after 2 epochs.\n",
    "val_samples = 727710\n",
    "num_images = val_samples * (1 - validation_split)\n",
    "end_step = np.ceil(num_images / bs).astype(np.int32) * epochs\n",
    "\n",
    "# Define model for pruning.\n",
    "pruning_params = {\n",
    "      'pruning_schedule': tfmot.sparsity.keras.PolynomialDecay(initial_sparsity=0.50,\n",
    "                                                               final_sparsity=0.80,\n",
    "                                                               begin_step=0,\n",
    "                                                               end_step=end_step)\n",
    "}\n",
    "\n",
    "model_for_pruning = prune_low_magnitude(pruning_model, **pruning_params)\n",
    "\n",
    "# `prune_low_magnitude` requires a recompile.\n",
    "model_for_pruning.compile(optimizer='adam',\n",
    "              loss=tf.keras.losses.SparseCategoricalCrossentropy(),\n",
    "              metrics=['accuracy'])\n",
    "\n",
    "model_for_pruning.summary()"
   ]
  },
  {
   "cell_type": "code",
   "execution_count": null,
   "metadata": {},
   "outputs": [],
   "source": [
    "logdir = tempfile.mkdtemp()\n",
    "\n",
    "callbacks = [\n",
    "  tfmot.sparsity.keras.UpdatePruningStep(),\n",
    "  tfmot.sparsity.keras.PruningSummaries(log_dir=logdir),\n",
    "]\n",
    "\n",
    "model_for_pruning.fit(    \n",
    "    train_dataset,\n",
    "    validation_data=val_dataset,\n",
    "    epochs=2,\n",
    "    initial_epoch=0,\n",
    "    workers=16,\n",
    "    use_multiprocessing=True,\n",
    "    callbacks=callbacks\n",
    ")"
   ]
  },
  {
   "cell_type": "code",
   "execution_count": null,
   "metadata": {},
   "outputs": [],
   "source": [
    "model_for_pruning.evaluate(val_dataset, workers=16, use_multiprocessing=True)"
   ]
  },
  {
   "cell_type": "markdown",
   "metadata": {},
   "source": [
    "## Saving the model\n",
    "\n",
    "The model is perfoming very well therefore save the trained model as a \"*.pb\" file."
   ]
  },
  {
   "cell_type": "code",
   "execution_count": null,
   "metadata": {},
   "outputs": [],
   "source": [
    "pruning_model.save(\n",
    "    os.path.join(model_dir, \"tf\", \"trained_model\"),\n",
    ")"
   ]
  },
  {
   "cell_type": "markdown",
   "metadata": {},
   "source": [
    "Finally convert the model to a TF-Light model to be used in applications."
   ]
  },
  {
   "cell_type": "code",
   "execution_count": null,
   "metadata": {},
   "outputs": [],
   "source": [
    "# Convert the model\n",
    "converter = tf.lite.TFLiteConverter.from_keras_model(pruning_model)\n",
    "\n",
    "# set quantization, additional ops\n",
    "converter.optimizations = [tf.lite.Optimize.DEFAULT]\n",
    "converter.target_spec.supported_types = [tf.float16]\n",
    "\n",
    "tflite_model = converter.convert()\n",
    "\n",
    "# Save the model.\n",
    "print(os.path.join(model_dir, \"tflite\", \"model.tflite\"))\n",
    "with open(os.path.join(model_dir, \"tflite\", \"model.tflite\"), 'wb') as f:\n",
    "  f.write(tflite_model)\n"
   ]
  },
  {
   "cell_type": "code",
   "execution_count": null,
   "metadata": {},
   "outputs": [],
   "source": [
    "size = 256\n",
    "\n",
    "# create a tf lite interpreter\n",
    "interpreter = tf.lite.Interpreter(os.path.join(model_dir, \"tflite\", \"model.tflite\"))\n",
    "\n",
    "# resize the input tensor\n",
    "interpreter.resize_tensor_input(0, [1, size, size, 1])\n",
    "interpreter.allocate_tensors()\n",
    "\n",
    "# Test the model on random input data.\n",
    "input_shape = input_details[0]['shape']\n",
    "sample = tf.keras.preprocessing.image.load_img(\n",
    "    path= r\"Z:\\data_sets\\etlcdb\\6340\\300.jpg\",\n",
    "    color_mode=\"grayscale\",\n",
    "    target_size=(size, size)\n",
    ")\n",
    "sample = tf.keras.preprocessing.image.img_to_array(sample).reshape((1, size, size, 1))\n",
    "interpreter.set_tensor(input_details[0]['index'], sample)\n",
    "\n",
    "# run interpreter\n",
    "interpreter.invoke()\n",
    "output_data = interpreter.get_tensor(interpreter.get_output_details()[0]['index'])\n",
    "\n",
    "# show prediction\n",
    "title = ls[output_data.argmax()] + str(output_data[0][output_data.argmax()])\n",
    "show_image(sample.reshape(size, size), title)"
   ]
  }
 ],
 "metadata": {
  "interpreter": {
   "hash": "7b66e6ad73e4584ec1c4fbbc9ad8719d99baf4738cd57ba39e580b8e9994d93a"
  },
  "kernelspec": {
   "display_name": "Python 3 (ipykernel)",
   "language": "python",
   "name": "python3"
  },
  "language_info": {
   "codemirror_mode": {
    "name": "ipython",
    "version": 3
   },
   "file_extension": ".py",
   "mimetype": "text/x-python",
   "name": "python",
   "nbconvert_exporter": "python",
   "pygments_lexer": "ipython3",
   "version": "3.9.0"
  }
 },
 "nbformat": 4,
 "nbformat_minor": 4
}
