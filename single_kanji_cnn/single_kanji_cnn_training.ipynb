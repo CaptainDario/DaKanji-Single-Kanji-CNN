{
 "cells": [
  {
   "cell_type": "markdown",
   "metadata": {},
   "source": [
    "# DaKanjiRecognizer - Single Kanji CNN : Training\n",
    "## Setup\n",
    "\n",
    "Import the needed libraries."
   ]
  },
  {
   "cell_type": "code",
   "execution_count": 1,
   "metadata": {},
   "outputs": [],
   "source": [
    "#std lib\n",
    "import sys\n",
    "import os\n",
    "import time\n",
    "import datetime\n",
    "\n",
    "#ML\n",
    "import tensorflow as tf\n",
    "import numpy as np\n",
    "\n",
    "from PIL import Image\n",
    "\n",
    "# data augmentation\n",
    "from erasing import random_erasing\n",
    "\n",
    "#plotting/showing graphics\n",
    "%matplotlib inline\n",
    "import matplotlib.pyplot as plt\n",
    "from IPython.display import Image"
   ]
  },
  {
   "cell_type": "markdown",
   "metadata": {},
   "source": [
    "Enable mixed precision."
   ]
  },
  {
   "cell_type": "code",
   "execution_count": 2,
   "metadata": {},
   "outputs": [
    {
     "name": "stdout",
     "output_type": "stream",
     "text": [
      "INFO:tensorflow:Mixed precision compatibility check (mixed_float16): OK\n",
      "Your GPU will likely run quickly with dtype policy mixed_float16 as it has compute capability of at least 7.0. Your GPU: NVIDIA GeForce RTX 2070 SUPER, compute capability 7.5\n"
     ]
    }
   ],
   "source": [
    "policy = tf.keras.mixed_precision.Policy('mixed_float16')\n",
    "tf.keras.mixed_precision.set_global_policy(policy)"
   ]
  },
  {
   "cell_type": "markdown",
   "metadata": {},
   "source": [
    "Because the data sets are big let's make sure that the GPU is available to speed up training."
   ]
  },
  {
   "cell_type": "code",
   "execution_count": 3,
   "metadata": {},
   "outputs": [
    {
     "name": "stdout",
     "output_type": "stream",
     "text": [
      "GPUs Available:  /device:GPU:0\n"
     ]
    }
   ],
   "source": [
    "print(\"GPUs Available: \", tf.test.gpu_device_name())"
   ]
  },
  {
   "cell_type": "markdown",
   "metadata": {},
   "source": [
    "## Setting up the Data pipeline\n",
    "\n",
    "Read the labels for each class from file."
   ]
  },
  {
   "cell_type": "code",
   "execution_count": 4,
   "metadata": {},
   "outputs": [],
   "source": [
    "labels_1, labels_2, labels = [], [], []\n",
    "\n",
    "# load labels from file\n",
    "with open(r'F:\\data_sets\\etlcdb\\encoding_1.txt', mode=\"r\", encoding=\"utf-8\") as f:\n",
    "    labels_1 = list(eval(f.read()).keys())\n",
    "with open(r'F:\\data_sets\\etlcdb\\encoding_2.txt', mode=\"r\", encoding=\"utf-8\") as f:\n",
    "    labels_2 = list(eval(f.read()).keys())\n",
    "\n",
    "ls = labels_1 + labels_2\n",
    "# order the labels\n",
    "indexs = sorted([str(i) for i in range(0, len(ls))])\n",
    "ordered_labels = [ls[int(i)] for i in indexs]\n",
    "\n",
    "# save the labels to text files\n",
    "with open(r'E:\\projects\\DaKanjiRecognizerML\\single_kanji_cnn\\labels.txt', mode=\"w+\", encoding=\"utf-8\") as f:  \n",
    "    f.write(''.join(ls))"
   ]
  },
  {
   "cell_type": "markdown",
   "metadata": {},
   "source": [
    "Create a `tf.keras.dataset` from the saved files for test and validation."
   ]
  },
  {
   "cell_type": "code",
   "execution_count": 6,
   "metadata": {},
   "outputs": [],
   "source": [
    "#batch size\n",
    "bs=1024\n",
    "h, w = 64, 64\n",
    "# class names\n",
    "classes = [str(i) for i in range(len(ls))]"
   ]
  },
  {
   "cell_type": "code",
   "execution_count": 7,
   "metadata": {},
   "outputs": [],
   "source": [
    "#define a font to show japanese characters in matplotlib figures\n",
    "import matplotlib.font_manager as fm\n",
    "show_sample_font = fm.FontProperties(fname=os.path.join(\"..\", \"fonts\", \"NotoSerifCJKjp-Regular.otf\"), size=20)\n",
    "\n",
    "def show_image(img : np.array, label : str):\n",
    "    plt.figure(figsize=(2.2, 2.2))\n",
    "    plt.title(label=label, font=show_sample_font)\n",
    "    plt.axis(\"off\")\n",
    "    plt.imshow(img.astype(np.float64), cmap=\"gray\")"
   ]
  },
  {
   "cell_type": "markdown",
   "metadata": {},
   "source": [
    "## Preprocessing functions and data generator"
   ]
  },
  {
   "cell_type": "code",
   "execution_count": 145,
   "metadata": {},
   "outputs": [],
   "source": [
    "def image_augmentation(x : tf.Tensor):\n",
    "    \"\"\"\n",
    "    Augments the given image `x` randomly by applying:\n",
    "        * erasing augmentation\n",
    "        * elastic distortion\n",
    "        \n",
    "    Args:\n",
    "        x : The image which should be augmented\n",
    "        \n",
    "    Returns:\n",
    "        The augmented image.\n",
    "    \"\"\"\n",
    "    \n",
    "    x = x / tf.math.reduce_max(x)\n",
    "    x = random_erasing(x, probability=1, sl = 0.02, sh = 0.15, method=\"black\")\n",
    "    \n",
    "    \n",
    "    return x"
   ]
  },
  {
   "cell_type": "code",
   "execution_count": 146,
   "metadata": {},
   "outputs": [],
   "source": [
    "datagen = tf.keras.preprocessing.image.ImageDataGenerator(\n",
    "    brightness_range=(0.0, 1.0),\n",
    "    shear_range=30.0,\n",
    "    channel_shift_range=0.5,\n",
    "    fill_mode=\"constant\",\n",
    "    cval=0.0,\n",
    "    preprocessing_function=image_augmentation,\n",
    "    data_format=\"channels_last\",\n",
    "    validation_split=0.85\n",
    ")"
   ]
  },
  {
   "cell_type": "markdown",
   "metadata": {},
   "source": [
    "## create train dataset"
   ]
  },
  {
   "cell_type": "markdown",
   "metadata": {},
   "source": [
    "## create validation dataset"
   ]
  },
  {
   "cell_type": "code",
   "execution_count": 147,
   "metadata": {},
   "outputs": [
    {
     "name": "stdout",
     "output_type": "stream",
     "text": [
      "Found 15240 images belonging to 6507 classes.\n"
     ]
    }
   ],
   "source": [
    "val_datagen = datagen.flow_from_directory(\n",
    "    r'F:\\data_sets\\etlcdb_test',\n",
    "    target_size=(h, w),\n",
    "    batch_size=32,\n",
    "    class_mode=\"categorical\",\n",
    "    classes=classes,\n",
    "    subset=\"validation\"\n",
    ")"
   ]
  },
  {
   "cell_type": "code",
   "execution_count": 149,
   "metadata": {},
   "outputs": [
    {
     "data": {
      "image/png": "[encoded data removed]",
      "text/plain": [
       "<Figure size 432x288 with 1 Axes>"
      ]
     },
     "metadata": {
      "needs_background": "light"
     },
     "output_type": "display_data"
    }
   ],
   "source": [
    "for i, l in val_datagen:\n",
    "    plt.imshow(i[0] / i[0].max())\n",
    "    break"
   ]
  },
  {
   "cell_type": "code",
   "execution_count": 166,
   "metadata": {},
   "outputs": [
    {
     "data": {
      "image/png": "[encoded data removed]",
      "text/plain": [
       "<Figure size 432x288 with 1 Axes>"
      ]
     },
     "metadata": {
      "needs_background": "light"
     },
     "output_type": "display_data"
    }
   ],
   "source": [
    "val_dataset = tf.data.Dataset.from_generator(\n",
    "    lambda: val_datagen,\n",
    "    output_types = (tf.float32, tf.float32),\n",
    "    output_shapes = ([None, 64, 64, 1], [None, len(classes)]),\n",
    ")\n",
    "\n",
    "val_dataset = val_dataset.map(lambda x, y : (tf.cast(x, dtype=tf.float16), tf.cast(y, dtype=tf.float16)))\n",
    "val_dataset = val_dataset.cache(r\"F:\\data_sets\\etlcdb_cache\\cache_test\")\n",
    "val_dataset = val_dataset.shuffle(buffer_size=bs*2)\n",
    "val_dataset = val_dataset.prefetch(buffer_size=tf.data.AUTOTUNE)\n",
    "\n",
    "print(val_dataset.take(1))"
   ]
  },
  {
   "cell_type": "markdown",
   "metadata": {},
   "source": [
    "## Defining and training the CNN\n",
    "First create image augmentation layers."
   ]
  },
  {
   "cell_type": "code",
   "execution_count": null,
   "metadata": {},
   "outputs": [],
   "source": [
    "from tensorflow.keras.layers.experimental.preprocessing import Resizing, Rescaling, RandomZoom, RandomRotation, RandomTranslation\n",
    "\n",
    "img_augmentation = tf.keras.Sequential(\n",
    "    [\n",
    "        # resize images and rescale values\n",
    "        Resizing(64, 64, \"lanczos3\"),\n",
    "        Rescaling(scale=1.0/255),\n",
    "\n",
    "        # random data augmentation\n",
    "        RandomZoom(height_factor=(-0.2, 1.0), width_factor=(-0.2, 1.0), \n",
    "            fill_mode='constant', interpolation='bilinear', fill_value=0.0\n",
    "        ),\n",
    "        RandomTranslation(0.2, 0.2, fill_mode=\"constant\"),\n",
    "        RandomRotation(factor=(-0.1, 0.1) , fill_mode='constant', interpolation='bilinear'),\n",
    "        \n",
    "    ],\n",
    "    name = \"img_augmentation\"\n",
    ")"
   ]
  },
  {
   "cell_type": "markdown",
   "metadata": {},
   "source": [
    "Make sure the image augmentaiton layers are working."
   ]
  },
  {
   "cell_type": "code",
   "execution_count": null,
   "metadata": {},
   "outputs": [],
   "source": [
    "imgs, lbs = [], []\n",
    "for images, labels in val.take(1):\n",
    "    for img, label in zip(images, labels):\n",
    "        imgs.append(img.numpy())\n",
    "        lbs.append(label.numpy())"
   ]
  },
  {
   "cell_type": "code",
   "execution_count": null,
   "metadata": {},
   "outputs": [],
   "source": [
    "plt.figure(figsize=(10, 10))\n",
    "\n",
    "for i in range(9):\n",
    "    augmented_images = img_augmentation(images)\n",
    "    ax = plt.subplot(3, 3, i + 1)\n",
    "    plt.imshow(augmented_images[0].numpy().reshape((64, 64)).astype(np.float64), cmap=\"gray\")\n",
    "    plt.axis(\"off\")"
   ]
  },
  {
   "cell_type": "code",
   "execution_count": 13,
   "metadata": {},
   "outputs": [
    {
     "data": {
      "text/plain": [
       "<matplotlib.image.AxesImage at 0x25531a31fd0>"
      ]
     },
     "execution_count": 13,
     "metadata": {},
     "output_type": "execute_result"
    },
    {
     "data": {
      "image/png": "[encoded data removed]",
      "text/plain": [
       "<Figure size 432x288 with 1 Axes>"
      ]
     },
     "metadata": {
      "needs_background": "light"
     },
     "output_type": "display_data"
    }
   ],
   "source": [
    "# load a sample\n",
    "sample = tf.keras.preprocessing.image.load_img(\n",
    "    path= r\"F:\\data_sets\\etlcdb\\1540\\42.jpg\",\n",
    "    color_mode=\"grayscale\",\n",
    "    target_size=(64, 64)\n",
    ")\n",
    "\n",
    "sample = tf.keras.preprocessing.image.img_to_array(sample)\n",
    "sample = sample.reshape((64, 64, 1)) / 255\n",
    "\n",
    "sample = random_erasing(sample, probability=1.0, sl = 0.02, sh = 0.3, method=\"random\")\n",
    "\n",
    "plt.imshow(sample.numpy().reshape((64, 64)).astype(np.float64), cmap=\"gray\")\n"
   ]
  },
  {
   "cell_type": "markdown",
   "metadata": {},
   "source": [
    "Create an EfficientNetLite"
   ]
  },
  {
   "cell_type": "code",
   "execution_count": 15,
   "metadata": {},
   "outputs": [],
   "source": [
    "from efficientnet_lite import EfficientNetLiteB0\n",
    "\n",
    "eff_net_lite = EfficientNetLiteB0(\n",
    "    include_top=True,\n",
    "    weights=None,\n",
    "    input_shape=(64, 64, 1),\n",
    "    classes=len(ls),\n",
    "    pooling=\"max\",\n",
    "    classifier_activation=\"softmax\"\n",
    ")"
   ]
  },
  {
   "cell_type": "markdown",
   "metadata": {},
   "source": [
    "Merge EfficientNet and preprocessing layers to one model."
   ]
  },
  {
   "cell_type": "code",
   "execution_count": 16,
   "metadata": {},
   "outputs": [
    {
     "name": "stdout",
     "output_type": "stream",
     "text": [
      "Model: \"EfficientNet\"\n",
      "_________________________________________________________________\n",
      "Layer (type)                 Output Shape              Param #   \n",
      "=================================================================\n",
      "input_2 (InputLayer)         [(None, None, None, 1)]   0         \n",
      "_________________________________________________________________\n",
      "img_augmentation (Sequential (None, 64, 64, 1)         0         \n",
      "_________________________________________________________________\n",
      "efficientnetlite0 (Functiona (None, 6543)              11794031  \n",
      "=================================================================\n",
      "Total params: 11,794,031\n",
      "Trainable params: 11,752,015\n",
      "Non-trainable params: 42,016\n",
      "_________________________________________________________________\n"
     ]
    }
   ],
   "source": [
    "inputs = tf.keras.layers.Input(shape=(None, None, 1))\n",
    "x = img_augmentation(inputs)\n",
    "outputs = eff_net_lite(x)\n",
    "\n",
    "f16_model = tf.keras.Model(inputs, outputs, name=\"EfficientNet\")\n",
    "\n",
    "f16_model.summary()"
   ]
  },
  {
   "cell_type": "markdown",
   "metadata": {},
   "source": [
    "Optionally load stored weights to resume training."
   ]
  },
  {
   "cell_type": "code",
   "execution_count": 17,
   "metadata": {},
   "outputs": [
    {
     "name": "stdout",
     "output_type": "stream",
     "text": [
      "model_dir: E:\\projects\\DaKanjiRecognizerML\\single_kanji_cnn\\model\n"
     ]
    }
   ],
   "source": [
    "#path where the model should be saved\n",
    "model_dir = os.path.join(os.getcwd(), \"model\")\n",
    "print(\"model_dir:\", model_dir)"
   ]
  },
  {
   "cell_type": "code",
   "execution_count": 25,
   "metadata": {},
   "outputs": [],
   "source": [
    "#f16_model.load_weights(os.path.join(model_dir, \"tf\", \"checkpoints\", \"weights-improvement-14-0.94.hdf5\"))"
   ]
  },
  {
   "cell_type": "markdown",
   "metadata": {},
   "source": [
    "Set the optimizer, loss function and compile the model"
   ]
  },
  {
   "cell_type": "code",
   "execution_count": 18,
   "metadata": {},
   "outputs": [],
   "source": [
    "l_r = 0.001\n",
    "opt = tf.keras.optimizers.Adam(learning_rate=l_r)\n",
    "\n",
    "METRICS = [\n",
    "    'accuracy', \n",
    "    tf.keras.metrics.Precision(name='precision'),\n",
    "    tf.keras.metrics.Recall(name='recall'),\n",
    "]\n",
    "\n",
    "f16_model.compile(optimizer=opt, loss=\"categorical_crossentropy\", metrics=METRICS)"
   ]
  },
  {
   "cell_type": "markdown",
   "metadata": {},
   "source": [
    "Create a learning rate scheduler."
   ]
  },
  {
   "cell_type": "code",
   "execution_count": 19,
   "metadata": {},
   "outputs": [],
   "source": [
    "def scheduler(epoch, lr):\n",
    "    return l_r - ((l_r / 100 * 4) * (epoch // 3))\n",
    "\n",
    "scheduler_callback = tf.keras.callbacks.LearningRateScheduler(scheduler, verbose=1)\n",
    "callbacks_list = [scheduler_callback]"
   ]
  },
  {
   "cell_type": "code",
   "execution_count": 20,
   "metadata": {
    "tags": []
   },
   "outputs": [
    {
     "name": "stdout",
     "output_type": "stream",
     "text": [
      "checkpoints dir: E:\\projects\\DaKanjiRecognizerML\\single_kanji_cnn\\model\\tf\\checkpoints_own_cnn\\weights-improvement-{epoch:02d}-{val_accuracy:.2f}.hdf5\n"
     ]
    }
   ],
   "source": [
    "from tensorflow.keras.callbacks import ModelCheckpoint\n",
    "\n",
    "#checkpoints setup\n",
    "filepath = os.path.join(model_dir, \"tf\", \"checkpoints\", \"weights-improvement-{epoch:02d}-{val_accuracy:.2f}.hdf5\")\n",
    "checkpoint = ModelCheckpoint(filepath, monitor='val_accuracy', verbose=1, save_best_only=True, mode='max')\n",
    "\n",
    "callbacks_list.append(checkpoint)\n",
    "\n",
    "print(\"checkpoints dir:\", filepath)"
   ]
  },
  {
   "cell_type": "markdown",
   "metadata": {},
   "source": [
    "Optionally enable tensorboard to track the progress of the model."
   ]
  },
  {
   "cell_type": "code",
   "execution_count": 21,
   "metadata": {},
   "outputs": [
    {
     "name": "stdout",
     "output_type": "stream",
     "text": [
      "tensorboard log dir: E:\\projects\\DaKanjiRecognizerML\\single_kanji_cnn\\model\\tf\\logs\\20210627-114618\n"
     ]
    }
   ],
   "source": [
    "# load the tensorboard extension\n",
    "%load_ext tensorboard\n",
    "\n",
    "# add the tensorboard callback\n",
    "log_dir = os.path.join(model_dir, \"tf\", \"logs\", datetime.datetime.now().strftime(\"%Y%m%d-%H%M%S\"))\n",
    "tensorboard_callback = tf.keras.callbacks.TensorBoard(log_dir=log_dir, histogram_freq=1)\n",
    "callbacks_list.append(tensorboard_callback)\n",
    "\n",
    "print(\"tensorboard log dir:\", log_dir)"
   ]
  },
  {
   "cell_type": "markdown",
   "metadata": {},
   "source": [
    "Finally train the model on the data set (in case of an Interrupt creates checkpoints)."
   ]
  },
  {
   "cell_type": "code",
   "execution_count": 24,
   "metadata": {},
   "outputs": [
    {
     "name": "stderr",
     "output_type": "stream",
     "text": [
      "E:\\projects\\DaKanjiRecognizerML\\.venv\\lib\\site-packages\\tensorflow\\python\\keras\\utils\\generic_utils.py:494: CustomMaskWarning: Custom mask layers require a config and must override get_config. When loading, the custom mask layer must be passed to the custom_objects argument.\n",
      "  warnings.warn('Custom mask layers require a config and must override '\n"
     ]
    },
    {
     "name": "stdout",
     "output_type": "stream",
     "text": [
      "Epoch 76/100\n",
      "\n",
      "Epoch 00076: LearningRateScheduler reducing learning rate to 0.0.\n",
      "2979/2979 [==============================] - 2089s 672ms/step - loss: 0.0239 - accuracy: 0.9924 - precision: 0.9935 - recall: 0.9915 - val_loss: 0.1431 - val_accuracy: 0.9635 - val_precision: 0.9732 - val_recall: 0.9594\n",
      "\n",
      "Epoch 00076: val_accuracy did not improve from 0.96612\n",
      "Epoch 77/100\n",
      "\n",
      "Epoch 00077: LearningRateScheduler reducing learning rate to 0.0.\n",
      "2979/2979 [==============================] - 2054s 662ms/step - loss: 0.0241 - accuracy: 0.9923 - precision: 0.9935 - recall: 0.9916 - val_loss: 0.1425 - val_accuracy: 0.9638 - val_precision: 0.9733 - val_recall: 0.9597\n",
      "\n",
      "Epoch 00077: val_accuracy did not improve from 0.96612\n",
      "Epoch 78/100\n",
      "\n",
      "Epoch 00078: LearningRateScheduler reducing learning rate to 0.0.\n",
      "2979/2979 [==============================] - 2156s 695ms/step - loss: 0.0241 - accuracy: 0.9923 - precision: 0.9934 - recall: 0.9915 - val_loss: 0.1446 - val_accuracy: 0.9633 - val_precision: 0.9730 - val_recall: 0.9591\n",
      "\n",
      "Epoch 00078: val_accuracy did not improve from 0.96612\n",
      "Epoch 79/100\n",
      "\n",
      "Epoch 00079: LearningRateScheduler reducing learning rate to -4.0000000000000105e-05.\n",
      "2979/2979 [==============================] - 2110s 676ms/step - loss: 247.2301 - accuracy: 0.0565 - precision: 0.0591 - recall: 0.0563 - val_loss: 366.7897 - val_accuracy: 5.5735e-06 - val_precision: 5.5765e-06 - val_recall: 5.5735e-06\n",
      "\n",
      "Epoch 00079: val_accuracy did not improve from 0.96612\n",
      "Epoch 80/100\n",
      "\n",
      "Epoch 00080: LearningRateScheduler reducing learning rate to -4.0000000000000105e-05.\n",
      "2979/2979 [==============================] - 2072s 665ms/step - loss: 459.3727 - accuracy: 2.6228e-06 - precision: 2.6232e-06 - recall: 2.6228e-06 - val_loss: 531.6848 - val_accuracy: 0.0000e+00 - val_precision: 0.0000e+00 - val_recall: 0.0000e+00\n",
      "\n",
      "Epoch 00080: val_accuracy did not improve from 0.96612\n",
      "Epoch 81/100\n",
      "\n",
      "Epoch 00081: LearningRateScheduler reducing learning rate to -4.0000000000000105e-05.\n",
      "2979/2979 [==============================] - 2047s 659ms/step - loss: 659.3328 - accuracy: 1.6393e-06 - precision: 1.6393e-06 - recall: 1.6393e-06 - val_loss: 772.6522 - val_accuracy: 0.0000e+00 - val_precision: 0.0000e+00 - val_recall: 0.0000e+00\n",
      "\n",
      "Epoch 00081: val_accuracy did not improve from 0.96612\n",
      "Epoch 82/100\n",
      "\n",
      "Epoch 00082: LearningRateScheduler reducing learning rate to -7.999999999999999e-05.\n",
      "2979/2979 [==============================] - 2047s 659ms/step - loss: 1037.9130 - accuracy: 2.2950e-06 - precision: 2.2950e-06 - recall: 2.2950e-06 - val_loss: 1321.9658 - val_accuracy: 0.0000e+00 - val_precision: 0.0000e+00 - val_recall: 0.0000e+00\n",
      "\n",
      "Epoch 00082: val_accuracy did not improve from 0.96612\n",
      "Epoch 83/100\n",
      "\n",
      "Epoch 00083: LearningRateScheduler reducing learning rate to -7.999999999999999e-05.\n",
      "2979/2979 [==============================] - 2044s 658ms/step - loss: 1695.8477 - accuracy: 1.6393e-06 - precision: 1.6393e-06 - recall: 1.6393e-06 - val_loss: 2085.7808 - val_accuracy: 0.0000e+00 - val_precision: 0.0000e+00 - val_recall: 0.0000e+00\n",
      "\n",
      "Epoch 00083: val_accuracy did not improve from 0.96612\n",
      "Epoch 84/100\n",
      "\n",
      "Epoch 00084: LearningRateScheduler reducing learning rate to -7.999999999999999e-05.\n",
      "2979/2979 [==============================] - 2041s 657ms/step - loss: 2561.2554 - accuracy: 1.6393e-06 - precision: 1.6393e-06 - recall: 1.6393e-06 - val_loss: 3066.9485 - val_accuracy: 0.0000e+00 - val_precision: 0.0000e+00 - val_recall: 0.0000e+00\n",
      "\n",
      "Epoch 00084: val_accuracy did not improve from 0.96612\n",
      "Epoch 85/100\n",
      "\n",
      "Epoch 00085: LearningRateScheduler reducing learning rate to -0.0001200000000000001.\n",
      "2979/2979 [==============================] - 2043s 658ms/step - loss: 3984.2722 - accuracy: 2.6228e-06 - precision: 2.6228e-06 - recall: 2.6228e-06 - val_loss: 5076.3374 - val_accuracy: 7.4314e-06 - val_precision: 7.4314e-06 - val_recall: 7.4314e-06\n",
      "\n",
      "Epoch 00085: val_accuracy did not improve from 0.96612\n",
      "Epoch 86/100\n",
      "\n",
      "Epoch 00086: LearningRateScheduler reducing learning rate to -0.0001200000000000001.\n",
      "2979/2979 [==============================] - 2040s 657ms/step - loss: 6226.7319 - accuracy: 3.2785e-06 - precision: 3.2785e-06 - recall: 3.2785e-06 - val_loss: 7398.4937 - val_accuracy: 0.0000e+00 - val_precision: 0.0000e+00 - val_recall: 0.0000e+00\n",
      "\n",
      "Epoch 00086: val_accuracy did not improve from 0.96612\n",
      "Epoch 87/100\n",
      "\n",
      "Epoch 00087: LearningRateScheduler reducing learning rate to -0.0001200000000000001.\n",
      "2979/2979 [==============================] - 2040s 657ms/step - loss: 8957.2832 - accuracy: 1.8032e-05 - precision: 1.8032e-05 - recall: 1.8032e-05 - val_loss: 10258.0840 - val_accuracy: 2.9725e-05 - val_precision: 2.9725e-05 - val_recall: 2.9725e-05\n",
      "\n",
      "Epoch 00087: val_accuracy did not improve from 0.96612\n",
      "Epoch 88/100\n",
      "\n",
      "Epoch 00088: LearningRateScheduler reducing learning rate to -0.00015999999999999999.\n",
      "2979/2979 [==============================] - 2041s 657ms/step - loss: 12595.9961 - accuracy: 1.5737e-05 - precision: 1.5737e-05 - recall: 1.5737e-05 - val_loss: 14885.7900 - val_accuracy: 0.0000e+00 - val_precision: 0.0000e+00 - val_recall: 0.0000e+00\n",
      "\n",
      "Epoch 00088: val_accuracy did not improve from 0.96612\n",
      "Epoch 89/100\n",
      "\n",
      "Epoch 00089: LearningRateScheduler reducing learning rate to -0.00015999999999999999.\n",
      "2979/2979 [==============================] - 2044s 658ms/step - loss: 16243.2803 - accuracy: 3.0162e-05 - precision: 3.0162e-05 - recall: 3.0162e-05 - val_loss: 17416.2617 - val_accuracy: 0.0000e+00 - val_precision: 0.0000e+00 - val_recall: 0.0000e+00\n",
      "\n",
      "Epoch 00089: val_accuracy did not improve from 0.96612\n",
      "Epoch 90/100\n",
      "\n",
      "Epoch 00090: LearningRateScheduler reducing learning rate to -0.00015999999999999999.\n",
      "2979/2979 [==============================] - 2043s 658ms/step - loss: 19784.6289 - accuracy: 3.0818e-05 - precision: 3.0818e-05 - recall: 3.0818e-05 - val_loss: 22349.5312 - val_accuracy: 1.6721e-05 - val_precision: 1.6721e-05 - val_recall: 1.6721e-05\n",
      "\n",
      "Epoch 00090: val_accuracy did not improve from 0.96612\n",
      "Epoch 91/100\n",
      "\n",
      "Epoch 00091: LearningRateScheduler reducing learning rate to -0.0002000000000000001.\n",
      "2979/2979 [==============================] - 2045s 659ms/step - loss: 25017.6973 - accuracy: 4.0982e-05 - precision: 4.0982e-05 - recall: 4.0982e-05 - val_loss: 28079.5801 - val_accuracy: 1.6349e-04 - val_precision: 1.6349e-04 - val_recall: 1.6349e-04\n",
      "\n",
      "Epoch 00091: val_accuracy did not improve from 0.96612\n",
      "Epoch 92/100\n",
      "\n",
      "Epoch 00092: LearningRateScheduler reducing learning rate to -0.0002000000000000001.\n",
      "2979/2979 [==============================] - 2049s 660ms/step - loss: 31545.7715 - accuracy: 1.4163e-04 - precision: 1.4163e-04 - recall: 1.4163e-04 - val_loss: 34401.2344 - val_accuracy: 1.3748e-04 - val_precision: 1.3748e-04 - val_recall: 1.3748e-04\n",
      "\n",
      "Epoch 00092: val_accuracy did not improve from 0.96612\n",
      "Epoch 93/100\n",
      "\n",
      "Epoch 00093: LearningRateScheduler reducing learning rate to -0.0002000000000000001.\n",
      "2979/2979 [==============================] - 2048s 660ms/step - loss: 38550.1367 - accuracy: 1.4491e-04 - precision: 1.4491e-04 - recall: 1.4491e-04 - val_loss: 42610.1406 - val_accuracy: 2.1922e-04 - val_precision: 2.1922e-04 - val_recall: 2.1922e-04\n",
      "\n",
      "Epoch 00093: val_accuracy did not improve from 0.96612\n",
      "Epoch 94/100\n",
      "\n",
      "Epoch 00094: LearningRateScheduler reducing learning rate to -0.00023999999999999998.\n",
      "2979/2979 [==============================] - 2044s 658ms/step - loss: inf - accuracy: 1.9474e-04 - precision: 1.9474e-04 - recall: 1.9474e-04 - val_loss: 49068.8164 - val_accuracy: 2.3223e-04 - val_precision: 2.3223e-04 - val_recall: 2.3223e-04\n",
      "\n",
      "Epoch 00094: val_accuracy did not improve from 0.96612\n",
      "Epoch 95/100\n",
      "\n",
      "Epoch 00095: LearningRateScheduler reducing learning rate to -0.00023999999999999998.\n",
      "2979/2979 [==============================] - 2047s 659ms/step - loss: inf - accuracy: 2.0556e-04 - precision: 2.0556e-04 - recall: 2.0556e-04 - val_loss: inf - val_accuracy: 2.1551e-04 - val_precision: 2.1551e-04 - val_recall: 2.1551e-04\n",
      "\n",
      "Epoch 00095: val_accuracy did not improve from 0.96612\n",
      "Epoch 96/100\n",
      "\n",
      "Epoch 00096: LearningRateScheduler reducing learning rate to -0.00023999999999999998.\n",
      "2979/2979 [==============================] - 2048s 659ms/step - loss: inf - accuracy: 1.9442e-04 - precision: 1.9442e-04 - recall: 1.9442e-04 - val_loss: inf - val_accuracy: 2.1551e-04 - val_precision: 2.1551e-04 - val_recall: 2.1551e-04\n"
     ]
    },
    {
     "name": "stdout",
     "output_type": "stream",
     "text": [
      "\n",
      "Epoch 00096: val_accuracy did not improve from 0.96612\n",
      "Epoch 97/100\n",
      "\n",
      "Epoch 00097: LearningRateScheduler reducing learning rate to -0.0002800000000000001.\n",
      "2979/2979 [==============================] - 2048s 659ms/step - loss: inf - accuracy: 2.0360e-04 - precision: 2.0360e-04 - recall: 2.0360e-04 - val_loss: inf - val_accuracy: 2.0250e-04 - val_precision: 2.0250e-04 - val_recall: 2.0250e-04\n",
      "\n",
      "Epoch 00097: val_accuracy did not improve from 0.96612\n",
      "Epoch 98/100\n",
      "\n",
      "Epoch 00098: LearningRateScheduler reducing learning rate to -0.0002800000000000001.\n",
      "2979/2979 [==============================] - 2049s 660ms/step - loss: inf - accuracy: 2.0229e-04 - precision: 2.0229e-04 - recall: 2.0229e-04 - val_loss: inf - val_accuracy: 2.1551e-04 - val_precision: 2.1551e-04 - val_recall: 2.1551e-04\n",
      "\n",
      "Epoch 00098: val_accuracy did not improve from 0.96612\n",
      "Epoch 99/100\n",
      "\n",
      "Epoch 00099: LearningRateScheduler reducing learning rate to -0.0002800000000000001.\n",
      " 707/2979 [======>.......................] - ETA: 22:12 - loss: inf - accuracy: 2.2100e-04 - precision: 2.2100e-04 - recall: 2.2100e-04"
     ]
    },
    {
     "ename": "InvalidArgumentError",
     "evalue": "2 root error(s) found.\n  (0) Invalid argument:  assertion failed: [predictions must be >= 0] [Condition x >= y did not hold element-wise:] [x (Cast_8:0) = ] [[0 0 0...]...] [y (Cast_10/x:0) = ] [0]\n\t [[{{node assert_greater_equal/Assert/AssertGuard/else/_619/assert_greater_equal/Assert/AssertGuard/Assert}}]]\n\t [[assert_less_equal/Assert/AssertGuard/pivot_f/_631/_83]]\n  (1) Invalid argument:  assertion failed: [predictions must be >= 0] [Condition x >= y did not hold element-wise:] [x (Cast_8:0) = ] [[0 0 0...]...] [y (Cast_10/x:0) = ] [0]\n\t [[{{node assert_greater_equal/Assert/AssertGuard/else/_619/assert_greater_equal/Assert/AssertGuard/Assert}}]]\n0 successful operations.\n0 derived errors ignored. [Op:__inference_train_function_28838]\n\nFunction call stack:\ntrain_function -> train_function\n",
     "output_type": "error",
     "traceback": [
      "\u001b[1;31m---------------------------------------------------------------------------\u001b[0m",
      "\u001b[1;31mInvalidArgumentError\u001b[0m                      Traceback (most recent call last)",
      "\u001b[1;32m<ipython-input-24-4a31c12a63ed>\u001b[0m in \u001b[0;36m<module>\u001b[1;34m\u001b[0m\n\u001b[0;32m      1\u001b[0m \u001b[1;31m#train the model\u001b[0m\u001b[1;33m\u001b[0m\u001b[1;33m\u001b[0m\u001b[1;33m\u001b[0m\u001b[0m\n\u001b[1;32m----> 2\u001b[1;33m hist_3 = f16_model.fit(\n\u001b[0m\u001b[0;32m      3\u001b[0m     \u001b[0mtrain\u001b[0m\u001b[1;33m,\u001b[0m\u001b[1;33m\u001b[0m\u001b[1;33m\u001b[0m\u001b[0m\n\u001b[0;32m      4\u001b[0m     \u001b[0mvalidation_data\u001b[0m\u001b[1;33m=\u001b[0m\u001b[0mval\u001b[0m\u001b[1;33m,\u001b[0m\u001b[1;33m\u001b[0m\u001b[1;33m\u001b[0m\u001b[0m\n\u001b[0;32m      5\u001b[0m     \u001b[0mepochs\u001b[0m\u001b[1;33m=\u001b[0m\u001b[1;36m100\u001b[0m\u001b[1;33m,\u001b[0m\u001b[1;33m\u001b[0m\u001b[1;33m\u001b[0m\u001b[0m\n",
      "\u001b[1;32mE:\\projects\\DaKanjiRecognizerML\\.venv\\lib\\site-packages\\tensorflow\\python\\keras\\engine\\training.py\u001b[0m in \u001b[0;36mfit\u001b[1;34m(self, x, y, batch_size, epochs, verbose, callbacks, validation_split, validation_data, shuffle, class_weight, sample_weight, initial_epoch, steps_per_epoch, validation_steps, validation_batch_size, validation_freq, max_queue_size, workers, use_multiprocessing)\u001b[0m\n\u001b[0;32m   1181\u001b[0m                 _r=1):\n\u001b[0;32m   1182\u001b[0m               \u001b[0mcallbacks\u001b[0m\u001b[1;33m.\u001b[0m\u001b[0mon_train_batch_begin\u001b[0m\u001b[1;33m(\u001b[0m\u001b[0mstep\u001b[0m\u001b[1;33m)\u001b[0m\u001b[1;33m\u001b[0m\u001b[1;33m\u001b[0m\u001b[0m\n\u001b[1;32m-> 1183\u001b[1;33m               \u001b[0mtmp_logs\u001b[0m \u001b[1;33m=\u001b[0m \u001b[0mself\u001b[0m\u001b[1;33m.\u001b[0m\u001b[0mtrain_function\u001b[0m\u001b[1;33m(\u001b[0m\u001b[0miterator\u001b[0m\u001b[1;33m)\u001b[0m\u001b[1;33m\u001b[0m\u001b[1;33m\u001b[0m\u001b[0m\n\u001b[0m\u001b[0;32m   1184\u001b[0m               \u001b[1;32mif\u001b[0m \u001b[0mdata_handler\u001b[0m\u001b[1;33m.\u001b[0m\u001b[0mshould_sync\u001b[0m\u001b[1;33m:\u001b[0m\u001b[1;33m\u001b[0m\u001b[1;33m\u001b[0m\u001b[0m\n\u001b[0;32m   1185\u001b[0m                 \u001b[0mcontext\u001b[0m\u001b[1;33m.\u001b[0m\u001b[0masync_wait\u001b[0m\u001b[1;33m(\u001b[0m\u001b[1;33m)\u001b[0m\u001b[1;33m\u001b[0m\u001b[1;33m\u001b[0m\u001b[0m\n",
      "\u001b[1;32mE:\\projects\\DaKanjiRecognizerML\\.venv\\lib\\site-packages\\tensorflow\\python\\eager\\def_function.py\u001b[0m in \u001b[0;36m__call__\u001b[1;34m(self, *args, **kwds)\u001b[0m\n\u001b[0;32m    887\u001b[0m \u001b[1;33m\u001b[0m\u001b[0m\n\u001b[0;32m    888\u001b[0m       \u001b[1;32mwith\u001b[0m \u001b[0mOptionalXlaContext\u001b[0m\u001b[1;33m(\u001b[0m\u001b[0mself\u001b[0m\u001b[1;33m.\u001b[0m\u001b[0m_jit_compile\u001b[0m\u001b[1;33m)\u001b[0m\u001b[1;33m:\u001b[0m\u001b[1;33m\u001b[0m\u001b[1;33m\u001b[0m\u001b[0m\n\u001b[1;32m--> 889\u001b[1;33m         \u001b[0mresult\u001b[0m \u001b[1;33m=\u001b[0m \u001b[0mself\u001b[0m\u001b[1;33m.\u001b[0m\u001b[0m_call\u001b[0m\u001b[1;33m(\u001b[0m\u001b[1;33m*\u001b[0m\u001b[0margs\u001b[0m\u001b[1;33m,\u001b[0m \u001b[1;33m**\u001b[0m\u001b[0mkwds\u001b[0m\u001b[1;33m)\u001b[0m\u001b[1;33m\u001b[0m\u001b[1;33m\u001b[0m\u001b[0m\n\u001b[0m\u001b[0;32m    890\u001b[0m \u001b[1;33m\u001b[0m\u001b[0m\n\u001b[0;32m    891\u001b[0m       \u001b[0mnew_tracing_count\u001b[0m \u001b[1;33m=\u001b[0m \u001b[0mself\u001b[0m\u001b[1;33m.\u001b[0m\u001b[0mexperimental_get_tracing_count\u001b[0m\u001b[1;33m(\u001b[0m\u001b[1;33m)\u001b[0m\u001b[1;33m\u001b[0m\u001b[1;33m\u001b[0m\u001b[0m\n",
      "\u001b[1;32mE:\\projects\\DaKanjiRecognizerML\\.venv\\lib\\site-packages\\tensorflow\\python\\eager\\def_function.py\u001b[0m in \u001b[0;36m_call\u001b[1;34m(self, *args, **kwds)\u001b[0m\n\u001b[0;32m    915\u001b[0m       \u001b[1;31m# In this case we have created variables on the first call, so we run the\u001b[0m\u001b[1;33m\u001b[0m\u001b[1;33m\u001b[0m\u001b[1;33m\u001b[0m\u001b[0m\n\u001b[0;32m    916\u001b[0m       \u001b[1;31m# defunned version which is guaranteed to never create variables.\u001b[0m\u001b[1;33m\u001b[0m\u001b[1;33m\u001b[0m\u001b[1;33m\u001b[0m\u001b[0m\n\u001b[1;32m--> 917\u001b[1;33m       \u001b[1;32mreturn\u001b[0m \u001b[0mself\u001b[0m\u001b[1;33m.\u001b[0m\u001b[0m_stateless_fn\u001b[0m\u001b[1;33m(\u001b[0m\u001b[1;33m*\u001b[0m\u001b[0margs\u001b[0m\u001b[1;33m,\u001b[0m \u001b[1;33m**\u001b[0m\u001b[0mkwds\u001b[0m\u001b[1;33m)\u001b[0m  \u001b[1;31m# pylint: disable=not-callable\u001b[0m\u001b[1;33m\u001b[0m\u001b[1;33m\u001b[0m\u001b[0m\n\u001b[0m\u001b[0;32m    918\u001b[0m     \u001b[1;32melif\u001b[0m \u001b[0mself\u001b[0m\u001b[1;33m.\u001b[0m\u001b[0m_stateful_fn\u001b[0m \u001b[1;32mis\u001b[0m \u001b[1;32mnot\u001b[0m \u001b[1;32mNone\u001b[0m\u001b[1;33m:\u001b[0m\u001b[1;33m\u001b[0m\u001b[1;33m\u001b[0m\u001b[0m\n\u001b[0;32m    919\u001b[0m       \u001b[1;31m# Release the lock early so that multiple threads can perform the call\u001b[0m\u001b[1;33m\u001b[0m\u001b[1;33m\u001b[0m\u001b[1;33m\u001b[0m\u001b[0m\n",
      "\u001b[1;32mE:\\projects\\DaKanjiRecognizerML\\.venv\\lib\\site-packages\\tensorflow\\python\\eager\\function.py\u001b[0m in \u001b[0;36m__call__\u001b[1;34m(self, *args, **kwargs)\u001b[0m\n\u001b[0;32m   3021\u001b[0m       (graph_function,\n\u001b[0;32m   3022\u001b[0m        filtered_flat_args) = self._maybe_define_function(args, kwargs)\n\u001b[1;32m-> 3023\u001b[1;33m     return graph_function._call_flat(\n\u001b[0m\u001b[0;32m   3024\u001b[0m         filtered_flat_args, captured_inputs=graph_function.captured_inputs)  # pylint: disable=protected-access\n\u001b[0;32m   3025\u001b[0m \u001b[1;33m\u001b[0m\u001b[0m\n",
      "\u001b[1;32mE:\\projects\\DaKanjiRecognizerML\\.venv\\lib\\site-packages\\tensorflow\\python\\eager\\function.py\u001b[0m in \u001b[0;36m_call_flat\u001b[1;34m(self, args, captured_inputs, cancellation_manager)\u001b[0m\n\u001b[0;32m   1958\u001b[0m         and executing_eagerly):\n\u001b[0;32m   1959\u001b[0m       \u001b[1;31m# No tape is watching; skip to running the function.\u001b[0m\u001b[1;33m\u001b[0m\u001b[1;33m\u001b[0m\u001b[1;33m\u001b[0m\u001b[0m\n\u001b[1;32m-> 1960\u001b[1;33m       return self._build_call_outputs(self._inference_function.call(\n\u001b[0m\u001b[0;32m   1961\u001b[0m           ctx, args, cancellation_manager=cancellation_manager))\n\u001b[0;32m   1962\u001b[0m     forward_backward = self._select_forward_and_backward_functions(\n",
      "\u001b[1;32mE:\\projects\\DaKanjiRecognizerML\\.venv\\lib\\site-packages\\tensorflow\\python\\eager\\function.py\u001b[0m in \u001b[0;36mcall\u001b[1;34m(self, ctx, args, cancellation_manager)\u001b[0m\n\u001b[0;32m    589\u001b[0m       \u001b[1;32mwith\u001b[0m \u001b[0m_InterpolateFunctionError\u001b[0m\u001b[1;33m(\u001b[0m\u001b[0mself\u001b[0m\u001b[1;33m)\u001b[0m\u001b[1;33m:\u001b[0m\u001b[1;33m\u001b[0m\u001b[1;33m\u001b[0m\u001b[0m\n\u001b[0;32m    590\u001b[0m         \u001b[1;32mif\u001b[0m \u001b[0mcancellation_manager\u001b[0m \u001b[1;32mis\u001b[0m \u001b[1;32mNone\u001b[0m\u001b[1;33m:\u001b[0m\u001b[1;33m\u001b[0m\u001b[1;33m\u001b[0m\u001b[0m\n\u001b[1;32m--> 591\u001b[1;33m           outputs = execute.execute(\n\u001b[0m\u001b[0;32m    592\u001b[0m               \u001b[0mstr\u001b[0m\u001b[1;33m(\u001b[0m\u001b[0mself\u001b[0m\u001b[1;33m.\u001b[0m\u001b[0msignature\u001b[0m\u001b[1;33m.\u001b[0m\u001b[0mname\u001b[0m\u001b[1;33m)\u001b[0m\u001b[1;33m,\u001b[0m\u001b[1;33m\u001b[0m\u001b[1;33m\u001b[0m\u001b[0m\n\u001b[0;32m    593\u001b[0m               \u001b[0mnum_outputs\u001b[0m\u001b[1;33m=\u001b[0m\u001b[0mself\u001b[0m\u001b[1;33m.\u001b[0m\u001b[0m_num_outputs\u001b[0m\u001b[1;33m,\u001b[0m\u001b[1;33m\u001b[0m\u001b[1;33m\u001b[0m\u001b[0m\n",
      "\u001b[1;32mE:\\projects\\DaKanjiRecognizerML\\.venv\\lib\\site-packages\\tensorflow\\python\\eager\\execute.py\u001b[0m in \u001b[0;36mquick_execute\u001b[1;34m(op_name, num_outputs, inputs, attrs, ctx, name)\u001b[0m\n\u001b[0;32m     57\u001b[0m   \u001b[1;32mtry\u001b[0m\u001b[1;33m:\u001b[0m\u001b[1;33m\u001b[0m\u001b[1;33m\u001b[0m\u001b[0m\n\u001b[0;32m     58\u001b[0m     \u001b[0mctx\u001b[0m\u001b[1;33m.\u001b[0m\u001b[0mensure_initialized\u001b[0m\u001b[1;33m(\u001b[0m\u001b[1;33m)\u001b[0m\u001b[1;33m\u001b[0m\u001b[1;33m\u001b[0m\u001b[0m\n\u001b[1;32m---> 59\u001b[1;33m     tensors = pywrap_tfe.TFE_Py_Execute(ctx._handle, device_name, op_name,\n\u001b[0m\u001b[0;32m     60\u001b[0m                                         inputs, attrs, num_outputs)\n\u001b[0;32m     61\u001b[0m   \u001b[1;32mexcept\u001b[0m \u001b[0mcore\u001b[0m\u001b[1;33m.\u001b[0m\u001b[0m_NotOkStatusException\u001b[0m \u001b[1;32mas\u001b[0m \u001b[0me\u001b[0m\u001b[1;33m:\u001b[0m\u001b[1;33m\u001b[0m\u001b[1;33m\u001b[0m\u001b[0m\n",
      "\u001b[1;31mInvalidArgumentError\u001b[0m: 2 root error(s) found.\n  (0) Invalid argument:  assertion failed: [predictions must be >= 0] [Condition x >= y did not hold element-wise:] [x (Cast_8:0) = ] [[0 0 0...]...] [y (Cast_10/x:0) = ] [0]\n\t [[{{node assert_greater_equal/Assert/AssertGuard/else/_619/assert_greater_equal/Assert/AssertGuard/Assert}}]]\n\t [[assert_less_equal/Assert/AssertGuard/pivot_f/_631/_83]]\n  (1) Invalid argument:  assertion failed: [predictions must be >= 0] [Condition x >= y did not hold element-wise:] [x (Cast_8:0) = ] [[0 0 0...]...] [y (Cast_10/x:0) = ] [0]\n\t [[{{node assert_greater_equal/Assert/AssertGuard/else/_619/assert_greater_equal/Assert/AssertGuard/Assert}}]]\n0 successful operations.\n0 derived errors ignored. [Op:__inference_train_function_28838]\n\nFunction call stack:\ntrain_function -> train_function\n"
     ]
    }
   ],
   "source": [
    "#train the model\n",
    "hist_3 = f16_model.fit(\n",
    "    train,\n",
    "    validation_data=val,\n",
    "    epochs=100,\n",
    "    initial_epoch=75,\n",
    "    workers=16,\n",
    "    use_multiprocessing=True,\n",
    "    callbacks=callbacks_list\n",
    ")"
   ]
  },
  {
   "cell_type": "markdown",
   "metadata": {},
   "source": [
    "## Evaluating the model\n",
    "\n",
    "After training plot the loss and accuracy for the test and validation sets."
   ]
  },
  {
   "cell_type": "code",
   "execution_count": 34,
   "metadata": {},
   "outputs": [
    {
     "data": {
      "image/png": "[encoded data removed]",
      "text/plain": [
       "<Figure size 432x288 with 2 Axes>"
      ]
     },
     "metadata": {
      "needs_background": "light"
     },
     "output_type": "display_data"
    }
   ],
   "source": [
    "fig, axs = plt.subplots(2)\n",
    "\n",
    "# accuracy\n",
    "axs[0].plot(hist.history['accuracy'])\n",
    "axs[0].plot(hist.history['val_accuracy'])\n",
    "axs[0].set_title('model accuracy')\n",
    "axs[0].set_ylabel('accuracy')\n",
    "axs[0].set_xlabel('epoch')\n",
    "axs[0].legend(['train', 'val'], loc='lower right')\n",
    "axs[0].tick_params(\n",
    "    axis='both',\n",
    "    which='both',\n",
    "    bottom=False,\n",
    "    top=False,\n",
    "    labelbottom=False)\n",
    "\n",
    "# loss\n",
    "axs[1].plot(hist.history['loss'])\n",
    "axs[1].plot(hist.history['val_loss'])\n",
    "axs[1].set_title('model loss')\n",
    "axs[1].set_ylabel('loss')\n",
    "axs[1].set_xlabel('epoch')\n",
    "axs[1].legend(['train', 'val'], loc='upper right')\n",
    "axs[1].tick_params(\n",
    "    axis='both',\n",
    "    which='both',\n",
    "    bottom=False,\n",
    "    top=False,\n",
    "    labelbottom=False)\n"
   ]
  },
  {
   "cell_type": "markdown",
   "metadata": {},
   "source": [
    "The graphs look good.\n",
    "Let's now make a prediction."
   ]
  },
  {
   "cell_type": "code",
   "execution_count": 40,
   "metadata": {},
   "outputs": [],
   "source": [
    "# reload values from file if necessary\n",
    "#f16_model.load_weights(os.path.join(model_dir, \"tf\", \"checkpoints_own_cnn\", \"weights-improvement-73-0.97.hdf5\"))\n",
    "#f16_model.compile()"
   ]
  },
  {
   "cell_type": "code",
   "execution_count": 42,
   "metadata": {},
   "outputs": [
    {
     "name": "stdout",
     "output_type": "stream",
     "text": [
      "['茜', '茎', '雀', '隼', '侭', '隻', '雁', '雄', '隣', '式']\n"
     ]
    },
    {
     "data": {
      "image/png": "[encoded data removed]",
      "text/plain": [
       "<Figure size 158.4x158.4 with 1 Axes>"
      ]
     },
     "metadata": {
      "needs_background": "light"
     },
     "output_type": "display_data"
    }
   ],
   "source": [
    "# load a sample\n",
    "sample = tf.keras.preprocessing.image.load_img(\n",
    "    path= r\"F:\\data_sets\\etlcdb\\1540\\42.jpg\",\n",
    "    color_mode=\"grayscale\",\n",
    "    target_size=(64, 64)\n",
    ")\n",
    "\n",
    "sample = tf.keras.preprocessing.image.img_to_array(sample)\n",
    "sample = sample.reshape((1, 64, 64, 1)) / 255\n",
    "\n",
    "# run inference\n",
    "prediction = eff_net_lite.predict(sample)[0]\n",
    "\n",
    "# output 10 most liekly predictions\n",
    "ind = np.argpartition(prediction, -10)[-10:]\n",
    "q = ind[np.argsort(prediction[ind])]\n",
    "print([ordered_labels[i] for i in reversed(q)])\n",
    "\n",
    "# show the most confident prediction and the image\n",
    "show_image(sample.reshape((64, 64)), ls[prediction.argmax()] + \" - %.2f\" % prediction.max())"
   ]
  },
  {
   "cell_type": "markdown",
   "metadata": {},
   "source": [
    "## Saving the model\n",
    "\n",
    "The model is perfoming very well therefore save the trained model as a \"*.pb\" file."
   ]
  },
  {
   "cell_type": "code",
   "execution_count": 43,
   "metadata": {},
   "outputs": [
    {
     "name": "stdout",
     "output_type": "stream",
     "text": [
      "WARNING:tensorflow:Compiled the loaded model, but the compiled metrics have yet to be built. `model.compile_metrics` will be empty until you train or evaluate the model.\n"
     ]
    },
    {
     "name": "stderr",
     "output_type": "stream",
     "text": [
      "E:\\projects\\DaKanjiRecognizerML\\.venv\\lib\\site-packages\\tensorflow\\python\\keras\\utils\\generic_utils.py:494: CustomMaskWarning: Custom mask layers require a config and must override get_config. When loading, the custom mask layer must be passed to the custom_objects argument.\n",
      "  warnings.warn('Custom mask layers require a config and must override '\n"
     ]
    },
    {
     "name": "stdout",
     "output_type": "stream",
     "text": [
      "INFO:tensorflow:Assets written to: E:\\projects\\DaKanjiRecognizerML\\single_kanji_cnn\\model\\tf\\trained_model\\assets\n"
     ]
    }
   ],
   "source": [
    "eff_net_lite.save(\n",
    "    os.path.join(model_dir, \"tf\", \"trained_model\"),\n",
    ")"
   ]
  },
  {
   "cell_type": "markdown",
   "metadata": {},
   "source": [
    "Finally convert the model to a TF-Light model to be used in applications."
   ]
  },
  {
   "cell_type": "code",
   "execution_count": 46,
   "metadata": {},
   "outputs": [
    {
     "name": "stdout",
     "output_type": "stream",
     "text": [
      "WARNING:tensorflow:Compiled the loaded model, but the compiled metrics have yet to be built. `model.compile_metrics` will be empty until you train or evaluate the model.\n"
     ]
    },
    {
     "name": "stderr",
     "output_type": "stream",
     "text": [
      "E:\\projects\\DaKanjiRecognizerML\\.venv\\lib\\site-packages\\tensorflow\\python\\keras\\utils\\generic_utils.py:494: CustomMaskWarning: Custom mask layers require a config and must override get_config. When loading, the custom mask layer must be passed to the custom_objects argument.\n",
      "  warnings.warn('Custom mask layers require a config and must override '\n"
     ]
    },
    {
     "name": "stdout",
     "output_type": "stream",
     "text": [
      "INFO:tensorflow:Assets written to: C:\\Users\\dario\\AppData\\Local\\Temp\\tmp5d1atjyc\\assets\n",
      "E:\\projects\\DaKanjiRecognizerML\\single_kanji_cnn\\model\\tflite\\model.tflite\n"
     ]
    }
   ],
   "source": [
    "# set the dtype policy to float32\n",
    "policy = tf.keras.mixed_precision.Policy('float32')\n",
    "tf.keras.mixed_precision.set_global_policy(policy)\n",
    "\n",
    "# Create a new EfficientNet Lite (with float 32) and restore the weights\n",
    "eff = tf.keras.Sequential([EfficientNetLiteB0(\n",
    "    include_top=True,\n",
    "    weights=None,\n",
    "    input_shape=(64, 64, 1),\n",
    "    classes=len(ls),\n",
    "    pooling=\"max\",\n",
    "    classifier_activation=\"softmax\"\n",
    ")])\n",
    "eff.set_weights(f16_model.get_weights())\n",
    "\n",
    "# Convert the model\n",
    "converter = tf.lite.TFLiteConverter.from_keras_model(eff)\n",
    "\n",
    "# set quantization, additional ops\n",
    "converter.optimizations = [tf.lite.Optimize.DEFAULT]\n",
    "converter.target_spec.supported_types = [tf.float16]\n",
    "\n",
    "tflite_model = converter.convert()\n",
    "\n",
    "# Save the model.\n",
    "print(os.path.join(model_dir, \"tflite\", \"model.tflite\"))\n",
    "with open(os.path.join(model_dir, \"tflite\", \"model.tflite\"), 'wb') as f:\n",
    "  f.write(tflite_model)\n"
   ]
  },
  {
   "cell_type": "code",
   "execution_count": 48,
   "metadata": {},
   "outputs": [
    {
     "data": {
      "image/png": "[encoded data removed]",
      "text/plain": [
       "<Figure size 158.4x158.4 with 1 Axes>"
      ]
     },
     "metadata": {
      "needs_background": "light"
     },
     "output_type": "display_data"
    }
   ],
   "source": [
    "# create a tf lite interpreter\n",
    "interpreter = tf.lite.Interpreter(os.path.join(model_dir, \"tflite\", \"model.tflite\"))\n",
    "interpreter.allocate_tensors()\n",
    "\n",
    "# Get input and output tensors.\n",
    "input_details = interpreter.get_input_details()\n",
    "output_details = interpreter.get_output_details()\n",
    "\n",
    "# Test the model on random input data.\n",
    "input_shape = input_details[0]['shape']\n",
    "input_data = sample\n",
    "interpreter.set_tensor(input_details[0]['index'], input_data)\n",
    "\n",
    "# run interpreter\n",
    "interpreter.invoke()\n",
    "output_data = interpreter.get_tensor(output_details[0]['index'])\n",
    "\n",
    "# show prediction\n",
    "show_image(sample.reshape(64, 64), ls[output_data.argmax()])"
   ]
  }
 ],
 "metadata": {
  "interpreter": {
   "hash": "7b66e6ad73e4584ec1c4fbbc9ad8719d99baf4738cd57ba39e580b8e9994d93a"
  },
  "kernelspec": {
   "display_name": "Python 3",
   "language": "python",
   "name": "python3"
  },
  "language_info": {
   "codemirror_mode": {
    "name": "ipython",
    "version": 3
   },
   "file_extension": ".py",
   "mimetype": "text/x-python",
   "name": "python",
   "nbconvert_exporter": "python",
   "pygments_lexer": "ipython3",
   "version": "3.9.0"
  }
 },
 "nbformat": 4,
 "nbformat_minor": 4
}
