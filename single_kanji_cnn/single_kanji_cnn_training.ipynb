{
 "cells": [
  {
   "cell_type": "markdown",
   "metadata": {},
   "source": [
    "# DaKanjiRecognizer - Single Kanji CNN : Training\n",
    "## Setup\n",
    "\n",
    "Import the needed libraries."
   ]
  },
  {
   "cell_type": "code",
   "execution_count": 1,
   "metadata": {},
   "outputs": [
    {
     "name": "stderr",
     "output_type": "stream",
     "text": [
      "2021-07-12 11:59:22.654455: I tensorflow/stream_executor/platform/default/dso_loader.cc:53] Successfully opened dynamic library libcudart.so.11.0\n"
     ]
    }
   ],
   "source": [
    "#std lib\n",
    "import sys\n",
    "import os\n",
    "import time\n",
    "import datetime\n",
    "from random import randrange\n",
    "\n",
    "#ML\n",
    "import tensorflow as tf\n",
    "import numpy as np\n",
    "\n",
    "from PIL import Image\n",
    "\n",
    "# data augmentation\n",
    "from erasing import random_erasing\n",
    "import elasticdeform as edf\n",
    "\n",
    "#plotting/showing graphics\n",
    "%matplotlib inline\n",
    "import matplotlib.pyplot as plt\n",
    "from IPython.display import Image"
   ]
  },
  {
   "cell_type": "markdown",
   "metadata": {},
   "source": [
    "Enable mixed precision."
   ]
  },
  {
   "cell_type": "code",
   "execution_count": 2,
   "metadata": {},
   "outputs": [
    {
     "name": "stdout",
     "output_type": "stream",
     "text": [
      "INFO:tensorflow:Mixed precision compatibility check (mixed_float16): OK\n",
      "Your GPU will likely run quickly with dtype policy mixed_float16 as it has compute capability of at least 7.0. Your GPU: NVIDIA GeForce RTX 2070 SUPER, compute capability 7.5\n"
     ]
    },
    {
     "name": "stderr",
     "output_type": "stream",
     "text": [
      "2021-07-12 11:59:24.875825: I tensorflow/stream_executor/platform/default/dso_loader.cc:53] Successfully opened dynamic library libcuda.so.1\n",
      "2021-07-12 11:59:24.911086: I tensorflow/stream_executor/cuda/cuda_gpu_executor.cc:923] could not open file to read NUMA node: /sys/bus/pci/devices/0000:09:00.0/numa_node\n",
      "Your kernel may have been built without NUMA support.\n",
      "2021-07-12 11:59:24.911439: I tensorflow/core/common_runtime/gpu/gpu_device.cc:1733] Found device 0 with properties: \n",
      "pciBusID: 0000:09:00.0 name: NVIDIA GeForce RTX 2070 SUPER computeCapability: 7.5\n",
      "coreClock: 1.8GHz coreCount: 40 deviceMemorySize: 8.00GiB deviceMemoryBandwidth: 417.29GiB/s\n",
      "2021-07-12 11:59:24.911472: I tensorflow/stream_executor/platform/default/dso_loader.cc:53] Successfully opened dynamic library libcudart.so.11.0\n",
      "2021-07-12 11:59:24.915276: I tensorflow/stream_executor/platform/default/dso_loader.cc:53] Successfully opened dynamic library libcublas.so.11\n",
      "2021-07-12 11:59:24.915363: I tensorflow/stream_executor/platform/default/dso_loader.cc:53] Successfully opened dynamic library libcublasLt.so.11\n",
      "2021-07-12 11:59:24.916115: I tensorflow/stream_executor/platform/default/dso_loader.cc:53] Successfully opened dynamic library libcufft.so.10\n",
      "2021-07-12 11:59:24.916682: I tensorflow/stream_executor/platform/default/dso_loader.cc:53] Successfully opened dynamic library libcurand.so.10\n",
      "2021-07-12 11:59:24.917350: I tensorflow/stream_executor/platform/default/dso_loader.cc:53] Successfully opened dynamic library libcusolver.so.11\n",
      "2021-07-12 11:59:24.917913: I tensorflow/stream_executor/platform/default/dso_loader.cc:53] Successfully opened dynamic library libcusparse.so.11\n",
      "2021-07-12 11:59:24.918039: I tensorflow/stream_executor/platform/default/dso_loader.cc:53] Successfully opened dynamic library libcudnn.so.8\n",
      "2021-07-12 11:59:24.919217: I tensorflow/stream_executor/cuda/cuda_gpu_executor.cc:923] could not open file to read NUMA node: /sys/bus/pci/devices/0000:09:00.0/numa_node\n",
      "Your kernel may have been built without NUMA support.\n",
      "2021-07-12 11:59:24.920642: I tensorflow/stream_executor/cuda/cuda_gpu_executor.cc:923] could not open file to read NUMA node: /sys/bus/pci/devices/0000:09:00.0/numa_node\n",
      "Your kernel may have been built without NUMA support.\n",
      "2021-07-12 11:59:24.921069: I tensorflow/core/common_runtime/gpu/gpu_device.cc:1871] Adding visible gpu devices: 0\n",
      "2021-07-12 11:59:24.923446: I tensorflow/stream_executor/cuda/cuda_gpu_executor.cc:923] could not open file to read NUMA node: /sys/bus/pci/devices/0000:09:00.0/numa_node\n",
      "Your kernel may have been built without NUMA support.\n"
     ]
    }
   ],
   "source": [
    "policy = tf.keras.mixed_precision.Policy('mixed_float16')\n",
    "tf.keras.mixed_precision.set_global_policy(policy)"
   ]
  },
  {
   "cell_type": "markdown",
   "metadata": {},
   "source": [
    "Because the data sets are big let's make sure that the GPU is available to speed up training."
   ]
  },
  {
   "cell_type": "code",
   "execution_count": 3,
   "metadata": {},
   "outputs": [
    {
     "name": "stdout",
     "output_type": "stream",
     "text": [
      "GPUs Available:  /device:GPU:0\n"
     ]
    },
    {
     "name": "stderr",
     "output_type": "stream",
     "text": [
      "2021-07-12 11:59:36.379242: I tensorflow/core/platform/cpu_feature_guard.cc:142] This TensorFlow binary is optimized with oneAPI Deep Neural Network Library (oneDNN) to use the following CPU instructions in performance-critical operations:  AVX2 FMA\n",
      "To enable them in other operations, rebuild TensorFlow with the appropriate compiler flags.\n",
      "2021-07-12 11:59:36.381910: I tensorflow/stream_executor/cuda/cuda_gpu_executor.cc:923] could not open file to read NUMA node: /sys/bus/pci/devices/0000:09:00.0/numa_node\n",
      "Your kernel may have been built without NUMA support.\n",
      "2021-07-12 11:59:36.382296: I tensorflow/core/common_runtime/gpu/gpu_device.cc:1733] Found device 0 with properties: \n",
      "pciBusID: 0000:09:00.0 name: NVIDIA GeForce RTX 2070 SUPER computeCapability: 7.5\n",
      "coreClock: 1.8GHz coreCount: 40 deviceMemorySize: 8.00GiB deviceMemoryBandwidth: 417.29GiB/s\n",
      "2021-07-12 11:59:36.383367: I tensorflow/stream_executor/cuda/cuda_gpu_executor.cc:923] could not open file to read NUMA node: /sys/bus/pci/devices/0000:09:00.0/numa_node\n",
      "Your kernel may have been built without NUMA support.\n",
      "2021-07-12 11:59:36.384610: I tensorflow/stream_executor/cuda/cuda_gpu_executor.cc:923] could not open file to read NUMA node: /sys/bus/pci/devices/0000:09:00.0/numa_node\n",
      "Your kernel may have been built without NUMA support.\n",
      "2021-07-12 11:59:36.384935: I tensorflow/core/common_runtime/gpu/gpu_device.cc:1871] Adding visible gpu devices: 0\n",
      "2021-07-12 11:59:36.385004: I tensorflow/stream_executor/platform/default/dso_loader.cc:53] Successfully opened dynamic library libcudart.so.11.0\n",
      "2021-07-12 11:59:37.474549: I tensorflow/core/common_runtime/gpu/gpu_device.cc:1258] Device interconnect StreamExecutor with strength 1 edge matrix:\n",
      "2021-07-12 11:59:37.474584: I tensorflow/core/common_runtime/gpu/gpu_device.cc:1264]      0 \n",
      "2021-07-12 11:59:37.474590: I tensorflow/core/common_runtime/gpu/gpu_device.cc:1277] 0:   N \n",
      "2021-07-12 11:59:37.476385: I tensorflow/stream_executor/cuda/cuda_gpu_executor.cc:923] could not open file to read NUMA node: /sys/bus/pci/devices/0000:09:00.0/numa_node\n",
      "Your kernel may have been built without NUMA support.\n",
      "2021-07-12 11:59:37.477678: I tensorflow/stream_executor/cuda/cuda_gpu_executor.cc:923] could not open file to read NUMA node: /sys/bus/pci/devices/0000:09:00.0/numa_node\n",
      "Your kernel may have been built without NUMA support.\n",
      "2021-07-12 11:59:37.477960: I tensorflow/core/common_runtime/gpu/gpu_device.cc:1501] Could not identify NUMA node of platform GPU id 0, defaulting to 0.  Your kernel may not have been built with NUMA support.\n",
      "2021-07-12 11:59:37.478601: I tensorflow/stream_executor/cuda/cuda_gpu_executor.cc:923] could not open file to read NUMA node: /sys/bus/pci/devices/0000:09:00.0/numa_node\n",
      "Your kernel may have been built without NUMA support.\n",
      "2021-07-12 11:59:37.478897: I tensorflow/core/common_runtime/gpu/gpu_device.cc:1418] Created TensorFlow device (/device:GPU:0 with 5950 MB memory) -> physical GPU (device: 0, name: NVIDIA GeForce RTX 2070 SUPER, pci bus id: 0000:09:00.0, compute capability: 7.5)\n"
     ]
    }
   ],
   "source": [
    "print(\"GPUs Available: \", tf.test.gpu_device_name())"
   ]
  },
  {
   "cell_type": "markdown",
   "metadata": {},
   "source": [
    "## Setting up the Data pipeline\n",
    "\n",
    "Read the labels for each class from file."
   ]
  },
  {
   "cell_type": "code",
   "execution_count": 7,
   "metadata": {},
   "outputs": [],
   "source": [
    "labels_1, labels_2, labels = [], [], []\n",
    "\n",
    "# load labels from file\n",
    "with open(r'/mnt/z/data_sets/etlcdb/encoding_1.txt', mode=\"r\", encoding=\"utf-8\") as f:\n",
    "    labels_1 = list(eval(f.read()).keys())\n",
    "with open(r'/mnt/z/data_sets/etlcdb/encoding_2.txt', mode=\"r\", encoding=\"utf-8\") as f:\n",
    "    labels_2 = list(eval(f.read()).keys())\n",
    "\n",
    "ls = labels_1 + labels_2\n",
    "# order the labels\n",
    "indexs = sorted([str(i) for i in range(0, len(ls))])\n",
    "ordered_labels = [ls[int(i)] for i in indexs]\n",
    "\n",
    "# save the labels to text files\n",
    "with open(r'/mnt/e/projects/DaKanjiRecognizerML/single_kanji_cnn/labels.txt', mode=\"w+\", encoding=\"utf-8\") as f:  \n",
    "    f.write(''.join(ls))"
   ]
  },
  {
   "cell_type": "markdown",
   "metadata": {},
   "source": [
    "Create a `tf.keras.dataset` from the saved files for test and validation."
   ]
  },
  {
   "cell_type": "code",
   "execution_count": 8,
   "metadata": {},
   "outputs": [],
   "source": [
    "#batch size\n",
    "bs=512\n",
    "h, w = 64, 64\n",
    "# class names\n",
    "classes = [str(i) for i in range(len(ls))]"
   ]
  },
  {
   "cell_type": "code",
   "execution_count": 9,
   "metadata": {},
   "outputs": [],
   "source": [
    "#define a font to show japanese characters in matplotlib figures\n",
    "import matplotlib.font_manager as fm\n",
    "show_sample_font = fm.FontProperties(fname=os.path.join(\"..\", \"fonts\", \"NotoSerifCJKjp-Regular.otf\"), size=20)\n",
    "\n",
    "def show_image(img : np.array, label : str):\n",
    "    plt.figure(figsize=(2.2, 2.2))\n",
    "    plt.title(label=label, font=show_sample_font)\n",
    "    plt.axis(\"off\")\n",
    "    plt.imshow(img.astype(np.float64), cmap=\"gray\")"
   ]
  },
  {
   "cell_type": "markdown",
   "metadata": {},
   "source": [
    "## Create datasets"
   ]
  },
  {
   "cell_type": "code",
   "execution_count": 122,
   "metadata": {},
   "outputs": [
    {
     "name": "stdout",
     "output_type": "stream",
     "text": [
      "Found 3638553 files belonging to 6507 classes.\n",
      "Using 2910843 files for training.\n"
     ]
    }
   ],
   "source": [
    "train_dataset = image_dataset_from_directory(\n",
    "    directory=r'Z:\\data_sets\\etlcdb',\n",
    "    #directory=r'Z:\\data_sets\\etlcdb_test',\n",
    "    labels=\"inferred\",\n",
    "    label_mode=\"categorical\",\n",
    "    class_names=classes,\n",
    "    color_mode=\"grayscale\",\n",
    "    batch_size=bs,\n",
    "    image_size=(64, 64),\n",
    "    validation_split=0.2,\n",
    "    subset=\"training\",\n",
    "    shuffle=True,\n",
    "    seed=123\n",
    ")"
   ]
  },
  {
   "cell_type": "code",
   "execution_count": 123,
   "metadata": {},
   "outputs": [
    {
     "name": "stdout",
     "output_type": "stream",
     "text": [
      "<TakeDataset shapes: ((None, 64, 64, 1), (None, 6507)), types: (tf.float16, tf.float16)>\n"
     ]
    }
   ],
   "source": [
    "train = train_dataset.map(\n",
    "    lambda x, y : (tf.cast(x, tf.float16), (tf.cast(y, tf.float16))),\n",
    "    num_parallel_calls=tf.data.AUTOTUNE\n",
    ")\n",
    "train = train.cache(r\"Z:\\data_sets\\etlcdb_cache\\cache_train\")\n",
    "#train = train.shuffle(buffer_size=bs*2)\n",
    "train = train.prefetch(buffer_size=tf.data.AUTOTUNE)\n",
    "\n",
    "print(train.take(0))"
   ]
  },
  {
   "cell_type": "code",
   "execution_count": 124,
   "metadata": {},
   "outputs": [
    {
     "name": "stdout",
     "output_type": "stream",
     "text": [
      "Found 3638553 files belonging to 6507 classes.\n",
      "Using 727710 files for validation.\n"
     ]
    }
   ],
   "source": [
    "val_dataset = image_dataset_from_directory(\n",
    "    directory=r'Z:\\data_sets\\etlcdb',\n",
    "    #directory=r'Z:\\data_sets\\etlcdb_test',\n",
    "    labels=\"inferred\",\n",
    "    label_mode=\"categorical\",\n",
    "    class_names=classes,\n",
    "    color_mode=\"grayscale\",\n",
    "    batch_size=bs,\n",
    "    image_size=(64, 64),\n",
    "    validation_split=0.2,\n",
    "    subset=\"validation\",\n",
    "    shuffle=True,\n",
    "    seed=123\n",
    ")"
   ]
  },
  {
   "cell_type": "code",
   "execution_count": 125,
   "metadata": {},
   "outputs": [
    {
     "name": "stdout",
     "output_type": "stream",
     "text": [
      "<TakeDataset shapes: ((None, 64, 64, 1), (None, 6507)), types: (tf.float16, tf.float16)>\n"
     ]
    }
   ],
   "source": [
    "val = val_dataset.map(\n",
    "    lambda x, y : (tf.cast(x, tf.float16), (tf.cast(y, tf.float16))),\n",
    "    num_parallel_calls=tf.data.AUTOTUNE\n",
    ")\n",
    "val = val.cache(r\"Z:\\data_sets\\etlcdb_cache\\cache_test\")\n",
    "#val = val.shuffle(buffer_size=bs*2)\n",
    "val = val.prefetch(buffer_size=tf.data.AUTOTUNE)\n",
    "\n",
    "print(val.take(0))"
   ]
  },
  {
   "cell_type": "markdown",
   "metadata": {},
   "source": [
    "## Defining and training the CNN\n",
    "First define image image preprocessing layers."
   ]
  },
  {
   "cell_type": "code",
   "execution_count": 13,
   "metadata": {},
   "outputs": [],
   "source": [
    "@tf.function\n",
    "def preprocess_tf(x):\n",
    "    \"\"\"\n",
    "    Preprocessing for TF Lite.\n",
    "    \n",
    "    Args:\n",
    "        x : a Tensor(batch_size, height, width, channels) of images to preprocess\n",
    "        \n",
    "    Return: \n",
    "        normalized, resized and to gray scaled converted Tensor of images\n",
    "    \"\"\"\n",
    "    \n",
    "    batch, height, width, channels = x.shape\n",
    "    \n",
    "    # normalize image between [0, 1]\n",
    "    m = tf.math.reduce_max(x)\n",
    "    preprocessed = tf.math.divide(x, m)\n",
    "    \n",
    "    # resize images to (64, 64)\n",
    "    preprocessed = tf.image.resize(preprocessed, (64, 64), method=tf.image.ResizeMethod.BILINEAR)\n",
    "    \n",
    "    # if the image is not grayscale convert it\n",
    "    if(channels == 3):\n",
    "        preprocessed = tf.image.rgb_to_grayscale(preprocessed)\n",
    "\n",
    "    return preprocessed\n",
    "\n",
    "\n",
    "class PreprocessTFLayer(tf.keras.layers.Layer):\n",
    "    def __init__(self, name=\"preprocess_tf\", **kwargs):\n",
    "        super(PreprocessTFLayer, self).__init__(name=name, **kwargs)\n",
    "        self.preprocess = preprocess_tf\n",
    "\n",
    "    def call(self, input):\n",
    "        return self.preprocess(input)\n",
    "\n",
    "    def get_config(self):\n",
    "        config = super(PreprocessTFLayer, self).get_config()\n",
    "        return config"
   ]
  },
  {
   "cell_type": "markdown",
   "metadata": {},
   "source": [
    "Define a layer for \"random erasing\" data augmentation."
   ]
  },
  {
   "cell_type": "code",
   "execution_count": 14,
   "metadata": {},
   "outputs": [],
   "source": [
    "@tf.function\n",
    "def random_erasing_tf(x):\n",
    "    return tf.map_fn(random_erasing, x)\n",
    "\n",
    "class RandomErasingTFLayer(tf.keras.layers.Layer):\n",
    "    def __init__(self, name=\"random_erasing_tf\", **kwargs):\n",
    "        super(RandomErasingTFLayer, self).__init__(name=name, **kwargs)\n",
    "        self.random_erasing = random_erasing_tf\n",
    "\n",
    "    def call(self, input):\n",
    "        return self.random_erasing(input)\n",
    "\n",
    "    def get_config(self):\n",
    "        config = super(RandomErasingTFLayer, self).get_config()\n",
    "        return config"
   ]
  },
  {
   "cell_type": "markdown",
   "metadata": {},
   "source": [
    "Custom layer for elastic distortion."
   ]
  },
  {
   "cell_type": "code",
   "execution_count": 15,
   "metadata": {},
   "outputs": [],
   "source": [
    "@tf.function\n",
    "def elastic_deform_tf(x):\n",
    "    \"\"\"\n",
    "    Elastic deformation layer.\n",
    "    \n",
    "    Args:\n",
    "        x : a Tensor(batch_size, height, width, channels) of images to preprocess\n",
    "        \n",
    "    Returns: \n",
    "        Images on which elastic deform was applied.\n",
    "    \"\"\"\n",
    "    x = tf.reshape(x, (x.shape[0], 64, 64))\n",
    "    x = tf.cast(x, tf.float32)\n",
    "\n",
    "    # generate a deformation grid\n",
    "    displacement = np.random.randn(3, 1, 1, 1) * 2\n",
    "\n",
    "    # perform forward deformation\n",
    "    x_deformed = edf.tf.deform_grid(x, displacement)\n",
    "    \n",
    "    return x_deformed\n",
    "\n",
    "class ElasticDeformTFLayer(tf.keras.layers.Layer):\n",
    "    def __init__(self, name=\"elastic_deform_tf\", **kwargs):\n",
    "        super(ElasticDeformTFLayer, self).__init__(name=name, **kwargs)\n",
    "        self.preprocess = elastic_deform_tf\n",
    "\n",
    "    def call(self, input):\n",
    "        return self.preprocess(input)\n",
    "\n",
    "    def get_config(self):\n",
    "        config = super(ElasticDeformTFLayer, self).get_config()\n",
    "        return config"
   ]
  },
  {
   "cell_type": "markdown",
   "metadata": {},
   "source": [
    "Now define a Sequential model for image preprocessing and augmentation layers."
   ]
  },
  {
   "cell_type": "code",
   "execution_count": 16,
   "metadata": {},
   "outputs": [],
   "source": [
    "from tensorflow.keras.layers.experimental.preprocessing import Resizing, Rescaling, RandomZoom, RandomRotation, RandomTranslation\n",
    "\n",
    "img_augmentation = tf.keras.Sequential(\n",
    "    [\n",
    "        PreprocessTFLayer(),\n",
    "        RandomErasingTFLayer(),\n",
    "        #ElasticDeformTFLayer(),\n",
    "        \n",
    "        # random data augmentation\n",
    "        RandomZoom(height_factor=(-0.2, 1.0), width_factor=(-0.2, 1.0), \n",
    "            fill_mode='constant', interpolation='bilinear', fill_value=0.0\n",
    "        ),\n",
    "        RandomTranslation(0.2, 0.2, fill_mode=\"constant\"),\n",
    "        RandomRotation(factor=(-0.1, 0.1) , fill_mode='constant', interpolation='bilinear'),\n",
    "    ],\n",
    "    name = \"img_augmentation\"\n",
    ")"
   ]
  },
  {
   "cell_type": "markdown",
   "metadata": {},
   "source": [
    "Make sure the image augmentaiton layers are working."
   ]
  },
  {
   "cell_type": "code",
   "execution_count": 17,
   "metadata": {},
   "outputs": [
    {
     "name": "stdout",
     "output_type": "stream",
     "text": [
      "驛\n"
     ]
    },
    {
     "data": {
      "image/png": "[encoded data removed]",
      "text/plain": [
       "<Figure size 720x720 with 9 Axes>"
      ]
     },
     "metadata": {
      "needs_background": "light"
     },
     "output_type": "display_data"
    }
   ],
   "source": [
    "imgs, lbs = [], []\n",
    "for images, labels in train_dataset:\n",
    "    for img, label in zip(images, labels):\n",
    "        imgs.append(img)\n",
    "        lbs.append(label)\n",
    "        break\n",
    "    break\n",
    "    \n",
    "plt.figure(figsize=(10, 10))\n",
    "\n",
    "print(ls[np.argmax(lbs[0])])\n",
    "for i in range(9):\n",
    "    augmented_images = img_augmentation(images)\n",
    "    ax = plt.subplot(3, 3, i + 1)\n",
    "    plt.imshow(augmented_images[0].numpy().reshape((64, 64)).astype(np.float64), cmap=\"gray\")\n",
    "    plt.axis(\"off\")"
   ]
  },
  {
   "cell_type": "markdown",
   "metadata": {},
   "source": [
    "Create an EfficientNet Lite model and merge preprocessing, augmentation layers with it to one model."
   ]
  },
  {
   "cell_type": "code",
   "execution_count": 116,
   "metadata": {},
   "outputs": [
    {
     "name": "stdout",
     "output_type": "stream",
     "text": [
      "Model: \"sequential_3\"\n",
      "_________________________________________________________________\n",
      "Layer (type)                 Output Shape              Param #   \n",
      "=================================================================\n",
      "preprocess_tf (PreprocessTFL (None, 64, 64, 1)         0         \n",
      "_________________________________________________________________\n",
      "img_augmentation (Sequential (None, None, 64, 1)       0         \n",
      "_________________________________________________________________\n",
      "efficientnetlite0 (Functiona (None, 6507)              11747915  \n",
      "=================================================================\n",
      "Total params: 11,747,915\n",
      "Trainable params: 11,705,899\n",
      "Non-trainable params: 42,016\n",
      "_________________________________________________________________\n"
     ]
    }
   ],
   "source": [
    "from efficientnet_lite import EfficientNetLiteB0\n",
    "\n",
    "eff_net_lite = EfficientNetLiteB0(\n",
    "    include_top=True,\n",
    "    weights=None,\n",
    "    input_shape=(64, 64, 1),\n",
    "    classes=len(ls),\n",
    "    pooling=\"max\",\n",
    "    classifier_activation=\"softmax\",\n",
    ")\n",
    "\n",
    "f16_model = tf.keras.Sequential([\n",
    "    tf.keras.layers.InputLayer(input_shape=(None, None, 1)),\n",
    "    PreprocessTFLayer(),\n",
    "    img_augmentation,\n",
    "    eff_net_lite,\n",
    "])\n",
    "f16_model.summary()"
   ]
  },
  {
   "cell_type": "markdown",
   "metadata": {},
   "source": [
    "Set a path to save model realted files and optionally load stored weights to resume training."
   ]
  },
  {
   "cell_type": "code",
   "execution_count": 117,
   "metadata": {},
   "outputs": [
    {
     "name": "stdout",
     "output_type": "stream",
     "text": [
      "model_dir: E:\\projects\\DaKanjiRecognizerML\\single_kanji_cnn\\model\n"
     ]
    }
   ],
   "source": [
    "#path where the model should be saved\n",
    "model_dir = os.path.join(os.getcwd(), \"model\")\n",
    "print(\"model_dir:\", model_dir)\n",
    "\n",
    "#f16_model.load_weights(os.path.join(model_dir, \"tf\", \"checkpoints\", \"weights-improvement-14-0.94.hdf5\"))"
   ]
  },
  {
   "cell_type": "markdown",
   "metadata": {},
   "source": [
    "Set the optimizer, loss function and compile the model"
   ]
  },
  {
   "cell_type": "code",
   "execution_count": 118,
   "metadata": {},
   "outputs": [],
   "source": [
    "l_r = 0.001\n",
    "opt = tf.keras.optimizers.Adam(learning_rate=l_r)\n",
    "\n",
    "METRICS = [\n",
    "    'accuracy', \n",
    "    #tf.keras.metrics.Precision(name='precision'),\n",
    "    #tf.keras.metrics.Recall(name='recall'),\n",
    "]\n",
    "\n",
    "f16_model.compile(optimizer=opt, loss=\"categorical_crossentropy\", metrics=METRICS)"
   ]
  },
  {
   "cell_type": "markdown",
   "metadata": {},
   "source": [
    "Setup callbacks for the model."
   ]
  },
  {
   "cell_type": "code",
   "execution_count": 119,
   "metadata": {
    "tags": []
   },
   "outputs": [
    {
     "name": "stdout",
     "output_type": "stream",
     "text": [
      "checkpoints dir: E:\\projects\\DaKanjiRecognizerML\\single_kanji_cnn\\model\\tf\\checkpoints\\weights-improvement-{epoch:02d}-{val_accuracy:.2f}.hdf5\n",
      "The tensorboard extension is already loaded. To reload it, use:\n",
      "  %reload_ext tensorboard\n",
      "tensorboard log dir: E:\\projects\\DaKanjiRecognizerML\\single_kanji_cnn\\model\\tf\\logs\\20210711-165704\n"
     ]
    }
   ],
   "source": [
    "from tensorflow.keras.callbacks import ModelCheckpoint\n",
    "\n",
    "#CHECKPOINTS\n",
    "filepath = os.path.join(model_dir, \"tf\", \"checkpoints\", \"weights-improvement-{epoch:02d}-{val_accuracy:.2f}.hdf5\")\n",
    "checkpoint = ModelCheckpoint(filepath, monitor='val_accuracy', verbose=1, save_best_only=True, mode='max')\n",
    "\n",
    "callbacks_list = [checkpoint]\n",
    "\n",
    "print(\"checkpoints dir:\", filepath)\n",
    "\n",
    "# TENSORBOARD\n",
    "# load the tensorboard extension\n",
    "%load_ext tensorboard\n",
    "\n",
    "# add the tensorboard callback\n",
    "log_dir = os.path.join(model_dir, \"tf\", \"logs\", datetime.datetime.now().strftime(\"%Y%m%d-%H%M%S\"))\n",
    "tensorboard_callback = tf.keras.callbacks.TensorBoard(log_dir=log_dir, histogram_freq=1)\n",
    "callbacks_list.append(tensorboard_callback)\n",
    "\n",
    "print(\"tensorboard log dir:\", log_dir)\n",
    "\n",
    "# LEARNING RATE SCHEDULER\n",
    "def scheduler(epoch, lr):\n",
    "    return l_r - ((l_r / 100 * 4) * (epoch // 3))\n",
    "\n",
    "scheduler_callback = tf.keras.callbacks.LearningRateScheduler(scheduler, verbose=1)\n",
    "callbacks_list.append(scheduler_callback)"
   ]
  },
  {
   "cell_type": "markdown",
   "metadata": {},
   "source": [
    "Finally train the model on the data set."
   ]
  },
  {
   "cell_type": "code",
   "execution_count": null,
   "metadata": {},
   "outputs": [
    {
     "name": "stdout",
     "output_type": "stream",
     "text": [
      "Epoch 1/20\n",
      "\n",
      "Epoch 00001: LearningRateScheduler reducing learning rate to 0.001.\n",
      "1618/5686 [=======>......................] - ETA: 2:32:24 - loss: 2.7753 - accuracy: 0.4227"
     ]
    }
   ],
   "source": [
    "#train the model\n",
    "hist = f16_model.fit(\n",
    "    train,\n",
    "    validation_data=val,\n",
    "    epochs=20,\n",
    "    initial_epoch=0,\n",
    "    workers=16,\n",
    "    use_multiprocessing=True,\n",
    "    callbacks=callbacks_list,\n",
    ")"
   ]
  },
  {
   "cell_type": "markdown",
   "metadata": {},
   "source": [
    "## Evaluating the model\n",
    "\n",
    "After training plot the loss and accuracy for the test and validation sets."
   ]
  },
  {
   "cell_type": "code",
   "execution_count": 34,
   "metadata": {},
   "outputs": [
    {
     "data": {
      "image/png": "[encoded data removed]",
      "text/plain": [
       "<Figure size 432x288 with 2 Axes>"
      ]
     },
     "metadata": {
      "needs_background": "light"
     },
     "output_type": "display_data"
    }
   ],
   "source": [
    "fig, axs = plt.subplots(2)\n",
    "\n",
    "# accuracy\n",
    "axs[0].plot(hist.history['accuracy'])\n",
    "axs[0].plot(hist.history['val_accuracy'])\n",
    "axs[0].set_title('model accuracy')\n",
    "axs[0].set_ylabel('accuracy')\n",
    "axs[0].set_xlabel('epoch')\n",
    "axs[0].legend(['train', 'val'], loc='lower right')\n",
    "axs[0].tick_params(\n",
    "    axis='both',\n",
    "    which='both',\n",
    "    bottom=False,\n",
    "    top=False,\n",
    "    labelbottom=False)\n",
    "\n",
    "# loss\n",
    "axs[1].plot(hist.history['loss'])\n",
    "axs[1].plot(hist.history['val_loss'])\n",
    "axs[1].set_title('model loss')\n",
    "axs[1].set_ylabel('loss')\n",
    "axs[1].set_xlabel('epoch')\n",
    "axs[1].legend(['train', 'val'], loc='upper right')\n",
    "axs[1].tick_params(\n",
    "    axis='both',\n",
    "    which='both',\n",
    "    bottom=False,\n",
    "    top=False,\n",
    "    labelbottom=False)\n"
   ]
  },
  {
   "cell_type": "markdown",
   "metadata": {},
   "source": [
    "The graphs look good.\n",
    "Let's now make a prediction."
   ]
  },
  {
   "cell_type": "code",
   "execution_count": 40,
   "metadata": {},
   "outputs": [],
   "source": [
    "# reload weights from file if necessary\n",
    "#f16_model.load_weights(os.path.join(model_dir, \"tf\", \"checkpoints_own_cnn\", \"weights-improvement-73-0.97.hdf5\"))\n",
    "#f16_model.compile()"
   ]
  },
  {
   "cell_type": "code",
   "execution_count": 16,
   "metadata": {},
   "outputs": [
    {
     "name": "stdout",
     "output_type": "stream",
     "text": [
      "['訃', '咏', '泝', '惻', '膚', '茫', '段', '腸', '算', '蓉']\n"
     ]
    },
    {
     "data": {
      "image/png": "[encoded data removed]",
      "text/plain": [
       "<Figure size 158.4x158.4 with 1 Axes>"
      ]
     },
     "metadata": {
      "needs_background": "light"
     },
     "output_type": "display_data"
    }
   ],
   "source": [
    "# load a sample\n",
    "sample = tf.keras.preprocessing.image.load_img(\n",
    "    path= r\"Z:\\data_sets\\etlcdb\\1540\\42.jpg\",\n",
    "    color_mode=\"grayscale\",\n",
    "    target_size=(64, 64)\n",
    ")\n",
    "\n",
    "sample = tf.keras.preprocessing.image.img_to_array(sample)\n",
    "sample = sample.reshape((1, 64, 64, 1)) / 255\n",
    "\n",
    "# run inference\n",
    "prediction = eff_net_lite.predict(sample)[0]\n",
    "\n",
    "# output 10 most liekly predictions\n",
    "ind = np.argpartition(prediction, -10)[-10:]\n",
    "q = ind[np.argsort(prediction[ind])]\n",
    "print([ordered_labels[i] for i in reversed(q)])\n",
    "\n",
    "# show the most confident prediction and the image\n",
    "show_image(sample.reshape((64, 64)), ls[prediction.argmax()] + \" - %.2f\" % prediction.max())"
   ]
  },
  {
   "cell_type": "markdown",
   "metadata": {},
   "source": [
    "## Fine tune the model with pruning. "
   ]
  },
  {
   "cell_type": "code",
   "execution_count": null,
   "metadata": {},
   "outputs": [],
   "source": [
    "pass"
   ]
  },
  {
   "cell_type": "markdown",
   "metadata": {},
   "source": [
    "## Saving the model\n",
    "\n",
    "The model is perfoming very well therefore save the trained model as a \"*.pb\" file."
   ]
  },
  {
   "cell_type": "code",
   "execution_count": 34,
   "metadata": {},
   "outputs": [
    {
     "name": "stderr",
     "output_type": "stream",
     "text": [
      "E:\\projects\\DaKanjiRecognizerML\\.venv\\lib\\site-packages\\tensorflow\\python\\keras\\utils\\generic_utils.py:494: CustomMaskWarning: Custom mask layers require a config and must override get_config. When loading, the custom mask layer must be passed to the custom_objects argument.\n",
      "  warnings.warn('Custom mask layers require a config and must override '\n"
     ]
    },
    {
     "name": "stdout",
     "output_type": "stream",
     "text": [
      "INFO:tensorflow:Assets written to: E:\\projects\\DaKanjiRecognizerML\\single_kanji_cnn\\model\\tf\\trained_model\\assets\n"
     ]
    }
   ],
   "source": [
    "eff_net_lite.save(\n",
    "    os.path.join(model_dir, \"tf\", \"trained_model\"),\n",
    ")"
   ]
  },
  {
   "cell_type": "markdown",
   "metadata": {},
   "source": [
    "Finally convert the model to a TF-Light model to be used in applications."
   ]
  },
  {
   "cell_type": "code",
   "execution_count": 202,
   "metadata": {},
   "outputs": [
    {
     "name": "stdout",
     "output_type": "stream",
     "text": [
      "Model: \"sequential_30\"\n",
      "_________________________________________________________________\n",
      "Layer (type)                 Output Shape              Param #   \n",
      "=================================================================\n",
      "preprocess_tf (PreprocessTFL (None, 64, 64, 1)         0         \n",
      "_________________________________________________________________\n",
      "sequential_29 (Sequential)   (None, 6507)              11747915  \n",
      "=================================================================\n",
      "Total params: 11,747,915\n",
      "Trainable params: 11,705,899\n",
      "Non-trainable params: 42,016\n",
      "_________________________________________________________________\n",
      "WARNING:tensorflow:Compiled the loaded model, but the compiled metrics have yet to be built. `model.compile_metrics` will be empty until you train or evaluate the model.\n"
     ]
    },
    {
     "name": "stderr",
     "output_type": "stream",
     "text": [
      "WARNING:tensorflow:Compiled the loaded model, but the compiled metrics have yet to be built. `model.compile_metrics` will be empty until you train or evaluate the model.\n",
      "E:\\projects\\DaKanjiRecognizerML\\.venv\\lib\\site-packages\\tensorflow\\python\\keras\\utils\\generic_utils.py:494: CustomMaskWarning: Custom mask layers require a config and must override get_config. When loading, the custom mask layer must be passed to the custom_objects argument.\n",
      "  warnings.warn('Custom mask layers require a config and must override '\n"
     ]
    },
    {
     "name": "stdout",
     "output_type": "stream",
     "text": [
      "INFO:tensorflow:Assets written to: C:\\Users\\dario\\AppData\\Local\\Temp\\tmpat6o_tq9\\assets\n"
     ]
    },
    {
     "name": "stderr",
     "output_type": "stream",
     "text": [
      "INFO:tensorflow:Assets written to: C:\\Users\\dario\\AppData\\Local\\Temp\\tmpat6o_tq9\\assets\n"
     ]
    },
    {
     "name": "stdout",
     "output_type": "stream",
     "text": [
      "E:\\projects\\DaKanjiRecognizerML\\single_kanji_cnn\\model\\tflite\\model.tflite\n"
     ]
    }
   ],
   "source": [
    "# set the dtype policy to float32\n",
    "policy = tf.keras.mixed_precision.Policy('float32')\n",
    "tf.keras.mixed_precision.set_global_policy(policy)\n",
    "\n",
    "# Create a new EfficientNet Lite (with float 32) and restore the weights\n",
    "eff = EfficientNetLiteB0(\n",
    "    include_top=True,\n",
    "    weights=None,\n",
    "    input_shape=(64, 64, 1),\n",
    "    classes=len(ls),\n",
    "    pooling=\"max\",\n",
    "    classifier_activation=\"softmax\"\n",
    ")\n",
    "eff.set_weights(f16_model.get_weights())\n",
    "\n",
    "model = tf.keras.Sequential([\n",
    "    tf.keras.layers.InputLayer(input_shape=(None, None, 1)),\n",
    "    PreprocessTFLayer(),\n",
    "    eff\n",
    "], name=\"efficientnet_lite_inference\")\n",
    "model.summary()\n",
    "\n",
    "# Convert the model\n",
    "converter = tf.lite.TFLiteConverter.from_keras_model(model)\n",
    "\n",
    "# set quantization, additional ops\n",
    "converter.optimizations = [tf.lite.Optimize.DEFAULT]\n",
    "converter.target_spec.supported_types = [tf.float16]\n",
    "\n",
    "tflite_model = converter.convert()\n",
    "\n",
    "# Save the model.\n",
    "print(os.path.join(model_dir, \"tflite\", \"model.tflite\"))\n",
    "with open(os.path.join(model_dir, \"tflite\", \"model.tflite\"), 'wb') as f:\n",
    "  f.write(tflite_model)\n"
   ]
  },
  {
   "cell_type": "code",
   "execution_count": 29,
   "metadata": {},
   "outputs": [
    {
     "ename": "RuntimeError",
     "evalue": "Encountered unresolved custom op: ScaleAndTranslate.Node number 2 (ScaleAndTranslate) failed to prepare.\n",
     "output_type": "error",
     "traceback": [
      "\u001b[1;31m---------------------------------------------------------------------------\u001b[0m",
      "\u001b[1;31mRuntimeError\u001b[0m                              Traceback (most recent call last)",
      "\u001b[1;32m<ipython-input-29-b912d8a47044>\u001b[0m in \u001b[0;36m<module>\u001b[1;34m\u001b[0m\n\u001b[0;32m      1\u001b[0m \u001b[1;31m# create a tf lite interpreter\u001b[0m\u001b[1;33m\u001b[0m\u001b[1;33m\u001b[0m\u001b[1;33m\u001b[0m\u001b[0m\n\u001b[0;32m      2\u001b[0m \u001b[0minterpreter\u001b[0m \u001b[1;33m=\u001b[0m \u001b[0mtf\u001b[0m\u001b[1;33m.\u001b[0m\u001b[0mlite\u001b[0m\u001b[1;33m.\u001b[0m\u001b[0mInterpreter\u001b[0m\u001b[1;33m(\u001b[0m\u001b[0mos\u001b[0m\u001b[1;33m.\u001b[0m\u001b[0mpath\u001b[0m\u001b[1;33m.\u001b[0m\u001b[0mjoin\u001b[0m\u001b[1;33m(\u001b[0m\u001b[0mmodel_dir\u001b[0m\u001b[1;33m,\u001b[0m \u001b[1;34m\"tflite\"\u001b[0m\u001b[1;33m,\u001b[0m \u001b[1;34m\"model.tflite\"\u001b[0m\u001b[1;33m)\u001b[0m\u001b[1;33m)\u001b[0m\u001b[1;33m\u001b[0m\u001b[1;33m\u001b[0m\u001b[0m\n\u001b[1;32m----> 3\u001b[1;33m \u001b[0minterpreter\u001b[0m\u001b[1;33m.\u001b[0m\u001b[0mallocate_tensors\u001b[0m\u001b[1;33m(\u001b[0m\u001b[1;33m)\u001b[0m\u001b[1;33m\u001b[0m\u001b[1;33m\u001b[0m\u001b[0m\n\u001b[0m\u001b[0;32m      4\u001b[0m \u001b[1;33m\u001b[0m\u001b[0m\n\u001b[0;32m      5\u001b[0m \u001b[1;31m# Get input and output tensors.\u001b[0m\u001b[1;33m\u001b[0m\u001b[1;33m\u001b[0m\u001b[1;33m\u001b[0m\u001b[0m\n",
      "\u001b[1;32mE:\\projects\\DaKanjiRecognizerML\\.venv\\lib\\site-packages\\tensorflow\\lite\\python\\interpreter.py\u001b[0m in \u001b[0;36mallocate_tensors\u001b[1;34m(self)\u001b[0m\n\u001b[0;32m    406\u001b[0m   \u001b[1;32mdef\u001b[0m \u001b[0mallocate_tensors\u001b[0m\u001b[1;33m(\u001b[0m\u001b[0mself\u001b[0m\u001b[1;33m)\u001b[0m\u001b[1;33m:\u001b[0m\u001b[1;33m\u001b[0m\u001b[1;33m\u001b[0m\u001b[0m\n\u001b[0;32m    407\u001b[0m     \u001b[0mself\u001b[0m\u001b[1;33m.\u001b[0m\u001b[0m_ensure_safe\u001b[0m\u001b[1;33m(\u001b[0m\u001b[1;33m)\u001b[0m\u001b[1;33m\u001b[0m\u001b[1;33m\u001b[0m\u001b[0m\n\u001b[1;32m--> 408\u001b[1;33m     \u001b[1;32mreturn\u001b[0m \u001b[0mself\u001b[0m\u001b[1;33m.\u001b[0m\u001b[0m_interpreter\u001b[0m\u001b[1;33m.\u001b[0m\u001b[0mAllocateTensors\u001b[0m\u001b[1;33m(\u001b[0m\u001b[1;33m)\u001b[0m\u001b[1;33m\u001b[0m\u001b[1;33m\u001b[0m\u001b[0m\n\u001b[0m\u001b[0;32m    409\u001b[0m \u001b[1;33m\u001b[0m\u001b[0m\n\u001b[0;32m    410\u001b[0m   \u001b[1;32mdef\u001b[0m \u001b[0m_safe_to_run\u001b[0m\u001b[1;33m(\u001b[0m\u001b[0mself\u001b[0m\u001b[1;33m)\u001b[0m\u001b[1;33m:\u001b[0m\u001b[1;33m\u001b[0m\u001b[1;33m\u001b[0m\u001b[0m\n",
      "\u001b[1;31mRuntimeError\u001b[0m: Encountered unresolved custom op: ScaleAndTranslate.Node number 2 (ScaleAndTranslate) failed to prepare.\n"
     ]
    }
   ],
   "source": [
    "# create a tf lite interpreter\n",
    "interpreter = tf.lite.Interpreter(os.path.join(model_dir, \"tflite\", \"model.tflite\"))\n",
    "interpreter.allocate_tensors()\n",
    "\n",
    "# Get input and output tensors.\n",
    "input_details = interpreter.get_input_details()\n",
    "output_details = interpreter.get_output_details()\n",
    "\n",
    "# Test the model on random input data.\n",
    "input_shape = input_details[0]['shape']\n",
    "input_data = sample\n",
    "interpreter.set_tensor(input_details[0]['index'], input_data)\n",
    "\n",
    "# run interpreter\n",
    "interpreter.invoke()\n",
    "output_data = interpreter.get_tensor(output_details[0]['index'])\n",
    "\n",
    "# show prediction\n",
    "show_image(sample.reshape(64, 64), ls[output_data.argmax()])"
   ]
  }
 ],
 "metadata": {
  "interpreter": {
   "hash": "7b66e6ad73e4584ec1c4fbbc9ad8719d99baf4738cd57ba39e580b8e9994d93a"
  },
  "kernelspec": {
   "display_name": "Python 3 (ipykernel)",
   "language": "python",
   "name": "python3"
  },
  "language_info": {
   "codemirror_mode": {
    "name": "ipython",
    "version": 3
   },
   "file_extension": ".py",
   "mimetype": "text/x-python",
   "name": "python",
   "nbconvert_exporter": "python",
   "pygments_lexer": "ipython3",
   "version": "3.9.6"
  }
 },
 "nbformat": 4,
 "nbformat_minor": 4
}
