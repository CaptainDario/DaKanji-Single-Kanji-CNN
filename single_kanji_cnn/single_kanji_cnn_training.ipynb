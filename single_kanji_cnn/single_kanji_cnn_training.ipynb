{
 "cells": [
  {
   "cell_type": "markdown",
   "metadata": {},
   "source": [
    "# DaKanjiRecognizer - Single Kanji CNN : Training"
   ]
  },
  {
   "cell_type": "markdown",
   "metadata": {},
   "source": [
    "## Setup\n",
    "\n",
    "Import the needed libraries."
   ]
  },
  {
   "cell_type": "code",
   "execution_count": 1,
   "metadata": {},
   "outputs": [],
   "source": [
    "#std lib\n",
    "import sys\n",
    "import os\n",
    "import random\n",
    "import math\n",
    "import random\n",
    "import multiprocessing as mp\n",
    "import gc\n",
    "import time\n",
    "import datetime\n",
    "\n",
    "#reading the dataset\n",
    "from etldr.etl_data_reader import ETLDataReader\n",
    "from etldr.etl_character_groups import ETLCharacterGroups\n",
    "from etldr.etl_data_names import ETLDataNames\n",
    "\n",
    "#data handling\n",
    "import PIL\n",
    "from PIL import Image as PImage\n",
    "from PIL import ImageFilter\n",
    "import numpy as np\n",
    "\n",
    "#ML\n",
    "%load_ext tensorboard\n",
    "import tensorflow as tf\n",
    "from tensorflow.keras.callbacks import ModelCheckpoint\n",
    "\n",
    "#creating one hot encodings\n",
    "from sklearn.preprocessing import LabelBinarizer\n",
    "\n",
    "#plotting/showing graphics\n",
    "%matplotlib inline\n",
    "import matplotlib.pyplot as plt\n",
    "from IPython.display import Image\n",
    "\n",
    "#define a font to show japanese characters in matplotlib figures\n",
    "import matplotlib.font_manager as fm\n",
    "font = fm.FontProperties(fname=os.path.join(\"font\", \"NotoSerifCJKjp-Regular.otf\"), size=20)"
   ]
  },
  {
   "cell_type": "markdown",
   "metadata": {},
   "source": [
    "Because the data sets are big let's make sure that the GPU is available to speed up training."
   ]
  },
  {
   "cell_type": "code",
   "execution_count": 2,
   "metadata": {},
   "outputs": [
    {
     "name": "stdout",
     "output_type": "stream",
     "text": [
      "GPUs Available:  /device:GPU:0\n"
     ]
    }
   ],
   "source": [
    "print(\"GPUs Available: \", tf.test.gpu_device_name())"
   ]
  },
  {
   "cell_type": "markdown",
   "metadata": {},
   "source": [
    "If a GPU with native 16 bit float support (ex.: RTX-series) is available, enable support for it here."
   ]
  },
  {
   "cell_type": "code",
   "execution_count": 3,
   "metadata": {},
   "outputs": [
    {
     "name": "stdout",
     "output_type": "stream",
     "text": [
      "INFO:tensorflow:Mixed precision compatibility check (mixed_float16): OK\n",
      "Your GPU will likely run quickly with dtype policy mixed_float16 as it has compute capability of at least 7.0. Your GPU: GeForce RTX 2070 SUPER, compute capability 7.5\n"
     ]
    }
   ],
   "source": [
    "physical_devices = tf.config.list_physical_devices('GPU') \n",
    "tf.config.experimental.set_memory_growth(physical_devices[0], True)\n",
    "\n",
    "tf.keras.mixed_precision.set_global_policy(\"mixed_float16\")"
   ]
  },
  {
   "cell_type": "markdown",
   "metadata": {},
   "source": [
    "## Preparing the data"
   ]
  },
  {
   "cell_type": "markdown",
   "metadata": {},
   "source": [
    "The [ETL Character data set](http://etlcdb.db.aist.go.jp/) which I am using is a data set with multiple sub sets (ETL1 - ETL7, ETL8B, ETL8G, ETL9B and ETL9G). <br/>\n",
    "After unpacking the data set I renamed all folders and files to have a uniform naming scheme: \"ETLX/ETLX_Y\". \"X\" is the number of the subset and Y the part of the subset. Also ETL7S was removed (ETL7L just smaller), the following renaming was also done: <br/>\n",
    "ETL8B $\\rightarrow$ ETL1, ETL8G $\\rightarrow$ ETL9, ETL9B $\\rightarrow$ ETL10 and ETL9G $\\rightarrow$ ETL11.<br/>\n",
    "This leads to the following data set structure: <br/> \n",
    "\n",
    "| name  |   type  |                    content                                              |   res   | Bit depth |    code    | samples perlabel | total samples |\n",
    "|:-----:|:-------:|:-----------------------------------------------------------------------:|:-------:|:---------:|:----------:|:----------------:|:-------------:|\n",
    "| ETL1  | M-Type  | Numbers <br/> Roman <br/> Symbols <br/> Katakana                        |  64x63  |     4     | JIS X 0201 |   ~1400          |     141319    |\n",
    "| ETL2  | K-Type  | Hiragana <br/> Katakana <br/> Kanji <br/> Roman <br/> Symbols           |  60x60  |     6     |    CO59    |     ~24          |      52796    |\n",
    "| ETL3  | C-Type  | Numeric <br/> Capital Roman <br/> Symbols                               |  72x76  |     4     | JIS X 0201 |     200          |       9600    |\n",
    "| ETL4  | C-Type  | Hiragana                                                                |  72x76  |     4     | JIS X 0201 |     120          |       6120    |\n",
    "| ETL5  | C-Type  | Katakana                                                                |  72x76  |     4     | JIS X 0201 |    ~200          |      10608    |\n",
    "| ETL6  | M-Type  | Katakana <br/> Symbols                                                  |  64x63  |     4     | JIS X 0201 |    1383          |     157662    |\n",
    "| ETL7  | M-Type  | Hiragana <br/> Symbols                                                  |  64x63  |     4     | JIS X 0201 |     160          |      16800    |\n",
    "| ETL8  | 8B-Type | Hiragana <br/> Kanji                                                    |  64x63  |     1     | JIS X 0208 |     160          |     157662    |\n",
    "| ETL9  | 8G-Type | Hiragana <br/> Kanji                                                    | 128x127 |     4     | JIS X 0208 |     200          |     607200    |\n",
    "| ETL10 | 9B-Type | Hiragana <br/> Kanji                                                    |  64x63  |     1     | JIS X 0208 |     160          |     152960    |\n",
    "| ETL11 | 9G-Type | Hiragana <br/> Kanji                                                    | 128x127 |     4     | JIS X 0208 |     200          |     607200    |\n"
   ]
  },
  {
   "cell_type": "markdown",
   "metadata": {},
   "source": [
    "Because the provided data set is distributed in a proprietary binary data format and therefore a little hard to handle I created a ```ETL_data_reader```-package. This package can be found [here](https://github.com/CaptainDario/ETL_data_reader).\n",
    "The specific dataformat is C-struct like for types: M, 8B, 8G, 9B, 9G. But the types C and K have a 6-bit code. All codes can be found on the [official website.](http://etlcdb.db.aist.go.jp/file-formats-and-sample-unpacking-code)\n",
    "I used the [struct module](https://docs.python.org/3/library/struct.html) and the [bitstring module](https://pypi.org/project/bitstring/) to unpack the binary data. <br/>"
   ]
  },
  {
   "cell_type": "markdown",
   "metadata": {},
   "source": [
    "First an instance of the ```ERL_data_reader``` -class is needed.\n",
    "The path parameter should lead to the folder in which all parts of the ETL data set can be found."
   ]
  },
  {
   "cell_type": "code",
   "execution_count": 4,
   "metadata": {
    "tags": []
   },
   "outputs": [],
   "source": [
    "path = \"F:\\data_sets\\ETL_kanji\"\n",
    "reader = ETLDataReader(path)"
   ]
  },
  {
   "cell_type": "markdown",
   "metadata": {},
   "source": [
    "Now check that everything is setup correctly by loading samples from the data set and showing one."
   ]
  },
  {
   "cell_type": "code",
   "execution_count": 5,
   "metadata": {},
   "outputs": [
    {
     "data": {
      "application/vnd.jupyter.widget-view+json": {
       "model_id": "",
       "version_major": 2,
       "version_minor": 0
      },
      "text/plain": [
       "  0%|          | 0/12144 [00:00<?, ?it/s]"
      ]
     },
     "metadata": {},
     "output_type": "display_data"
    }
   ],
   "source": [
    "sample_img, sample_lable = reader.read_dataset_file(1, ETLDataNames.ETL11, [ETLCharacterGroups.all])"
   ]
  },
  {
   "cell_type": "markdown",
   "metadata": {},
   "source": [
    "Define a convenience function for showing characters and their label."
   ]
  },
  {
   "cell_type": "code",
   "execution_count": 6,
   "metadata": {},
   "outputs": [],
   "source": [
    "def show_image(img : np.array, label : str):\n",
    "    plt.figure(figsize=(2.2, 2.2))\n",
    "    plt.title(label=label, font=font)\n",
    "    plt.axis(\"off\")\n",
    "    plt.imshow(img.astype(np.float64), cmap=\"gray\")"
   ]
  },
  {
   "cell_type": "code",
   "execution_count": 7,
   "metadata": {},
   "outputs": [
    {
     "data": {
      "image/png": "[encoded data removed]",
      "text/plain": [
       "<Figure size 158.4x158.4 with 1 Axes>"
      ]
     },
     "metadata": {
      "needs_background": "light"
     },
     "output_type": "display_data"
    }
   ],
   "source": [
    "show_image(sample_img[200], sample_lable[200])\n",
    "# free again\n",
    "del(sample_img)\n",
    "del(sample_lable)"
   ]
  },
  {
   "cell_type": "markdown",
   "metadata": {},
   "source": [
    "Now load all samples which are Kanji characters."
   ]
  },
  {
   "cell_type": "code",
   "execution_count": 8,
   "metadata": {
    "tags": []
   },
   "outputs": [
    {
     "data": {
      "application/vnd.jupyter.widget-view+json": {
       "model_id": "61d7cfdcfacc417a86ca5c298d05ada8",
       "version_major": 2,
       "version_minor": 0
      },
      "text/plain": [
       "  0%|          | 0/127 [00:00<?, ?it/s]"
      ]
     },
     "metadata": {},
     "output_type": "display_data"
    },
    {
     "name": "stdout",
     "output_type": "stream",
     "text": [
      "(1520367, 64, 64, 1) (1520367,)\n"
     ]
    }
   ],
   "source": [
    "#x, y =  reader.read_dataset_part(ETLDataNames.ETL9, [ETLCharacterGroups.kanji], 16)    # load only a part for testing\n",
    "x, y = reader.read_dataset_whole([ETLCharacterGroups.kanji], 16)\n",
    "print(x.shape, y.shape)"
   ]
  },
  {
   "cell_type": "markdown",
   "metadata": {},
   "source": [
    "With the loaded data we can take a look at the class distributions."
   ]
  },
  {
   "cell_type": "code",
   "execution_count": 20,
   "metadata": {},
   "outputs": [
    {
     "data": {
      "image/png": "[encoded data removed]",
      "text/plain": [
       "<Figure size 432x288 with 1 Axes>"
      ]
     },
     "metadata": {
      "needs_background": "light"
     },
     "output_type": "display_data"
    }
   ],
   "source": [
    "unique, counts = np.unique(y, return_counts=True)\n",
    "balance = dict(zip(unique, counts))\n",
    "\n",
    "plt.bar(range(0, len(counts)), counts, width=1.0)\n",
    "plt.show()"
   ]
  },
  {
   "cell_type": "markdown",
   "metadata": {},
   "source": [
    "The data will allways be loaded in the same order. Therefore it needs to be shuffled before training."
   ]
  },
  {
   "cell_type": "code",
   "execution_count": 9,
   "metadata": {},
   "outputs": [],
   "source": [
    "# because the data is ordered shuffle it\n",
    "rng_state = np.random.get_state()\n",
    "np.random.shuffle(x)\n",
    "np.random.set_state(rng_state)\n",
    "np.random.shuffle(y)"
   ]
  },
  {
   "cell_type": "markdown",
   "metadata": {},
   "source": [
    "For the CNN to be able to use the labels, a one-hot-encoding of them is needed."
   ]
  },
  {
   "cell_type": "code",
   "execution_count": 10,
   "metadata": {
    "tags": []
   },
   "outputs": [],
   "source": [
    "#one hot encode the labels\n",
    "lb = LabelBinarizer()\n",
    "lb.fit(y)\n",
    "o_y = lb.transform(y)\n",
    "\n",
    "# free the memory from the original string labels\n",
    "del(y)"
   ]
  },
  {
   "cell_type": "markdown",
   "metadata": {},
   "source": [
    "Because the unique classes will be needed for inference later, <br>\n",
    "create a list of them and save them to file. "
   ]
  },
  {
   "cell_type": "code",
   "execution_count": 11,
   "metadata": {},
   "outputs": [],
   "source": [
    "# concat classes-list to string\n",
    "classes = [i for i in lb.classes_]\n",
    "s = \"\".join([i for i in lb.classes_])\n",
    "\n",
    "# save a list of all labels into a .txt file\n",
    "with open(\"../labels.txt\", \"w+\", encoding=\"utf8\") as f:\n",
    "    f.write(s)\n",
    "    \n",
    "# a string formatted as a python list can be easily evaluated \n",
    "# therefore lets save this representation too\n",
    "with open(\"../labels_python_list.txt\", \"w+\", encoding=\"utf8\") as f:\n",
    "    f.write(str(classes))"
   ]
  },
  {
   "cell_type": "markdown",
   "metadata": {},
   "source": [
    "Later we want to access the data from different processes. <br>\n",
    "To do this the array of the images/labels need to be stored in shared memory."
   ]
  },
  {
   "cell_type": "code",
   "execution_count": 12,
   "metadata": {},
   "outputs": [],
   "source": [
    "# store the images in a shared array and free the loaded data\n",
    "memory_size_x = x.shape[0] * x.shape[1] * x.shape[2] * x.shape[3]\n",
    "x_shared = mp.RawArray(\"f\", memory_size_x // 2)\n",
    "x_np = np.frombuffer(x_shared, dtype=\"float16\").reshape(x.shape)\n",
    "np.copyto(x_np, x)\n",
    "del(x)"
   ]
  },
  {
   "cell_type": "code",
   "execution_count": 13,
   "metadata": {},
   "outputs": [],
   "source": [
    "# store the labels in a shared array and free the loaded data\n",
    "memory_size_y = o_y.shape[0] * o_y.shape[1]\n",
    "y_shared = mp.RawArray('b', memory_size_y)\n",
    "y_np = np.frombuffer(y_shared, dtype=\"b\").reshape(o_y.shape)\n",
    "np.copyto(y_np, o_y)\n",
    "del(o_y)"
   ]
  },
  {
   "cell_type": "markdown",
   "metadata": {},
   "source": [
    "Make sure the memory was freeed by running the garbage collector."
   ]
  },
  {
   "cell_type": "code",
   "execution_count": 14,
   "metadata": {},
   "outputs": [
    {
     "data": {
      "text/plain": [
       "2431"
      ]
     },
     "execution_count": 14,
     "metadata": {},
     "output_type": "execute_result"
    }
   ],
   "source": [
    "gc.collect()"
   ]
  },
  {
   "cell_type": "markdown",
   "metadata": {},
   "source": [
    "To ensure that the RawArrays are correct, show a random sample and its label."
   ]
  },
  {
   "cell_type": "code",
   "execution_count": 15,
   "metadata": {},
   "outputs": [
    {
     "data": {
      "image/png": "[encoded data removed]",
      "text/plain": [
       "<Figure size 158.4x158.4 with 1 Axes>"
      ]
     },
     "metadata": {
      "needs_background": "light"
     },
     "output_type": "display_data"
    }
   ],
   "source": [
    "show_image(x_np[200], lb.inverse_transform(np.array([y_np[200]])))"
   ]
  },
  {
   "cell_type": "markdown",
   "metadata": {},
   "source": [
    "## Defining a thread-safe Datagenerator\n",
    "\n",
    "**caution: on windows multiprocesing in jupyter is difficult. For actual training use `training.py`** on windows.\n",
    "\n",
    "Because the data set is too large to fit into memory we will first generate a data generator to create batches on the fly. <br> \n",
    "Instantiate a generator for training and testing. <br>\n",
    "This generator uses multi processing. Multi processing does not work in jupyter notebooks (on windows) when defined in the notebook. Therefore the datagenerator is implemented in `DataGenerator.py`."
   ]
  },
  {
   "cell_type": "code",
   "execution_count": 23,
   "metadata": {},
   "outputs": [],
   "source": [
    "import DataGenerator\n",
    "\n",
    "train_generator = DataGenerator.DataGenerator(len(x_np), 2048, \n",
    "                                            80, \"training\", \n",
    "                                            x_shared, y_shared, \n",
    "                                            x_np.shape, y_np.shape,\n",
    "                                            8, True)\n",
    "test_generator = DataGenerator.DataGenerator(len(y_np), 2048, \n",
    "                                            20, \"testing\", \n",
    "                                            x_shared, y_shared, \n",
    "                                            x_np.shape, y_np.shape,\n",
    "                                            8, True)"
   ]
  },
  {
   "cell_type": "code",
   "execution_count": 24,
   "metadata": {},
   "outputs": [],
   "source": [
    "train_x, train_y = train_generator.__getitem__(10)\n",
    "test_x, test_y   = test_generator.__getitem__(10)"
   ]
  },
  {
   "cell_type": "markdown",
   "metadata": {},
   "source": [
    "Lets look at a sample from each generator."
   ]
  },
  {
   "cell_type": "code",
   "execution_count": 25,
   "metadata": {
    "scrolled": true
   },
   "outputs": [
    {
     "data": {
      "image/png": "[encoded data removed]",
      "text/plain": [
       "<Figure size 158.4x158.4 with 1 Axes>"
      ]
     },
     "metadata": {
      "needs_background": "light"
     },
     "output_type": "display_data"
    }
   ],
   "source": [
    "show_image(train_x[23], lb.inverse_transform(np.array([train_y[23]])))"
   ]
  },
  {
   "cell_type": "markdown",
   "metadata": {},
   "source": [
    "## Defining and training the CNN"
   ]
  },
  {
   "cell_type": "code",
   "execution_count": 16,
   "metadata": {},
   "outputs": [
    {
     "name": "stdout",
     "output_type": "stream",
     "text": [
      "(None, 2967)\n",
      "Model: \"DaKanjiRecognizer_f16\"\n",
      "_________________________________________________________________\n",
      "Layer (type)                 Output Shape              Param #   \n",
      "=================================================================\n",
      "conv2D_1_2_input (Conv2D)    (None, 62, 62, 32)        320       \n",
      "_________________________________________________________________\n",
      "conv2D_1_1 (Conv2D)          (None, 60, 60, 32)        9248      \n",
      "_________________________________________________________________\n",
      "maxpool_1 (MaxPooling2D)     (None, 30, 30, 32)        0         \n",
      "_________________________________________________________________\n",
      "conv2D_2_1 (Conv2D)          (None, 28, 28, 32)        9248      \n",
      "_________________________________________________________________\n",
      "conv2D_2_2 (Conv2D)          (None, 26, 26, 32)        9248      \n",
      "_________________________________________________________________\n",
      "maxpool_2 (MaxPooling2D)     (None, 13, 13, 32)        0         \n",
      "_________________________________________________________________\n",
      "conv2D_3_1 (Conv2D)          (None, 11, 11, 64)        18496     \n",
      "_________________________________________________________________\n",
      "conv2D_3_2 (Conv2D)          (None, 9, 9, 64)          36928     \n",
      "_________________________________________________________________\n",
      "maxpool_3 (MaxPooling2D)     (None, 4, 4, 64)          0         \n",
      "_________________________________________________________________\n",
      "conv2D_4_1 (Conv2D)          (None, 2, 2, 128)         73856     \n",
      "_________________________________________________________________\n",
      "maxpool_4 (MaxPooling2D)     (None, 1, 1, 128)         0         \n",
      "_________________________________________________________________\n",
      "flatten_1 (Flatten)          (None, 128)               0         \n",
      "_________________________________________________________________\n",
      "dropout_1 (Dropout)          (None, 128)               0         \n",
      "_________________________________________________________________\n",
      "dense_1 (Dense)              (None, 2048)              264192    \n",
      "_________________________________________________________________\n",
      "dropout_2 (Dropout)          (None, 2048)              0         \n",
      "_________________________________________________________________\n",
      "dense_2 (Dense)              (None, 2048)              4196352   \n",
      "_________________________________________________________________\n",
      "dropout_3 (Dropout)          (None, 2048)              0         \n",
      "_________________________________________________________________\n",
      "dense_3 (Dense)              (None, 2967)              6079383   \n",
      "_________________________________________________________________\n",
      "softmax_1_output (Softmax)   (None, 2967)              0         \n",
      "=================================================================\n",
      "Total params: 10,697,271\n",
      "Trainable params: 10,697,271\n",
      "Non-trainable params: 0\n",
      "_________________________________________________________________\n"
     ]
    }
   ],
   "source": [
    "def get_model(name : str):\n",
    "    _model = tf.keras.models.Sequential([\n",
    "        tf.keras.layers.Conv2D(input_shape=(64, 64, 1), kernel_size=3, activation='relu', filters=32, name=\"conv2D_1_2_input\"),\n",
    "        tf.keras.layers.Conv2D(kernel_size=3, activation='relu', filters=32, name=\"conv2D_1_1\"),\n",
    "        tf.keras.layers.MaxPool2D(pool_size=(2, 2), strides=2, name=\"maxpool_1\"),\n",
    "\n",
    "        tf.keras.layers.Conv2D(kernel_size=3, activation='relu', filters=32, name=\"conv2D_2_1\"),\n",
    "        tf.keras.layers.Conv2D(kernel_size=3, activation='relu', filters=32, name=\"conv2D_2_2\"),\n",
    "        tf.keras.layers.MaxPool2D(pool_size=(2, 2), strides=2, name=\"maxpool_2\"),\n",
    "\n",
    "        tf.keras.layers.Conv2D(kernel_size=3, activation='relu', filters=64, name=\"conv2D_3_1\"),\n",
    "        tf.keras.layers.Conv2D(kernel_size=3, activation='relu', filters=64, name=\"conv2D_3_2\"),\n",
    "        tf.keras.layers.MaxPool2D(pool_size=(2, 2), strides=2, name=\"maxpool_3\"),\n",
    "\n",
    "        tf.keras.layers.Conv2D(kernel_size=3, activation='relu', filters=128, name=\"conv2D_4_1\"),\n",
    "        tf.keras.layers.MaxPool2D(pool_size=(2, 2), strides=2, name=\"maxpool_4\"),\n",
    "\n",
    "        tf.keras.layers.Flatten(name=\"flatten_1\"),\n",
    "        tf.keras.layers.Dropout(0.25, name=\"dropout_1\"),\n",
    "        \n",
    "        tf.keras.layers.Dense(2048, name=\"dense_1\"),\n",
    "        tf.keras.layers.Dropout(0.1, name=\"dropout_2\"),\n",
    "\n",
    "        tf.keras.layers.Dense(2048, name=\"dense_2\"),\n",
    "        tf.keras.layers.Dropout(0.25, name=\"dropout_3\"),\n",
    "\n",
    "        tf.keras.layers.Dense(len(lb.classes_), name=\"dense_3\"),\n",
    "\n",
    "        #set the dtype to float32 for numerical stability\n",
    "        tf.keras.layers.Softmax(dtype=\"float32\", name=\"softmax_1_output\") \n",
    "    ], name=name)\n",
    "    \n",
    "    return _model\n",
    "\n",
    "\n",
    "f16_model = get_model(\"DaKanjiRecognizer_f16\")\n",
    "print(f16_model.output_shape)\n",
    "f16_model.summary()"
   ]
  },
  {
   "cell_type": "markdown",
   "metadata": {},
   "source": [
    "Set the optimizer, loss function and compile the model"
   ]
  },
  {
   "cell_type": "code",
   "execution_count": 17,
   "metadata": {},
   "outputs": [
    {
     "name": "stdout",
     "output_type": "stream",
     "text": [
      "E:\\projects\\DaKanjiRecognizerML\\CNN_kanji\\model\n"
     ]
    }
   ],
   "source": [
    "#path where the model should be saved\n",
    "model_dir = os.path.join(os.path.dirname(os.getcwd()), \"model\")\n",
    "print(model_dir)"
   ]
  },
  {
   "cell_type": "code",
   "execution_count": 18,
   "metadata": {},
   "outputs": [],
   "source": [
    "opt = tf.keras.optimizers.Adam(learning_rate=0.0001,\n",
    "                                beta_1=0.9,\n",
    "                                beta_2=0.999,\n",
    "                                epsilon=1e-08,)\n",
    "\n",
    "f16_model.compile(optimizer=opt,\n",
    "              loss=\"categorical_crossentropy\",\n",
    "              metrics=['accuracy'])"
   ]
  },
  {
   "cell_type": "code",
   "execution_count": 19,
   "metadata": {},
   "outputs": [],
   "source": [
    "#optionally load stored weights to resume training\n",
    "f16_model.load_weights(os.path.join(model_dir, \"tf\", \"checkpoints\", \"weights-improvement-145-0.98.hdf5\"))"
   ]
  },
  {
   "cell_type": "code",
   "execution_count": 20,
   "metadata": {
    "tags": []
   },
   "outputs": [],
   "source": [
    "#checkpoints setup\n",
    "filepath = os.path.join(model_dir, \"tf\", \"checkpoints\", \"weights-improvement-{epoch:02d}-{val_accuracy:.2f}.hdf5\")\n",
    "checkpoint = ModelCheckpoint(filepath, monitor='val_accuracy', verbose=1, save_best_only=True, mode='max')\n",
    "\n",
    "log_dir = os.path.join(model_dir, \"tf\", \"logs\", datetime.datetime.now().strftime(\"%Y%m%d-%H%M%S\"))\n",
    "tensorboard_callback = tf.keras.callbacks.TensorBoard(log_dir=log_dir, histogram_freq=1)\n",
    "\n",
    "callbacks_list = [checkpoint, tensorboard_callback]"
   ]
  },
  {
   "cell_type": "markdown",
   "metadata": {},
   "source": [
    "Finally train the model on the data set (in case of an Interrupt creates checkpoints)."
   ]
  },
  {
   "cell_type": "code",
   "execution_count": null,
   "metadata": {},
   "outputs": [],
   "source": [
    "#train the model\n",
    "hist = f16_model.fit(\n",
    "    x=train_generator,\n",
    "    epochs=150,\n",
    "    initial_epoch=0,\n",
    "    validation_data=test_generator,\n",
    "    max_queue_size=400,\n",
    "    callbacks=callbacks_list,\n",
    "    workers=1\n",
    ")"
   ]
  },
  {
   "cell_type": "markdown",
   "metadata": {},
   "source": [
    "## Evaluating the model\n",
    "\n",
    "After training plot the loss and accuracy for the test and validation sets."
   ]
  },
  {
   "cell_type": "code",
   "execution_count": null,
   "metadata": {
    "scrolled": true
   },
   "outputs": [],
   "source": [
    "fig, axs = plt.subplots(2, 1)\n",
    "\n",
    "#plt.subplots_adjust(right=2.0, top=1.8)\n",
    "\n",
    "axs[0].plot(hist.history[\"accuracy\"], label=\"accuracy\")\n",
    "axs[0].plot(hist.history[\"loss\"], label=\"loss\")\n",
    "axs[0].set_xlabel(\"epoch\", font=font)\n",
    "axs[0].set_ylabel(\"\", font=font)\n",
    "axs[0].legend()\n",
    "\n",
    "axs[1].plot(hist.history[\"val_accuracy\"], label=\"val_accuracy\")\n",
    "axs[1].plot(hist.history[\"val_loss\"], label=\"val_loss\")\n",
    "axs[1].set_xlabel(\"epoch\", font=font)\n",
    "axs[1].set_ylabel(\"\", font=font)"
   ]
  },
  {
   "cell_type": "markdown",
   "metadata": {},
   "source": [
    "The graphs look good. A training accuracy of ~90% and a validation accuracy of ~95% was reached.<br/>\n",
    "Let's now make a prediction."
   ]
  },
  {
   "cell_type": "code",
   "execution_count": 39,
   "metadata": {},
   "outputs": [
    {
     "name": "stdout",
     "output_type": "stream",
     "text": [
      "(64, 64, 1)\n"
     ]
    },
    {
     "data": {
      "image/png": "[encoded data removed]",
      "text/plain": [
       "<Figure size 158.4x158.4 with 1 Axes>"
      ]
     },
     "metadata": {
      "needs_background": "light"
     },
     "output_type": "display_data"
    }
   ],
   "source": [
    "print(x_np[0].shape)\n",
    "\n",
    "sample = train_x[34]\n",
    "\n",
    "prediction = f16_model.predict(sample.reshape(1, 64, 64, 1))\n",
    "t_prediction = lb.inverse_transform(np.array(prediction))\n",
    "show_image(sample, t_prediction)"
   ]
  },
  {
   "cell_type": "markdown",
   "metadata": {},
   "source": [
    "## Saving the model\n",
    "\n",
    "The model is perfoming very well therefore save the trained model as a \"*.pb\" file."
   ]
  },
  {
   "cell_type": "code",
   "execution_count": 28,
   "metadata": {},
   "outputs": [
    {
     "name": "stdout",
     "output_type": "stream",
     "text": [
      "INFO:tensorflow:Assets written to: E:\\projects\\DaKanjiRecognizerML\\CNN_kanji\\model\\tf\\trained_model\\assets\n"
     ]
    }
   ],
   "source": [
    "f16_model.save(os.path.join(model_dir, \"tf\", \"trained_model\"))"
   ]
  },
  {
   "cell_type": "code",
   "execution_count": 29,
   "metadata": {},
   "outputs": [],
   "source": [
    "# Create a float32 model with the same weights as the mixed_float16 model, so\n",
    "# that it loads into TF Lite\n",
    "tf.keras.mixed_precision.set_global_policy(\"float32\")\n",
    "f32_model = get_model(\"DaKanjiRecognizer_f32\")\n",
    "f32_model.set_weights(f16_model.get_weights())\n",
    "#f32_model.summary()"
   ]
  },
  {
   "cell_type": "markdown",
   "metadata": {},
   "source": [
    "Finally convert the model to a TF-Light model to be used in other applications ([DaKanjiRecognizer Desktop](https://github.com/CaptainDario/DaKanjiRecognizer-Desktop))"
   ]
  },
  {
   "cell_type": "code",
   "execution_count": 30,
   "metadata": {},
   "outputs": [
    {
     "name": "stdout",
     "output_type": "stream",
     "text": [
      "INFO:tensorflow:Assets written to: C:\\Users\\dario\\AppData\\Local\\Temp\\tmpwv47bk1k\\assets\n"
     ]
    }
   ],
   "source": [
    "# Convert the model\n",
    "converter = tf.lite.TFLiteConverter.from_keras_model(f32_model) # path to the SavedModel directory\n",
    "tflite_model = converter.convert()\n",
    "\n",
    "# Save the model.\n",
    "with open(os.path.join(model_dir, \"tflite\", \"model.tflite\"), 'wb') as f:\n",
    "  f.write(tflite_model)\n"
   ]
  }
 ],
 "metadata": {
  "kernelspec": {
   "display_name": "Python 3",
   "language": "python",
   "name": "python3"
  },
  "language_info": {
   "codemirror_mode": {
    "name": "ipython",
    "version": 3
   },
   "file_extension": ".py",
   "mimetype": "text/x-python",
   "name": "python",
   "nbconvert_exporter": "python",
   "pygments_lexer": "ipython3",
   "version": "3.8.6"
  }
 },
 "nbformat": 4,
 "nbformat_minor": 4
}