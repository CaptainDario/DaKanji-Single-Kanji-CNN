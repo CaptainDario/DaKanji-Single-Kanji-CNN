{
 "cells": [
  {
   "cell_type": "markdown",
   "metadata": {},
   "source": [
    "# DaKanjiRecognizer - Single Kanji CNN : Training\n",
    "## Setup\n",
    "\n",
    "Import the needed libraries."
   ]
  },
  {
   "cell_type": "code",
   "execution_count": 1,
   "metadata": {},
   "outputs": [],
   "source": [
    "#std lib\n",
    "import sys\n",
    "import os\n",
    "import time\n",
    "import datetime\n",
    "import tempfile\n",
    "import importlib\n",
    "\n",
    "#ML\n",
    "import tensorflow as tf\n",
    "import numpy as np\n",
    "\n",
    "from PIL import Image\n",
    "\n",
    "# data augmentation\n",
    "from elasticdeform import tf as tfedf\n",
    "import elasticdeform \n",
    "import RandomErasing\n",
    "\n",
    "#plotting/showing graphics\n",
    "%matplotlib inline\n",
    "import matplotlib.pyplot as plt\n",
    "from IPython.display import Image"
   ]
  },
  {
   "cell_type": "markdown",
   "metadata": {},
   "source": [
    "Because the data sets are big let's make sure that the GPU is available to speed up training."
   ]
  },
  {
   "cell_type": "code",
   "execution_count": 2,
   "metadata": {},
   "outputs": [
    {
     "name": "stdout",
     "output_type": "stream",
     "text": [
      "GPUs Available:  /device:GPU:0\n"
     ]
    }
   ],
   "source": [
    "print(\"GPUs Available: \", tf.test.gpu_device_name())"
   ]
  },
  {
   "cell_type": "markdown",
   "metadata": {},
   "source": [
    "enable memory growth"
   ]
  },
  {
   "cell_type": "code",
   "execution_count": 3,
   "metadata": {},
   "outputs": [],
   "source": [
    "physical_devices = tf.config.list_physical_devices('GPU') \n",
    "tf.config.experimental.set_memory_growth(physical_devices[0], True)"
   ]
  },
  {
   "cell_type": "markdown",
   "metadata": {},
   "source": [
    "Enable mixed precision (for RTX, etc.)."
   ]
  },
  {
   "cell_type": "code",
   "execution_count": 4,
   "metadata": {},
   "outputs": [
    {
     "name": "stdout",
     "output_type": "stream",
     "text": [
      "INFO:tensorflow:Mixed precision compatibility check (mixed_float16): OK\n",
      "Your GPU will likely run quickly with dtype policy mixed_float16 as it has compute capability of at least 7.0. Your GPU: NVIDIA GeForce RTX 2070 SUPER, compute capability 7.5\n"
     ]
    }
   ],
   "source": [
    "policy = tf.keras.mixed_precision.Policy('mixed_float16')\n",
    "tf.keras.mixed_precision.set_global_policy(policy)"
   ]
  },
  {
   "cell_type": "markdown",
   "metadata": {},
   "source": [
    "## Setting up the Data pipeline\n",
    "\n",
    "Read the labels for each class from file."
   ]
  },
  {
   "cell_type": "code",
   "execution_count": 1,
   "metadata": {},
   "outputs": [],
   "source": [
    "labels_1, labels_2, labels = [], [], []\n",
    "\n",
    "# load labels from file\n",
    "with open(r'Z:\\data_sets\\dakanji_single_kanji_cnn\\encoding.txt', mode=\"r\", encoding=\"utf-8\") as f:\n",
    "    labels_1 = list(eval(f.read()).keys())\n",
    "\n",
    "ls = labels_1\n",
    "# order the labels\n",
    "indexs = sorted([str(i) for i in range(0, len(ls))])\n",
    "ordered_labels = [ls[int(i)] for i in indexs]\n",
    "\n",
    "# save the labels to text files\n",
    "with open(r'E:\\projects\\DaKanjiRecognizerML\\single_kanji_cnn\\labels.txt', mode=\"w+\", encoding=\"utf-8\") as f:  \n",
    "    f.write(''.join(ordered_labels))"
   ]
  },
  {
   "cell_type": "markdown",
   "metadata": {},
   "source": [
    "Create a `tf.keras.dataset` from the saved files for test and validation."
   ]
  },
  {
   "cell_type": "code",
   "execution_count": 12,
   "metadata": {},
   "outputs": [],
   "source": [
    "#batch size\n",
    "bs=1024\n",
    "val_split = 0.2\n",
    "h, w = 64, 64\n",
    "# class names\n",
    "classes = [str(i) for i in range(len(ls))]"
   ]
  },
  {
   "cell_type": "code",
   "execution_count": 6,
   "metadata": {},
   "outputs": [],
   "source": [
    "#define a font to show japanese characters in matplotlib figures\n",
    "import matplotlib.font_manager as fm\n",
    "show_sample_font = fm.FontProperties(fname=os.path.join(\"..\", \"fonts\", \"NotoSerifCJKjp-Regular.otf\"), size=20)\n",
    "\n",
    "def show_image(img : np.array, label : str):\n",
    "    plt.figure(figsize=(2.2, 2.2))\n",
    "    plt.title(label=label, font=show_sample_font)\n",
    "    plt.axis(\"off\")\n",
    "    plt.imshow(img.astype(np.float64), cmap=\"gray\")"
   ]
  },
  {
   "cell_type": "markdown",
   "metadata": {},
   "source": [
    "## create train and validation dataset"
   ]
  },
  {
   "cell_type": "code",
   "execution_count": 13,
   "metadata": {},
   "outputs": [
    {
     "name": "stdout",
     "output_type": "stream",
     "text": [
      "Found 13014000 files belonging to 6507 classes.\n",
      "Using 10411200 files for training.\n"
     ]
    }
   ],
   "source": [
    "t_dataset = tf.keras.preprocessing.image_dataset_from_directory(\n",
    "    #\"Z:\\data_sets\\kanji_cnn_test\",\n",
    "    \"Z:\\data_sets\\dakanji_single_kanji_cnn\",\n",
    "    labels=\"inferred\",\n",
    "    label_mode=\"categorical\",\n",
    "    interpolation=\"lanczos3\",\n",
    "    #class_names=classes,\n",
    "    color_mode=\"grayscale\",\n",
    "    batch_size=bs,\n",
    "    image_size=(h, w),\n",
    "    shuffle=True,\n",
    "    seed=123,\n",
    "    validation_split=val_split,\n",
    "    subset=\"training\"\n",
    ")"
   ]
  },
  {
   "cell_type": "code",
   "execution_count": 14,
   "metadata": {},
   "outputs": [],
   "source": [
    "train_dataset = t_dataset.map(lambda x, y : (tf.cast(x, dtype=tf.float16), tf.cast(y, dtype=tf.float16)))\n",
    "train_dataset = train_dataset.cache(r\"Z:\\data_sets\\dakanji_single_kanji_cnn_cache\\train\")\n",
    "train_dataset = train_dataset.prefetch(buffer_size=tf.data.AUTOTUNE)\n",
    "\n",
    "#print(train_dataset.take(1))"
   ]
  },
  {
   "cell_type": "code",
   "execution_count": 15,
   "metadata": {},
   "outputs": [
    {
     "name": "stdout",
     "output_type": "stream",
     "text": [
      "Found 13014000 files belonging to 6507 classes.\n",
      "Using 2602800 files for validation.\n"
     ]
    }
   ],
   "source": [
    "v_dataset = tf.keras.preprocessing.image_dataset_from_directory(\n",
    "    #\"Z:\\data_sets\\kanji_cnn_test\",\n",
    "    \"Z:\\data_sets\\dakanji_single_kanji_cnn\",\n",
    "    labels=\"inferred\",\n",
    "    label_mode=\"categorical\",\n",
    "    interpolation=\"lanczos3\",\n",
    "    #class_names=classes,\n",
    "    color_mode=\"grayscale\",\n",
    "    batch_size=bs,\n",
    "    image_size=(h, w),\n",
    "    shuffle=True,\n",
    "    seed=123,\n",
    "    validation_split=val_split,\n",
    "    subset=\"validation\"\n",
    ")"
   ]
  },
  {
   "cell_type": "code",
   "execution_count": 16,
   "metadata": {},
   "outputs": [],
   "source": [
    "val_dataset = v_dataset.map(lambda x, y : (tf.cast(x, dtype=tf.float16), tf.cast(y, dtype=tf.float16)))\n",
    "val_dataset = val_dataset.cache(r\"Z:\\data_sets\\dakanji_single_kanji_cnn_cache\\test\")\n",
    "val_dataset = val_dataset.prefetch(buffer_size=tf.data.AUTOTUNE)\n",
    "\n",
    "#print(val_dataset.take(1))"
   ]
  },
  {
   "cell_type": "markdown",
   "metadata": {},
   "source": [
    "## Defining and training the CNN\n",
    "First define image image preprocessing layers."
   ]
  },
  {
   "cell_type": "code",
   "execution_count": 17,
   "metadata": {},
   "outputs": [],
   "source": [
    "@tf.function\n",
    "def preprocess_tf(x):\n",
    "    \"\"\"\n",
    "    Preprocessing for TF Lite.\n",
    "    \n",
    "    Args:\n",
    "        x : a Tensor(batch_size, height, width, channels) of images to preprocess\n",
    "        \n",
    "    Return: \n",
    "        normalized and resized Tensor of images\n",
    "    \"\"\"\n",
    "    \n",
    "    batch, height, width, channels = x.shape\n",
    "    \n",
    "    # normalize image between [0, 1]\n",
    "    m = tf.math.reduce_max(x)\n",
    "    preprocessed = tf.math.divide(x, m)\n",
    "    \n",
    "    # resize images to (64, 64)\n",
    "    preprocessed = tf.image.resize(preprocessed, (64, 64), method=tf.image.ResizeMethod.BILINEAR)\n",
    "\n",
    "    return preprocessed\n",
    "\n",
    "\n",
    "class PreprocessTFLayer(tf.keras.layers.Layer):\n",
    "    def __init__(self, name=\"preprocess_tf\", **kwargs):\n",
    "        super(PreprocessTFLayer, self).__init__(name=name, **kwargs)\n",
    "        self.preprocess = preprocess_tf\n",
    "\n",
    "    def call(self, input):\n",
    "        return self.preprocess(input)\n",
    "\n",
    "    def get_config(self):\n",
    "        config = super(PreprocessTFLayer, self).get_config()\n",
    "        return config\n",
    "    \n",
    "    def get_prunable_weights(self):\n",
    "        return [] "
   ]
  },
  {
   "cell_type": "markdown",
   "metadata": {},
   "source": [
    "Now define a Sequential model for image preprocessing and augmentation layers."
   ]
  },
  {
   "cell_type": "code",
   "execution_count": 18,
   "metadata": {},
   "outputs": [],
   "source": [
    "from tensorflow.keras.layers.experimental.preprocessing import Resizing, Rescaling, RandomZoom, RandomRotation, RandomTranslation\n",
    "\n",
    "img_augmentation = tf.keras.Sequential(\n",
    "    [\n",
    "        PreprocessTFLayer(),\n",
    "        RandomErasing.RandomErasing(probability=0.3),\n",
    "        \n",
    "        # random data augmentation\n",
    "        RandomZoom(height_factor=(-0.2, 1.0), width_factor=(-0.2, 1.0), \n",
    "            fill_mode='constant', interpolation='bilinear', fill_value=0.0\n",
    "        ),\n",
    "        RandomTranslation(0.2, 0.2, fill_mode=\"constant\"),\n",
    "        RandomRotation(factor=(-0.1, 0.1) , fill_mode='constant', interpolation='bilinear'),\n",
    "    ],\n",
    "    name = \"img_augmentation\"\n",
    ")"
   ]
  },
  {
   "cell_type": "code",
   "execution_count": 19,
   "metadata": {},
   "outputs": [],
   "source": [
    "imgs, lbs = [], []\n",
    "for images, labels in train_dataset.take(1):\n",
    "    for img, label in zip(images, labels):\n",
    "        imgs.append(img.numpy())\n",
    "        lbs.append(label.numpy())"
   ]
  },
  {
   "cell_type": "code",
   "execution_count": 20,
   "metadata": {
    "tags": []
   },
   "outputs": [
    {
     "name": "stdout",
     "output_type": "stream",
     "text": [
      "elapsed timer: 0.8852492999999413\n"
     ]
    },
    {
     "data": {
      "image/png": "[encoded data removed]",
      "text/plain": [
       "<Figure size 720x720 with 9 Axes>"
      ]
     },
     "metadata": {
      "needs_background": "light"
     },
     "output_type": "display_data"
    }
   ],
   "source": [
    "plt.figure(figsize=(10, 10))\n",
    "\n",
    "t1 = time.perf_counter()\n",
    "augmented_images = img_augmentation(images)\n",
    "t2 = time.perf_counter()\n",
    "print(\"elapsed timer:\", t2 - t1)\n",
    "\n",
    "for i in range(9):\n",
    "    ax = plt.subplot(3, 3, i + 1)\n",
    "    plt.imshow(augmented_images[i].numpy().reshape((64, 64)).astype(np.float64), cmap=\"gray\")\n",
    "    plt.axis(\"off\")\n"
   ]
  },
  {
   "cell_type": "markdown",
   "metadata": {},
   "source": [
    "Make sure the image augmentaiton layers are working."
   ]
  },
  {
   "cell_type": "markdown",
   "metadata": {},
   "source": [
    "Create an EfficientNet Lite model and merge preprocessing, augmentation layers with it to one model."
   ]
  },
  {
   "cell_type": "code",
   "execution_count": 21,
   "metadata": {},
   "outputs": [
    {
     "name": "stdout",
     "output_type": "stream",
     "text": [
      "Model: \"sequential\"\n",
      "_________________________________________________________________\n",
      "Layer (type)                 Output Shape              Param #   \n",
      "=================================================================\n",
      "img_augmentation (Sequential (None, 64, 64, 1)         0         \n",
      "_________________________________________________________________\n",
      "efficientnetlite0 (Functiona (None, 6507)              11747915  \n",
      "=================================================================\n",
      "Total params: 11,747,915\n",
      "Trainable params: 11,705,899\n",
      "Non-trainable params: 42,016\n",
      "_________________________________________________________________\n"
     ]
    }
   ],
   "source": [
    "from efficientnet_lite import EfficientNetLiteB0\n",
    "\n",
    "eff_net_lite = EfficientNetLiteB0(\n",
    "    include_top=True,\n",
    "    weights=None,\n",
    "    input_shape=(64, 64, 1),\n",
    "    classes=len(ls),\n",
    "    pooling=\"avg\",\n",
    "    classifier_activation=\"softmax\",\n",
    ")\n",
    "\n",
    "f16_model = tf.keras.Sequential([\n",
    "    tf.keras.layers.InputLayer(input_shape=(None, None, 1)),\n",
    "    img_augmentation,\n",
    "    eff_net_lite,\n",
    "])\n",
    "f16_model.summary()"
   ]
  },
  {
   "cell_type": "markdown",
   "metadata": {},
   "source": [
    "Set a path to save model realted files and optionally load stored weights to resume training."
   ]
  },
  {
   "cell_type": "code",
   "execution_count": 22,
   "metadata": {},
   "outputs": [
    {
     "name": "stdout",
     "output_type": "stream",
     "text": [
      "model_dir: E:\\projects\\DaKanjiRecognizerML\\single_kanji_cnn\\model\n"
     ]
    }
   ],
   "source": [
    "#path where the model should be saved\n",
    "model_dir = os.path.join(os.getcwd(), \"model\")\n",
    "print(\"model_dir:\", model_dir)\n",
    "\n",
    "#f16_model.load_weights(os.path.join(model_dir, \"tf\", \"checkpoints\", \"weights-improvement-46-0.94.hdf5\"))"
   ]
  },
  {
   "cell_type": "markdown",
   "metadata": {},
   "source": [
    "Set the optimizer, loss function and compile the model"
   ]
  },
  {
   "cell_type": "code",
   "execution_count": 23,
   "metadata": {},
   "outputs": [],
   "source": [
    "l_r = 0.001\n",
    "opt = tf.keras.optimizers.Adam(learning_rate=l_r)\n",
    "\n",
    "METRICS = ['accuracy']\n",
    "\n",
    "f16_model.compile(optimizer=opt, loss=\"categorical_crossentropy\", metrics=METRICS)"
   ]
  },
  {
   "cell_type": "markdown",
   "metadata": {},
   "source": [
    "Setup callbacks for the model."
   ]
  },
  {
   "cell_type": "code",
   "execution_count": 24,
   "metadata": {},
   "outputs": [
    {
     "name": "stdout",
     "output_type": "stream",
     "text": [
      "tensorboard log dir: E:\\projects\\DaKanjiRecognizerML\\single_kanji_cnn\\model\\tf\\logs\\20210824-204112\n"
     ]
    }
   ],
   "source": [
    "from tensorflow.keras.callbacks import ModelCheckpoint\n",
    "\n",
    "#CHECKPOINTS\n",
    "filepath = os.path.join(model_dir, \"tf\", \"checkpoints\", \"weights-improvement-{epoch:02d}-{val_accuracy:.2f}.hdf5\")\n",
    "checkpoint = ModelCheckpoint(filepath, monitor='val_accuracy', verbose=1, save_best_only=True, mode='max')\n",
    "\n",
    "callbacks_list = [checkpoint]\n",
    "\n",
    "# TENSORBOARD\n",
    "# load the tensorboard extension\n",
    "%load_ext tensorboard\n",
    "\n",
    "# add the tensorboard callback\n",
    "log_dir = os.path.join(model_dir, \"tf\", \"logs\", datetime.datetime.now().strftime(\"%Y%m%d-%H%M%S\"))\n",
    "tensorboard_callback = tf.keras.callbacks.TensorBoard(log_dir=log_dir, histogram_freq=1)\n",
    "callbacks_list.append(tensorboard_callback)\n",
    "\n",
    "print(\"tensorboard log dir:\", log_dir)\n",
    "\n",
    "# LEARNING RATE SCHEDULER\n",
    "def scheduler(epoch, lr):\n",
    "    return l_r - ((l_r / 100 * 4) * (epoch // 3))\n",
    "\n",
    "scheduler_callback = tf.keras.callbacks.LearningRateScheduler(scheduler, verbose=1)\n",
    "callbacks_list.append(scheduler_callback)"
   ]
  },
  {
   "cell_type": "markdown",
   "metadata": {},
   "source": [
    "Finally train the model on the data set (in case of an Interrupt creates checkpoints)."
   ]
  },
  {
   "cell_type": "code",
   "execution_count": 25,
   "metadata": {},
   "outputs": [],
   "source": [
    "#train the model\n",
    "hist = f16_model.fit(\n",
    "    train_dataset,\n",
    "    validation_data=val_dataset,\n",
    "    epochs=100,\n",
    "    initial_epoch=10,\n",
    "    workers=16,\n",
    "    use_multiprocessing=True,\n",
    "    callbacks=callbacks_list\n",
    ")"
   ]
  },
  {
   "cell_type": "markdown",
   "metadata": {},
   "source": [
    "## Evaluating the model\n",
    "\n",
    "After training plot the loss and accuracy for the test and validation sets."
   ]
  },
  {
   "cell_type": "code",
   "execution_count": 36,
   "metadata": {},
   "outputs": [
    {
     "name": "stdout",
     "output_type": "stream",
     "text": [
      "Model: \"sequential_2\"\n",
      "_________________________________________________________________\n",
      "Layer (type)                 Output Shape              Param #   \n",
      "=================================================================\n",
      "preprocess_tf (PreprocessTFL (None, 64, 64, 1)         0         \n",
      "_________________________________________________________________\n",
      "efficientnetlite0 (Functiona (None, 6507)              11747915  \n",
      "=================================================================\n",
      "Total params: 11,747,915\n",
      "Trainable params: 11,705,899\n",
      "Non-trainable params: 42,016\n",
      "_________________________________________________________________\n"
     ]
    }
   ],
   "source": [
    "policy = tf.keras.mixed_precision.Policy('float32')\n",
    "tf.keras.mixed_precision.set_global_policy(policy)\n",
    "\n",
    "eff_net_lite = EfficientNetLiteB0(\n",
    "    include_top=True,\n",
    "    weights=None,\n",
    "    input_shape=(64, 64, 1),\n",
    "    classes=len(ls),\n",
    "    pooling=\"avg\",\n",
    "    classifier_activation=\"softmax\",\n",
    ")\n",
    "\n",
    "f16_model = tf.keras.Sequential([\n",
    "    tf.keras.layers.InputLayer(input_shape=(None, None, 1)),\n",
    "    PreprocessTFLayer(),\n",
    "    eff_net_lite,\n",
    "])\n",
    "f16_model.summary()"
   ]
  },
  {
   "cell_type": "code",
   "execution_count": 37,
   "metadata": {},
   "outputs": [],
   "source": [
    "# reload values from file if necessary\n",
    "f16_model.load_weights(os.path.join(model_dir, \"tf\", \"checkpoints\", \"weights-improvement-47-0.95.hdf5\"))\n",
    "f16_model.compile()"
   ]
  },
  {
   "cell_type": "code",
   "execution_count": 31,
   "metadata": {},
   "outputs": [
    {
     "name": "stdout",
     "output_type": "stream",
     "text": [
      "2542/2542 [==============================] - 149s 58ms/step - loss: 0.0000e+004s - loss: 0.0000 - ETA: 4s - loss: 0.000 - ETA - ETA: 2s - ETA: 0s - l\n"
     ]
    },
    {
     "data": {
      "text/plain": [
       "0.0"
      ]
     },
     "execution_count": 31,
     "metadata": {},
     "output_type": "execute_result"
    }
   ],
   "source": [
    "f16_model.evaluate(val_dataset, workers=16, use_multiprocessing=True)"
   ]
  },
  {
   "cell_type": "code",
   "execution_count": 38,
   "metadata": {},
   "outputs": [
    {
     "name": "stdout",
     "output_type": "stream",
     "text": [
      "['セ', 'ゼ', '也', 'ヤ', 'た', '巳', 'ピ', '牾', '拒', '七']\n"
     ]
    },
    {
     "data": {
      "image/png": "[encoded data removed]",
      "text/plain": [
       "<Figure size 158.4x158.4 with 1 Axes>"
      ]
     },
     "metadata": {
      "needs_background": "light"
     },
     "output_type": "display_data"
    }
   ],
   "source": [
    "# load a sample\n",
    "sample = tf.keras.preprocessing.image.load_img(\n",
    "    path= r\"Z:\\data_sets\\dakanji_single_kanji_cnn\\100\\1540.png\",\n",
    "    color_mode=\"grayscale\",\n",
    "    target_size=(64, 64),\n",
    ")\n",
    "sample = tf.keras.preprocessing.image.img_to_array(sample)\n",
    "sample = sample.reshape((1, 64, 64, 1))\n",
    "\n",
    "# run inference\n",
    "prediction = f16_model.predict(sample)[0]\n",
    "\n",
    "# output 10 most liekly predictions\n",
    "ind = np.argpartition(prediction, -10)[-10:]\n",
    "q = ind[np.argsort(prediction[ind])]\n",
    "print([ordered_labels[i] for i in reversed(q)])\n",
    "\n",
    "# show the most confident prediction and the image\n",
    "show_image(sample.reshape((64, 64)), ordered_labels[prediction.argmax()] + \" - %.2f\" % prediction.max())"
   ]
  },
  {
   "cell_type": "markdown",
   "metadata": {},
   "source": [
    "## Saving the model\n",
    "\n",
    "The model is perfoming very well therefore save the trained model as a \"*.pb\" file."
   ]
  },
  {
   "cell_type": "code",
   "execution_count": 33,
   "metadata": {},
   "outputs": [
    {
     "name": "stderr",
     "output_type": "stream",
     "text": [
      "E:\\projects\\DaKanjiRecognizerML\\.venv\\lib\\site-packages\\tensorflow\\python\\keras\\utils\\generic_utils.py:494: CustomMaskWarning: Custom mask layers require a config and must override get_config. When loading, the custom mask layer must be passed to the custom_objects argument.\n",
      "  warnings.warn('Custom mask layers require a config and must override '\n"
     ]
    },
    {
     "name": "stdout",
     "output_type": "stream",
     "text": [
      "INFO:tensorflow:Assets written to: E:\\projects\\DaKanjiRecognizerML\\single_kanji_cnn\\model\\tf\\trained_model\\assets\n"
     ]
    }
   ],
   "source": [
    "f16_model.save(\n",
    "    os.path.join(model_dir, \"tf\", \"trained_model\"),\n",
    ")"
   ]
  },
  {
   "cell_type": "markdown",
   "metadata": {},
   "source": [
    "Finally convert the model to a TF-Light model to be used in applications."
   ]
  },
  {
   "cell_type": "code",
   "execution_count": 39,
   "metadata": {},
   "outputs": [
    {
     "name": "stderr",
     "output_type": "stream",
     "text": [
      "E:\\projects\\DaKanjiRecognizerML\\.venv\\lib\\site-packages\\tensorflow\\python\\keras\\utils\\generic_utils.py:494: CustomMaskWarning: Custom mask layers require a config and must override get_config. When loading, the custom mask layer must be passed to the custom_objects argument.\n",
      "  warnings.warn('Custom mask layers require a config and must override '\n"
     ]
    },
    {
     "name": "stdout",
     "output_type": "stream",
     "text": [
      "INFO:tensorflow:Assets written to: C:\\Users\\dario\\AppData\\Local\\Temp\\tmpj73i01k5\\assets\n"
     ]
    },
    {
     "name": "stderr",
     "output_type": "stream",
     "text": [
      "INFO:tensorflow:Assets written to: C:\\Users\\dario\\AppData\\Local\\Temp\\tmpj73i01k5\\assets\n"
     ]
    },
    {
     "name": "stdout",
     "output_type": "stream",
     "text": [
      "E:\\projects\\DaKanjiRecognizerML\\single_kanji_cnn\\model\\tflite\\model.tflite\n"
     ]
    }
   ],
   "source": [
    "# Convert the model\n",
    "converter = tf.lite.TFLiteConverter.from_keras_model(f16_model)\n",
    "\n",
    "# set quantization, additional ops\n",
    "converter.optimizations = [tf.lite.Optimize.DEFAULT]\n",
    "converter.target_spec.supported_types = [tf.float16]\n",
    "\n",
    "tflite_model = converter.convert()\n",
    "\n",
    "# Save the model.\n",
    "print(os.path.join(model_dir, \"tflite\", \"model.tflite\"))\n",
    "with open(os.path.join(model_dir, \"tflite\", \"model.tflite\"), 'wb') as f:\n",
    "  f.write(tflite_model)\n"
   ]
  },
  {
   "cell_type": "markdown",
   "metadata": {},
   "source": [
    "Load the tflite model and check that it is working."
   ]
  },
  {
   "cell_type": "code",
   "execution_count": 48,
   "metadata": {},
   "outputs": [
    {
     "data": {
      "image/png": "[encoded data removed]",
      "text/plain": [
       "<Figure size 158.4x158.4 with 1 Axes>"
      ]
     },
     "metadata": {
      "needs_background": "light"
     },
     "output_type": "display_data"
    }
   ],
   "source": [
    "size = 256\n",
    "\n",
    "# create a tf lite interpreter\n",
    "interpreter = tf.lite.Interpreter(os.path.join(model_dir, \"tflite\", \"model.tflite\"))\n",
    "\n",
    "# resize the input tensor\n",
    "interpreter.resize_tensor_input(0, [1, size, size, 1])\n",
    "interpreter.allocate_tensors()\n",
    "\n",
    "# Get input and output tensors.\n",
    "input_details = interpreter.get_input_details()\n",
    "output_details = interpreter.get_output_details()\n",
    "\n",
    "# Test the model on random input data.\n",
    "input_shape = input_details[0]['shape']\n",
    "sample = tf.keras.preprocessing.image.load_img(\n",
    "    path= r\"Z:\\data_sets\\dakanji_single_kanji_cnn\\6340\\300.png\",\n",
    "    color_mode=\"grayscale\",\n",
    "    target_size=(size, size)\n",
    ")\n",
    "sample = tf.keras.preprocessing.image.img_to_array(sample).reshape((1, size, size, 1))\n",
    "interpreter.set_tensor(input_details[0]['index'], sample)\n",
    "\n",
    "# run interpreter\n",
    "interpreter.invoke()\n",
    "output_data = interpreter.get_tensor(interpreter.get_output_details()[0]['index'])\n",
    "\n",
    "# show prediction\n",
    "title = ordered_labels[output_data.argmax()] + str(output_data[0][output_data.argmax()])\n",
    "show_image(sample.reshape(size, size), title)"
   ]
  }
 ],
 "metadata": {
  "interpreter": {
   "hash": "7b66e6ad73e4584ec1c4fbbc9ad8719d99baf4738cd57ba39e580b8e9994d93a"
  },
  "kernelspec": {
   "display_name": "Python 3 (ipykernel)",
   "language": "python",
   "name": "python3"
  },
  "language_info": {
   "codemirror_mode": {
    "name": "ipython",
    "version": 3
   },
   "file_extension": ".py",
   "mimetype": "text/x-python",
   "name": "python",
   "nbconvert_exporter": "python",
   "pygments_lexer": "ipython3",
   "version": "3.8.6"
  }
 },
 "nbformat": 4,
 "nbformat_minor": 4
}
