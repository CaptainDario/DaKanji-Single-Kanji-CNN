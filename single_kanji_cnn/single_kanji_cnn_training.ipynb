{
 "cells": [
  {
   "cell_type": "markdown",
   "metadata": {},
   "source": [
    "# DaKanjiRecognizer - Single Kanji CNN : Training"
   ]
  },
  {
   "cell_type": "markdown",
   "metadata": {},
   "source": [
    "## Setup\n",
    "\n",
    "Import the needed libraries."
   ]
  },
  {
   "cell_type": "code",
   "execution_count": 1,
   "metadata": {},
   "outputs": [],
   "source": [
    "#std lib\n",
    "import sys\n",
    "import os\n",
    "import time\n",
    "import datetime\n",
    "\n",
    "#ML\n",
    "import tensorflow as tf\n",
    "from tensorflow.keras.callbacks import ModelCheckpoint\n",
    "import numpy as np\n",
    "\n",
    "#creating one hot encodings\n",
    "#from sklearn.preprocessing import LabelBinarizer\n",
    "\n",
    "#plotting/showing graphics\n",
    "%matplotlib inline\n",
    "import matplotlib.pyplot as plt\n",
    "from IPython.display import Image"
   ]
  },
  {
   "cell_type": "markdown",
   "metadata": {},
   "source": [
    "Because the data sets are big let's make sure that the GPU is available to speed up training."
   ]
  },
  {
   "cell_type": "code",
   "execution_count": 2,
   "metadata": {},
   "outputs": [
    {
     "name": "stdout",
     "output_type": "stream",
     "text": [
      "GPUs Available:  /device:GPU:0\n"
     ]
    }
   ],
   "source": [
    "print(\"GPUs Available: \", tf.test.gpu_device_name())"
   ]
  },
  {
   "cell_type": "markdown",
   "metadata": {},
   "source": [
    "If a GPU with native 16 bit float support (ex.: RTX-series) is available, enable support for it here."
   ]
  },
  {
   "cell_type": "code",
   "execution_count": 3,
   "metadata": {},
   "outputs": [
    {
     "name": "stdout",
     "output_type": "stream",
     "text": [
      "INFO:tensorflow:Mixed precision compatibility check (mixed_float16): OK\n",
      "Your GPU will likely run quickly with dtype policy mixed_float16 as it has compute capability of at least 7.0. Your GPU: NVIDIA GeForce RTX 2070 SUPER, compute capability 7.5\n"
     ]
    }
   ],
   "source": [
    "physical_devices = tf.config.list_physical_devices('GPU') \n",
    "tf.config.experimental.set_memory_growth(physical_devices[0], True)\n",
    "tf.keras.mixed_precision.set_global_policy(\"mixed_float16\")"
   ]
  },
  {
   "cell_type": "markdown",
   "metadata": {},
   "source": [
    "## Setting up the Data pipeline"
   ]
  },
  {
   "cell_type": "markdown",
   "metadata": {},
   "source": [
    "Read the labels for each class from file."
   ]
  },
  {
   "cell_type": "code",
   "execution_count": 4,
   "metadata": {},
   "outputs": [],
   "source": [
    "labels_1, labels_2, labels = [], [], []\n",
    "\n",
    "# load labels from file\n",
    "with open(r'F:\\data_sets\\etlcdb\\encoding_1.txt', mode=\"r\", encoding=\"utf-8\") as f:\n",
    "    labels_1 = list(eval(f.read()).keys())\n",
    "with open(r'F:\\data_sets\\etlcdb\\encoding_2.txt', mode=\"r\", encoding=\"utf-8\") as f:\n",
    "    labels_2 = list(eval(f.read()).keys())\n",
    "    \n",
    "labels = labels_1 + labels_2\n",
    "\n",
    "# save the labels to text files\n",
    "with open(r'E:\\projects\\DaKanjiRecognizerML\\single_kanji_cnn\\labels_python_list.txt', mode=\"w+\", encoding=\"utf-8\") as f:\n",
    "    f.write(str(labels))\n",
    "with open(r'E:\\projects\\DaKanjiRecognizerML\\single_kanji_cnn\\labels.txt', mode=\"w+\", encoding=\"utf-8\") as f:  \n",
    "    f.write(''.join(labels))"
   ]
  },
  {
   "cell_type": "markdown",
   "metadata": {},
   "source": [
    "Create a `tf.keras.dataset` from the saved files for test and validation."
   ]
  },
  {
   "cell_type": "code",
   "execution_count": 5,
   "metadata": {},
   "outputs": [],
   "source": [
    "#batch size\n",
    "bs=512\n",
    "# class names\n",
    "classes = [\"%04d\" % i for i in range(len(labels))]"
   ]
  },
  {
   "cell_type": "code",
   "execution_count": 6,
   "metadata": {},
   "outputs": [],
   "source": [
    "#define a font to show japanese characters in matplotlib figures\n",
    "import matplotlib.font_manager as fm\n",
    "show_sample_font = fm.FontProperties(fname=os.path.join(\"..\", \"fonts\", \"NotoSerifCJKjp-Regular.otf\"), size=20)\n",
    "\n",
    "def show_image(img : np.array, label : str):\n",
    "    plt.figure(figsize=(2.2, 2.2))\n",
    "    plt.title(label=label, font=show_sample_font)\n",
    "    plt.axis(\"off\")\n",
    "    plt.imshow(img.astype(np.float64), cmap=\"gray\")"
   ]
  },
  {
   "cell_type": "markdown",
   "metadata": {},
   "source": [
    "## create train dataset"
   ]
  },
  {
   "cell_type": "code",
   "execution_count": 7,
   "metadata": {},
   "outputs": [
    {
     "name": "stdout",
     "output_type": "stream",
     "text": [
      "Found 6731099 files belonging to 6543 classes.\n",
      "Using 5721435 files for training.\n"
     ]
    }
   ],
   "source": [
    "train_dataset = tf.keras.preprocessing.image_dataset_from_directory(\n",
    "    directory=r'F:\\data_sets\\etlcdb',\n",
    "    labels=\"inferred\",\n",
    "    label_mode=\"categorical\",\n",
    "    class_names=classes,\n",
    "    color_mode=\"grayscale\",\n",
    "    batch_size=bs,\n",
    "    image_size=(64, 64),\n",
    "    validation_split=0.15,\n",
    "    subset=\"training\",\n",
    "    seed=123\n",
    ")"
   ]
  },
  {
   "cell_type": "code",
   "execution_count": 8,
   "metadata": {},
   "outputs": [],
   "source": [
    "train = train_dataset.map(\n",
    "    lambda x, y : (tf.cast(x, tf.float16), (tf.cast(y, tf.float16))),\n",
    "    num_parallel_calls=tf.data.AUTOTUNE\n",
    ")\n",
    "train = train.cache(r\"F:\\data_sets\\etlcdb_cache\\cache_train\")\n",
    "#train = train.shuffle(buffer_size=bs*3)\n",
    "train = train.prefetch(buffer_size=tf.data.AUTOTUNE)"
   ]
  },
  {
   "cell_type": "markdown",
   "metadata": {},
   "source": [
    "## create test dataset"
   ]
  },
  {
   "cell_type": "code",
   "execution_count": 9,
   "metadata": {},
   "outputs": [
    {
     "name": "stdout",
     "output_type": "stream",
     "text": [
      "Found 6731099 files belonging to 6543 classes.\n",
      "Using 1009664 files for validation.\n"
     ]
    }
   ],
   "source": [
    "val_dataset = tf.keras.preprocessing.image_dataset_from_directory(\n",
    "    directory=r'F:\\data_sets\\etlcdb',\n",
    "    labels=\"inferred\",\n",
    "    label_mode=\"categorical\",\n",
    "    class_names=classes,\n",
    "    color_mode=\"grayscale\",\n",
    "    batch_size=bs,\n",
    "    image_size=(64, 64),\n",
    "    validation_split=0.15,\n",
    "    subset=\"validation\",\n",
    "    seed=123\n",
    ")"
   ]
  },
  {
   "cell_type": "code",
   "execution_count": 10,
   "metadata": {},
   "outputs": [
    {
     "name": "stdout",
     "output_type": "stream",
     "text": [
      "<TakeDataset shapes: ((None, 64, 64, 1), (None, 6543)), types: (tf.float16, tf.float16)>\n"
     ]
    }
   ],
   "source": [
    "val = val_dataset.map(\n",
    "    lambda x, y : (tf.cast(x, tf.float16), (tf.cast(y, tf.float16))),\n",
    "    num_parallel_calls=tf.data.AUTOTUNE\n",
    ")\n",
    "val = val.cache(r\"F:\\data_sets\\etlcdb_cache\\cache_test\")\n",
    "#val = val.shuffle(buffer_size=bs*3)\n",
    "val = val.prefetch(buffer_size=tf.data.AUTOTUNE)\n",
    "\n",
    "print(val.take(0))"
   ]
  },
  {
   "cell_type": "markdown",
   "metadata": {},
   "source": [
    "## Defining and training the CNN"
   ]
  },
  {
   "cell_type": "code",
   "execution_count": 11,
   "metadata": {},
   "outputs": [
    {
     "name": "stdout",
     "output_type": "stream",
     "text": [
      "(None, 6543)\n",
      "Model: \"DaKanjiRecognizer_f16\"\n",
      "_________________________________________________________________\n",
      "Layer (type)                 Output Shape              Param #   \n",
      "=================================================================\n",
      "conv2D_1_2_input (Conv2D)    (None, 62, 62, 32)        320       \n",
      "_________________________________________________________________\n",
      "conv2D_1_1 (Conv2D)          (None, 60, 60, 32)        9248      \n",
      "_________________________________________________________________\n",
      "maxpool_1 (MaxPooling2D)     (None, 30, 30, 32)        0         \n",
      "_________________________________________________________________\n",
      "conv2D_2_1 (Conv2D)          (None, 28, 28, 32)        9248      \n",
      "_________________________________________________________________\n",
      "conv2D_2_2 (Conv2D)          (None, 26, 26, 32)        9248      \n",
      "_________________________________________________________________\n",
      "maxpool_2 (MaxPooling2D)     (None, 13, 13, 32)        0         \n",
      "_________________________________________________________________\n",
      "conv2D_3_1 (Conv2D)          (None, 11, 11, 64)        18496     \n",
      "_________________________________________________________________\n",
      "conv2D_3_2 (Conv2D)          (None, 9, 9, 64)          36928     \n",
      "_________________________________________________________________\n",
      "maxpool_3 (MaxPooling2D)     (None, 4, 4, 64)          0         \n",
      "_________________________________________________________________\n",
      "conv2D_4_1 (Conv2D)          (None, 2, 2, 128)         73856     \n",
      "_________________________________________________________________\n",
      "maxpool_4 (MaxPooling2D)     (None, 1, 1, 128)         0         \n",
      "_________________________________________________________________\n",
      "flatten_1 (Flatten)          (None, 128)               0         \n",
      "_________________________________________________________________\n",
      "dropout_1 (Dropout)          (None, 128)               0         \n",
      "_________________________________________________________________\n",
      "dense_1 (Dense)              (None, 1024)              132096    \n",
      "_________________________________________________________________\n",
      "dropout_2 (Dropout)          (None, 1024)              0         \n",
      "_________________________________________________________________\n",
      "dense_2 (Dense)              (None, 1024)              1049600   \n",
      "_________________________________________________________________\n",
      "dropout_3 (Dropout)          (None, 1024)              0         \n",
      "_________________________________________________________________\n",
      "dense_3 (Dense)              (None, 6543)              6706575   \n",
      "_________________________________________________________________\n",
      "softmax_1_output (Softmax)   (None, 6543)              0         \n",
      "=================================================================\n",
      "Total params: 8,045,615\n",
      "Trainable params: 8,045,615\n",
      "Non-trainable params: 0\n",
      "_________________________________________________________________\n"
     ]
    }
   ],
   "source": [
    "def get_model(name : str):\n",
    "    _model = tf.keras.models.Sequential([\n",
    "        tf.keras.layers.Conv2D(input_shape=(64, 64, 1), kernel_size=3, activation='relu', filters=32, name=\"conv2D_1_2_input\"),\n",
    "        tf.keras.layers.Conv2D(kernel_size=3, activation='relu', filters=32, name=\"conv2D_1_1\"),\n",
    "        tf.keras.layers.MaxPool2D(pool_size=(2, 2), strides=2, name=\"maxpool_1\"),\n",
    "\n",
    "        tf.keras.layers.Conv2D(kernel_size=3, activation='relu', filters=32, name=\"conv2D_2_1\"),\n",
    "        tf.keras.layers.Conv2D(kernel_size=3, activation='relu', filters=32, name=\"conv2D_2_2\"),\n",
    "        tf.keras.layers.MaxPool2D(pool_size=(2, 2), strides=2, name=\"maxpool_2\"),\n",
    "\n",
    "        tf.keras.layers.Conv2D(kernel_size=3, activation='relu', filters=64, name=\"conv2D_3_1\"),\n",
    "        tf.keras.layers.Conv2D(kernel_size=3, activation='relu', filters=64, name=\"conv2D_3_2\"),\n",
    "        tf.keras.layers.MaxPool2D(pool_size=(2, 2), strides=2, name=\"maxpool_3\"),\n",
    "\n",
    "        tf.keras.layers.Conv2D(kernel_size=3, activation='relu', filters=128, name=\"conv2D_4_1\"),\n",
    "        tf.keras.layers.MaxPool2D(pool_size=(2, 2), strides=2, name=\"maxpool_4\"),\n",
    "\n",
    "        tf.keras.layers.Flatten(name=\"flatten_1\"),\n",
    "        tf.keras.layers.Dropout(0.25, name=\"dropout_1\"),\n",
    "        \n",
    "        tf.keras.layers.Dense(1024, name=\"dense_1\"),\n",
    "        tf.keras.layers.Dropout(0.25, name=\"dropout_2\"),\n",
    "\n",
    "        tf.keras.layers.Dense(1024, name=\"dense_2\"),\n",
    "        tf.keras.layers.Dropout(0.25, name=\"dropout_3\"),\n",
    "\n",
    "        tf.keras.layers.Dense(len(labels), name=\"dense_3\"),\n",
    "\n",
    "        #set the dtype to float32 for numerical stability\n",
    "        tf.keras.layers.Softmax(dtype=\"float32\", name=\"softmax_1_output\") \n",
    "    ], name=name)\n",
    "    \n",
    "    return _model\n",
    "\n",
    "\n",
    "f16_model = get_model(\"DaKanjiRecognizer_f16\")\n",
    "print(f16_model.output_shape)\n",
    "f16_model.summary()"
   ]
  },
  {
   "cell_type": "code",
   "execution_count": 12,
   "metadata": {},
   "outputs": [
    {
     "name": "stdout",
     "output_type": "stream",
     "text": [
      "model_dir: E:\\projects\\DaKanjiRecognizerML\\single_kanji_cnn\\model\n"
     ]
    }
   ],
   "source": [
    "#path where the model should be saved\n",
    "model_dir = os.path.join(os.getcwd(), \"model\")\n",
    "print(\"model_dir:\", model_dir)"
   ]
  },
  {
   "cell_type": "markdown",
   "metadata": {},
   "source": [
    "Set the optimizer, loss function and compile the model"
   ]
  },
  {
   "cell_type": "code",
   "execution_count": 13,
   "metadata": {},
   "outputs": [],
   "source": [
    "opt = tf.keras.optimizers.Adam(learning_rate=0.0001,\n",
    "                                beta_1=0.9,\n",
    "                                beta_2=0.999,\n",
    "                                epsilon=1e-08,)\n",
    "\n",
    "f16_model.compile(optimizer=opt,\n",
    "              loss=\"categorical_crossentropy\",\n",
    "              metrics=['accuracy'])"
   ]
  },
  {
   "cell_type": "code",
   "execution_count": 14,
   "metadata": {},
   "outputs": [],
   "source": [
    "#optionally load stored weights to resume training\n",
    "#f16_model.load_weights(os.path.join(model_dir, \"tf\", \"checkpoints\", \"weights-improvement-145-0.98.hdf5\"))"
   ]
  },
  {
   "cell_type": "code",
   "execution_count": 15,
   "metadata": {
    "tags": []
   },
   "outputs": [
    {
     "name": "stdout",
     "output_type": "stream",
     "text": [
      "checkpoints dir: E:\\projects\\DaKanjiRecognizerML\\single_kanji_cnn\\model\\tf\\checkpoints\\weights-improvement-{epoch:02d}-{val_accuracy:.2f}.hdf5\n"
     ]
    }
   ],
   "source": [
    "#checkpoints setup\n",
    "filepath = os.path.join(model_dir, \"tf\", \"checkpoints\", \"weights-improvement-{epoch:02d}-{val_accuracy:.2f}.hdf5\")\n",
    "checkpoint = ModelCheckpoint(filepath, monitor='val_accuracy', verbose=1, save_best_only=True, mode='max')\n",
    "\n",
    "callbacks_list = [checkpoint]\n",
    "\n",
    "print(\"checkpoints dir:\", filepath)"
   ]
  },
  {
   "cell_type": "markdown",
   "metadata": {},
   "source": [
    "Optionally enable tensorboard to track the progress of the model."
   ]
  },
  {
   "cell_type": "code",
   "execution_count": 16,
   "metadata": {},
   "outputs": [
    {
     "name": "stdout",
     "output_type": "stream",
     "text": [
      "tensorboard log dir: E:\\projects\\DaKanjiRecognizerML\\single_kanji_cnn\\model\\tf\\logs\\20210607-120804\n"
     ]
    }
   ],
   "source": [
    "# load the tensorboard extension\n",
    "%load_ext tensorboard\n",
    "\n",
    "# add the tensorboard callback\n",
    "log_dir = os.path.join(model_dir, \"tf\", \"logs\", datetime.datetime.now().strftime(\"%Y%m%d-%H%M%S\"))\n",
    "tensorboard_callback = tf.keras.callbacks.TensorBoard(log_dir=log_dir, histogram_freq=1)\n",
    "callbacks_list.append(tensorboard_callback)\n",
    "\n",
    "#set the path to the tensorboard executable\n",
    "#%env TENSORBOARD_BINARY E:\\\\projects\\\\DaKanjiRecognizerML\\\\.venv\\\\Scripts\\\\tensorboard.exe\n",
    "#%tensorboard --logdir log_dir\n",
    "\n",
    "print(\"tensorboard log dir:\", log_dir)"
   ]
  },
  {
   "cell_type": "markdown",
   "metadata": {},
   "source": [
    "Finally train the model on the data set (in case of an Interrupt creates checkpoints)."
   ]
  },
  {
   "cell_type": "code",
   "execution_count": null,
   "metadata": {},
   "outputs": [
    {
     "name": "stdout",
     "output_type": "stream",
     "text": [
      "Epoch 21/50\n",
      "11175/11175 [==============================] - 261s 23ms/step - loss: 0.9296 - accuracy: 0.7955 - categorical_accuracy: 0.7955 - val_loss: 0.6288 - val_accuracy: 0.8790 - val_categorical_accuracy: 0.8790\n",
      "\n",
      "Epoch 00021: val_accuracy improved from 0.87512 to 0.87900, saving model to E:\\projects\\DaKanjiRecognizerML\\single_kanji_cnn\\model\\tf\\checkpoints\\weights-improvement-21-0.88.hdf5\n",
      "Epoch 22/50\n",
      "11175/11175 [==============================] - 256s 23ms/step - loss: 0.9185 - accuracy: 0.7981 - categorical_accuracy: 0.7981 - val_loss: 0.6207 - val_accuracy: 0.8808 - val_categorical_accuracy: 0.8808\n",
      "\n",
      "Epoch 00022: val_accuracy improved from 0.87900 to 0.88077, saving model to E:\\projects\\DaKanjiRecognizerML\\single_kanji_cnn\\model\\tf\\checkpoints\\weights-improvement-22-0.88.hdf5\n",
      "Epoch 23/50\n",
      "11175/11175 [==============================] - 249s 22ms/step - loss: 0.9083 - accuracy: 0.8004 - categorical_accuracy: 0.8004 - val_loss: 0.6203 - val_accuracy: 0.8821 - val_categorical_accuracy: 0.8821\n",
      "\n",
      "Epoch 00023: val_accuracy improved from 0.88077 to 0.88209, saving model to E:\\projects\\DaKanjiRecognizerML\\single_kanji_cnn\\model\\tf\\checkpoints\\weights-improvement-23-0.88.hdf5\n",
      "Epoch 24/50\n",
      "11175/11175 [==============================] - 252s 23ms/step - loss: 0.8958 - accuracy: 0.8033 - categorical_accuracy: 0.8033 - val_loss: 0.6099 - val_accuracy: 0.8838 - val_categorical_accuracy: 0.8838\n",
      "\n",
      "Epoch 00024: val_accuracy improved from 0.88209 to 0.88376, saving model to E:\\projects\\DaKanjiRecognizerML\\single_kanji_cnn\\model\\tf\\checkpoints\\weights-improvement-24-0.88.hdf5\n",
      "Epoch 25/50\n",
      "11175/11175 [==============================] - 247s 22ms/step - loss: 0.8882 - accuracy: 0.8052 - categorical_accuracy: 0.8052 - val_loss: 0.6074 - val_accuracy: 0.8843 - val_categorical_accuracy: 0.8843\n",
      "\n",
      "Epoch 00025: val_accuracy improved from 0.88376 to 0.88429, saving model to E:\\projects\\DaKanjiRecognizerML\\single_kanji_cnn\\model\\tf\\checkpoints\\weights-improvement-25-0.88.hdf5\n",
      "Epoch 26/50\n",
      "11175/11175 [==============================] - 251s 23ms/step - loss: 0.8781 - accuracy: 0.8077 - categorical_accuracy: 0.8077 - val_loss: 0.5954 - val_accuracy: 0.8868 - val_categorical_accuracy: 0.8868\n",
      "\n",
      "Epoch 00026: val_accuracy improved from 0.88429 to 0.88675, saving model to E:\\projects\\DaKanjiRecognizerML\\single_kanji_cnn\\model\\tf\\checkpoints\\weights-improvement-26-0.89.hdf5\n",
      "Epoch 27/50\n",
      " 4681/11175 [===========>..................] - ETA: 2:23 - loss: 0.8737 - accuracy: 0.8089 - categorical_accuracy: 0.8089"
     ]
    }
   ],
   "source": [
    "#train the model\n",
    "hist = f16_model.fit(\n",
    "    train,\n",
    "    validation_data=val,\n",
    "    epochs=50,\n",
    "    initial_epoch=20,\n",
    "    workers=16,\n",
    "    use_multiprocessing=True,\n",
    "    callbacks=callbacks_list\n",
    ")"
   ]
  },
  {
   "cell_type": "markdown",
   "metadata": {},
   "source": [
    "## Evaluating the model\n",
    "\n",
    "After training plot the loss and accuracy for the test and validation sets."
   ]
  },
  {
   "cell_type": "code",
   "execution_count": 25,
   "metadata": {},
   "outputs": [
    {
     "data": {
      "image/png": "[encoded data removed]",
      "text/plain": [
       "<Figure size 432x288 with 1 Axes>"
      ]
     },
     "metadata": {
      "needs_background": "light"
     },
     "output_type": "display_data"
    }
   ],
   "source": [
    "plt.plot(hist.history['accuracy'])\n",
    "plt.plot(hist.history['val_accuracy'])\n",
    "plt.title('model accuracy')\n",
    "plt.ylabel('accuracy')\n",
    "plt.xlabel('epoch')\n",
    "plt.legend(['train', 'val'], loc='upper left')\n",
    "plt.show()"
   ]
  },
  {
   "cell_type": "markdown",
   "metadata": {},
   "source": [
    "The graphs look good.\n",
    "Let's now make a prediction."
   ]
  },
  {
   "cell_type": "code",
   "execution_count": 18,
   "metadata": {},
   "outputs": [
    {
     "name": "stdout",
     "output_type": "stream",
     "text": [
      "1112 惹\n",
      "[[5.2389695e-04 1.1394946e-05 4.2567095e-08 ... 8.3920785e-14\n",
      "  1.0044002e-13 3.8028233e-11]]\n"
     ]
    },
    {
     "data": {
      "image/png": "[encoded data removed]",
      "text/plain": [
       "<Figure size 158.4x158.4 with 1 Axes>"
      ]
     },
     "metadata": {
      "needs_background": "light"
     },
     "output_type": "display_data"
    }
   ],
   "source": [
    "sample = tf.keras.preprocessing.image.load_img(\n",
    "    path= r\"F:\\data_sets\\etlcdb\\0002\\3.jpg\",\n",
    "    color_mode=\"grayscale\"\n",
    ")\n",
    "sample = tf.keras.preprocessing.image.img_to_array(sample)\n",
    "sample = sample.reshape((1, 64, 64, 1))\n",
    "\n",
    "prediction = f16_model.predict(sample)\n",
    "print(prediction.argmax(), labels[prediction.argmax()])\n",
    "print(prediction)\n",
    "\n",
    "show_image(sample.reshape((64, 64)), labels[prediction.argmax()] + \" - %.2f\" % prediction.max())"
   ]
  },
  {
   "cell_type": "markdown",
   "metadata": {},
   "source": [
    "## Saving the model\n",
    "\n",
    "The model is perfoming very well therefore save the trained model as a \"*.pb\" file."
   ]
  },
  {
   "cell_type": "code",
   "execution_count": null,
   "metadata": {},
   "outputs": [],
   "source": [
    "f16_model.save(os.path.join(model_dir, \"tf\", \"trained_model\"))"
   ]
  },
  {
   "cell_type": "code",
   "execution_count": null,
   "metadata": {},
   "outputs": [],
   "source": [
    "# Create a float32 model with the same weights as the mixed_float16 model, so\n",
    "# that it loads into TF Lite\n",
    "tf.keras.mixed_precision.set_global_policy(\"float32\")\n",
    "f32_model = get_model(\"DaKanjiRecognizer_f32\")\n",
    "f32_model.set_weights(f16_model.get_weights())\n",
    "#f32_model.summary()"
   ]
  },
  {
   "cell_type": "markdown",
   "metadata": {},
   "source": [
    "Finally convert the model to a TF-Light model to be used in other applications ([DaKanjiRecognizer Desktop](https://github.com/CaptainDario/DaKanjiRecognizer-Desktop))"
   ]
  },
  {
   "cell_type": "code",
   "execution_count": null,
   "metadata": {},
   "outputs": [],
   "source": [
    "# Convert the model\n",
    "converter = tf.lite.TFLiteConverter.from_keras_model(f32_model) # path to the SavedModel directory\n",
    "tflite_model = converter.convert()\n",
    "\n",
    "# Save the model.\n",
    "with open(os.path.join(model_dir, \"tflite\", \"model.tflite\"), 'wb') as f:\n",
    "  f.write(tflite_model)\n"
   ]
  }
 ],
 "metadata": {
  "kernelspec": {
   "display_name": "Python 3",
   "language": "python",
   "name": "python3"
  },
  "language_info": {
   "codemirror_mode": {
    "name": "ipython",
    "version": 3
   },
   "file_extension": ".py",
   "mimetype": "text/x-python",
   "name": "python",
   "nbconvert_exporter": "python",
   "pygments_lexer": "ipython3",
   "version": "3.8.6"
  }
 },
 "nbformat": 4,
 "nbformat_minor": 4
}
