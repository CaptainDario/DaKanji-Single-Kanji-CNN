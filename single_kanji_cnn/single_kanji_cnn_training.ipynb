{
 "cells": [
  {
   "cell_type": "markdown",
   "metadata": {},
   "source": [
    "# DaKanjiRecognizer - Single Kanji CNN : Training"
   ]
  },
  {
   "cell_type": "markdown",
   "metadata": {},
   "source": [
    "## Setup\n",
    "\n",
    "Import the needed libraries."
   ]
  },
  {
   "cell_type": "code",
   "execution_count": 1,
   "metadata": {},
   "outputs": [],
   "source": [
    "#std lib\n",
    "import sys\n",
    "import os\n",
    "import time\n",
    "import datetime\n",
    "\n",
    "#ML\n",
    "import tensorflow as tf\n",
    "from tensorflow.keras.callbacks import ModelCheckpoint\n",
    "import numpy as np\n",
    "\n",
    "#creating one hot encodings\n",
    "#from sklearn.preprocessing import LabelBinarizer\n",
    "\n",
    "#plotting/showing graphics\n",
    "%matplotlib inline\n",
    "import matplotlib.pyplot as plt\n",
    "from IPython.display import Image"
   ]
  },
  {
   "cell_type": "markdown",
   "metadata": {},
   "source": [
    "Because the data sets are big let's make sure that the GPU is available to speed up training."
   ]
  },
  {
   "cell_type": "code",
   "execution_count": 2,
   "metadata": {},
   "outputs": [
    {
     "name": "stdout",
     "output_type": "stream",
     "text": [
      "GPUs Available:  /device:GPU:0\n"
     ]
    }
   ],
   "source": [
    "print(\"GPUs Available: \", tf.test.gpu_device_name())"
   ]
  },
  {
   "cell_type": "markdown",
   "metadata": {},
   "source": [
    "If a GPU with native 16 bit float support (ex.: RTX-series) is available, enable support for it here."
   ]
  },
  {
   "cell_type": "code",
   "execution_count": 43,
   "metadata": {},
   "outputs": [],
   "source": [
    "physical_devices = tf.config.list_physical_devices('GPU') \n",
    "tf.config.experimental.set_memory_growth(physical_devices[0], True)\n",
    "tf.keras.mixed_precision.set_global_policy(\"mixed_float16\")"
   ]
  },
  {
   "cell_type": "markdown",
   "metadata": {},
   "source": [
    "## Setting up the Data pipeline"
   ]
  },
  {
   "cell_type": "markdown",
   "metadata": {},
   "source": [
    "Read the labels for each class from file."
   ]
  },
  {
   "cell_type": "code",
   "execution_count": 150,
   "metadata": {},
   "outputs": [],
   "source": [
    "labels_1, labels_2, labels = [], [], []\n",
    "\n",
    "# load labels from file\n",
    "with open(r'F:\\data_sets\\etlcdb\\encoding_1.txt', mode=\"r\", encoding=\"utf-8\") as f:\n",
    "    labels_1 = list(eval(f.read()).keys())\n",
    "with open(r'F:\\data_sets\\etlcdb\\encoding_2.txt', mode=\"r\", encoding=\"utf-8\") as f:\n",
    "    labels_2 = list(eval(f.read()).keys())\n",
    "\n",
    "ls = labels_1 + labels_2\n",
    "# order the labels\n",
    "indexs = sorted([str(i) for i in range(0, len(ls))])\n",
    "ordered_labels = [ls[int(i)] for i in indexs]\n",
    "\n",
    "# save the labels to text files\n",
    "with open(r'E:\\projects\\DaKanjiRecognizerML\\single_kanji_cnn\\labels_python_list.txt', mode=\"w+\", encoding=\"utf-8\") as f:\n",
    "    f.write(str(ordered_labels))\n",
    "with open(r'E:\\projects\\DaKanjiRecognizerML\\single_kanji_cnn\\labels.txt', mode=\"w+\", encoding=\"utf-8\") as f:  \n",
    "    f.write(''.join(ordered_labels))"
   ]
  },
  {
   "cell_type": "markdown",
   "metadata": {},
   "source": [
    "Create a `tf.keras.dataset` from the saved files for test and validation."
   ]
  },
  {
   "cell_type": "code",
   "execution_count": 5,
   "metadata": {},
   "outputs": [],
   "source": [
    "#batch size\n",
    "bs=512\n",
    "# class names\n",
    "classes = [\"%04d\" % i for i in range(len(labels))]"
   ]
  },
  {
   "cell_type": "code",
   "execution_count": 6,
   "metadata": {},
   "outputs": [],
   "source": [
    "#define a font to show japanese characters in matplotlib figures\n",
    "import matplotlib.font_manager as fm\n",
    "show_sample_font = fm.FontProperties(fname=os.path.join(\"..\", \"fonts\", \"NotoSerifCJKjp-Regular.otf\"), size=20)\n",
    "\n",
    "def show_image(img : np.array, label : str):\n",
    "    plt.figure(figsize=(2.2, 2.2))\n",
    "    plt.title(label=label, font=show_sample_font)\n",
    "    plt.axis(\"off\")\n",
    "    plt.imshow(img.astype(np.float64), cmap=\"gray\")"
   ]
  },
  {
   "cell_type": "markdown",
   "metadata": {},
   "source": [
    "## create train dataset"
   ]
  },
  {
   "cell_type": "code",
   "execution_count": 49,
   "metadata": {},
   "outputs": [
    {
     "name": "stdout",
     "output_type": "stream",
     "text": [
      "Found 6731099 files belonging to 6543 classes.\n",
      "Using 5721435 files for training.\n"
     ]
    }
   ],
   "source": [
    "train_dataset = tf.keras.preprocessing.image_dataset_from_directory(\n",
    "    directory=r'F:\\data_sets\\etlcdb',\n",
    "    labels=\"inferred\",\n",
    "    label_mode=\"categorical\",\n",
    "    class_names=classes,\n",
    "    color_mode=\"grayscale\",\n",
    "    batch_size=bs,\n",
    "    image_size=(64, 64),\n",
    "    validation_split=0.15,\n",
    "    subset=\"training\",\n",
    "    seed=123\n",
    ")"
   ]
  },
  {
   "cell_type": "code",
   "execution_count": 91,
   "metadata": {},
   "outputs": [
    {
     "name": "stdout",
     "output_type": "stream",
     "text": [
      "<TakeDataset shapes: ((None, 64, 64, 1), (None, 6543)), types: (tf.float16, tf.float16)>\n"
     ]
    }
   ],
   "source": [
    "train = train_dataset.map(\n",
    "    lambda x, y : (tf.cast(x, tf.float16), (tf.cast(y, tf.float16))),\n",
    "    num_parallel_calls=tf.data.AUTOTUNE\n",
    ")\n",
    "train = train.cache(r\"F:\\data_sets\\etlcdb_cache\\cache_train\")\n",
    "train = train.shuffle(buffer_size=bs*3)\n",
    "train = train.prefetch(buffer_size=tf.data.AUTOTUNE)\n",
    "\n",
    "print(train.take(0))"
   ]
  },
  {
   "cell_type": "code",
   "execution_count": 148,
   "metadata": {},
   "outputs": [],
   "source": []
  },
  {
   "cell_type": "markdown",
   "metadata": {},
   "source": [
    "## create test dataset"
   ]
  },
  {
   "cell_type": "code",
   "execution_count": 51,
   "metadata": {},
   "outputs": [
    {
     "name": "stdout",
     "output_type": "stream",
     "text": [
      "Found 6731099 files belonging to 6543 classes.\n",
      "Using 1009664 files for validation.\n"
     ]
    }
   ],
   "source": [
    "val_dataset = tf.keras.preprocessing.image_dataset_from_directory(\n",
    "    directory=r'F:\\data_sets\\etlcdb',\n",
    "    labels=\"inferred\",\n",
    "    label_mode=\"categorical\",\n",
    "    class_names=classes,\n",
    "    color_mode=\"grayscale\",\n",
    "    batch_size=bs,\n",
    "    image_size=(64, 64),\n",
    "    validation_split=0.15,\n",
    "    subset=\"validation\",\n",
    "    seed=123\n",
    ")"
   ]
  },
  {
   "cell_type": "code",
   "execution_count": 52,
   "metadata": {},
   "outputs": [
    {
     "name": "stdout",
     "output_type": "stream",
     "text": [
      "<TakeDataset shapes: ((None, 64, 64, 1), (None, 6543)), types: (tf.float16, tf.float16)>\n"
     ]
    }
   ],
   "source": [
    "val = val_dataset.map(\n",
    "    lambda x, y : (tf.cast(x, tf.float16), (tf.cast(y, tf.float16))),\n",
    "    num_parallel_calls=tf.data.AUTOTUNE\n",
    ")\n",
    "val = val.cache(r\"F:\\data_sets\\etlcdb_cache\\cache_test\")\n",
    "val = val.shuffle(buffer_size=bs*3)\n",
    "val = val.prefetch(buffer_size=tf.data.AUTOTUNE)\n",
    "\n",
    "print(val.take(0))"
   ]
  },
  {
   "cell_type": "markdown",
   "metadata": {},
   "source": [
    "## Defining and training the CNN"
   ]
  },
  {
   "cell_type": "code",
   "execution_count": 74,
   "metadata": {},
   "outputs": [
    {
     "name": "stdout",
     "output_type": "stream",
     "text": [
      "(None, 6543)\n",
      "Model: \"DaKanjiRecognizer_f16\"\n",
      "_________________________________________________________________\n",
      "Layer (type)                 Output Shape              Param #   \n",
      "=================================================================\n",
      "conv2D_1_2_input (Conv2D)    (None, 62, 62, 32)        320       \n",
      "_________________________________________________________________\n",
      "conv2d_1_1 (Conv2D)          (None, 60, 60, 32)        9248      \n",
      "_________________________________________________________________\n",
      "maxpool_1 (MaxPooling2D)     (None, 30, 30, 32)        0         \n",
      "_________________________________________________________________\n",
      "conv2d_2_1 (Conv2D)          (None, 28, 28, 32)        9248      \n",
      "_________________________________________________________________\n",
      "conv2d_2_2 (Conv2D)          (None, 26, 26, 32)        9248      \n",
      "_________________________________________________________________\n",
      "maxpool_2 (MaxPooling2D)     (None, 13, 13, 32)        0         \n",
      "_________________________________________________________________\n",
      "conv2d_3_1 (Conv2D)          (None, 11, 11, 64)        18496     \n",
      "_________________________________________________________________\n",
      "conv2d_3_2 (Conv2D)          (None, 9, 9, 64)          36928     \n",
      "_________________________________________________________________\n",
      "maxpool_3 (MaxPooling2D)     (None, 4, 4, 64)          0         \n",
      "_________________________________________________________________\n",
      "conv2d_4_1 (Conv2D)          (None, 2, 2, 128)         73856     \n",
      "_________________________________________________________________\n",
      "maxpool_4 (MaxPooling2D)     (None, 1, 1, 128)         0         \n",
      "_________________________________________________________________\n",
      "flatten_1 (Flatten)          (None, 128)               0         \n",
      "_________________________________________________________________\n",
      "dropout_1 (Dropout)          (None, 128)               0         \n",
      "_________________________________________________________________\n",
      "dense_1 (Dense)              (None, 512)               66048     \n",
      "_________________________________________________________________\n",
      "dropout_2 (Dropout)          (None, 512)               0         \n",
      "_________________________________________________________________\n",
      "dense_2 (Dense)              (None, 512)               262656    \n",
      "_________________________________________________________________\n",
      "dropout_3 (Dropout)          (None, 512)               0         \n",
      "_________________________________________________________________\n",
      "dense_3 (Dense)              (None, 512)               262656    \n",
      "_________________________________________________________________\n",
      "dropout_4 (Dropout)          (None, 512)               0         \n",
      "_________________________________________________________________\n",
      "dense_4 (Dense)              (None, 6543)              3356559   \n",
      "_________________________________________________________________\n",
      "softmax_1_output (Softmax)   (None, 6543)              0         \n",
      "=================================================================\n",
      "Total params: 4,105,263\n",
      "Trainable params: 4,105,263\n",
      "Non-trainable params: 0\n",
      "_________________________________________________________________\n"
     ]
    }
   ],
   "source": [
    "def get_model(name : str):\n",
    "    _model = tf.keras.models.Sequential([\n",
    "        tf.keras.layers.Conv2D(input_shape=(64, 64, 1), kernel_size=3, activation='relu', filters=32, name=\"conv2D_1_2_input\"),\n",
    "        tf.keras.layers.Conv2D(kernel_size=3, activation='relu', filters=32, name=\"conv2d_1_1\"),\n",
    "        tf.keras.layers.MaxPool2D(pool_size=(2, 2), strides=2, name=\"maxpool_1\"),\n",
    "\n",
    "        tf.keras.layers.Conv2D(kernel_size=3, activation='relu', filters=32, name=\"conv2d_2_1\"),\n",
    "        tf.keras.layers.Conv2D(kernel_size=3, activation='relu', filters=32, name=\"conv2d_2_2\"),\n",
    "        tf.keras.layers.MaxPool2D(pool_size=(2, 2), strides=2, name=\"maxpool_2\"),\n",
    "\n",
    "        tf.keras.layers.Conv2D(kernel_size=3, activation='relu', filters=64, name=\"conv2d_3_1\"),\n",
    "        tf.keras.layers.Conv2D(kernel_size=3, activation='relu', filters=64, name=\"conv2d_3_2\"),\n",
    "        tf.keras.layers.MaxPool2D(pool_size=(2, 2), strides=2, name=\"maxpool_3\"),\n",
    "\n",
    "        tf.keras.layers.Conv2D(kernel_size=3, activation='relu', filters=128, name=\"conv2d_4_1\"),\n",
    "        tf.keras.layers.MaxPool2D(pool_size=(2, 2), strides=2, name=\"maxpool_4\"),\n",
    "\n",
    "        tf.keras.layers.Flatten(name=\"flatten_1\"),\n",
    "        tf.keras.layers.Dropout(0.25, name=\"dropout_1\"),\n",
    "        \n",
    "        tf.keras.layers.Dense(512, name=\"dense_1\"),\n",
    "        tf.keras.layers.Dropout(0.25, name=\"dropout_2\"),\n",
    "\n",
    "        tf.keras.layers.Dense(512, name=\"dense_2\"),\n",
    "        tf.keras.layers.Dropout(0.25, name=\"dropout_3\"),\n",
    "        \n",
    "        tf.keras.layers.Dense(512, name=\"dense_3\"),\n",
    "        tf.keras.layers.Dropout(0.25, name=\"dropout_4\"),\n",
    "\n",
    "        tf.keras.layers.Dense(len(labels), name=\"dense_4\"),\n",
    "\n",
    "        #set the dtype to float32 for numerical stability\n",
    "        tf.keras.layers.Softmax(dtype=\"float32\", name=\"softmax_1_output\") \n",
    "    ], name=name)\n",
    "    \n",
    "    return _model\n",
    "\n",
    "\n",
    "f16_model = get_model(\"DaKanjiRecognizer_f16\")\n",
    "print(f16_model.output_shape)\n",
    "f16_model.summary()"
   ]
  },
  {
   "cell_type": "code",
   "execution_count": 75,
   "metadata": {},
   "outputs": [
    {
     "name": "stdout",
     "output_type": "stream",
     "text": [
      "model_dir: E:\\projects\\DaKanjiRecognizerML\\single_kanji_cnn\\model\n"
     ]
    }
   ],
   "source": [
    "#path where the model should be saved\n",
    "model_dir = os.path.join(os.getcwd(), \"model\")\n",
    "print(\"model_dir:\", model_dir)"
   ]
  },
  {
   "cell_type": "markdown",
   "metadata": {},
   "source": [
    "Set the optimizer, loss function and compile the model"
   ]
  },
  {
   "cell_type": "code",
   "execution_count": 76,
   "metadata": {},
   "outputs": [],
   "source": [
    "opt = tf.keras.optimizers.Adam(learning_rate=0.0001,\n",
    "                                beta_1=0.9,\n",
    "                                beta_2=0.999,\n",
    "                                epsilon=1e-08,)\n",
    "\n",
    "f16_model.compile(optimizer=opt,\n",
    "              loss=\"categorical_crossentropy\",\n",
    "              metrics=['accuracy'])"
   ]
  },
  {
   "cell_type": "code",
   "execution_count": 14,
   "metadata": {},
   "outputs": [],
   "source": [
    "#optionally load stored weights to resume training\n",
    "#f16_model.load_weights(os.path.join(model_dir, \"tf\", \"checkpoints\", \"weights-improvement-145-0.98.hdf5\"))"
   ]
  },
  {
   "cell_type": "code",
   "execution_count": 77,
   "metadata": {
    "tags": []
   },
   "outputs": [
    {
     "name": "stdout",
     "output_type": "stream",
     "text": [
      "checkpoints dir: E:\\projects\\DaKanjiRecognizerML\\single_kanji_cnn\\model\\tf\\checkpoints\\weights-improvement-{epoch:02d}-{val_accuracy:.2f}.hdf5\n"
     ]
    }
   ],
   "source": [
    "#checkpoints setup\n",
    "filepath = os.path.join(model_dir, \"tf\", \"checkpoints\", \"weights-improvement-{epoch:02d}-{val_accuracy:.2f}.hdf5\")\n",
    "checkpoint = ModelCheckpoint(filepath, monitor='val_accuracy', verbose=1, save_best_only=True, mode='max')\n",
    "\n",
    "callbacks_list = [checkpoint]\n",
    "\n",
    "print(\"checkpoints dir:\", filepath)"
   ]
  },
  {
   "cell_type": "markdown",
   "metadata": {},
   "source": [
    "Optionally enable tensorboard to track the progress of the model."
   ]
  },
  {
   "cell_type": "code",
   "execution_count": 78,
   "metadata": {},
   "outputs": [
    {
     "name": "stdout",
     "output_type": "stream",
     "text": [
      "The tensorboard extension is already loaded. To reload it, use:\n",
      "  %reload_ext tensorboard\n",
      "tensorboard log dir: E:\\projects\\DaKanjiRecognizerML\\single_kanji_cnn\\model\\tf\\logs\\20210607-220920\n"
     ]
    }
   ],
   "source": [
    "# load the tensorboard extension\n",
    "%load_ext tensorboard\n",
    "\n",
    "# add the tensorboard callback\n",
    "log_dir = os.path.join(model_dir, \"tf\", \"logs\", datetime.datetime.now().strftime(\"%Y%m%d-%H%M%S\"))\n",
    "tensorboard_callback = tf.keras.callbacks.TensorBoard(log_dir=log_dir, histogram_freq=1)\n",
    "callbacks_list.append(tensorboard_callback)\n",
    "\n",
    "#set the path to the tensorboard executable\n",
    "#%env TENSORBOARD_BINARY E:\\\\projects\\\\DaKanjiRecognizerML\\\\.venv\\\\Scripts\\\\tensorboard.exe\n",
    "#%tensorboard --logdir log_dir\n",
    "\n",
    "print(\"tensorboard log dir:\", log_dir)"
   ]
  },
  {
   "cell_type": "markdown",
   "metadata": {},
   "source": [
    "Finally train the model on the data set (in case of an Interrupt creates checkpoints)."
   ]
  },
  {
   "cell_type": "code",
   "execution_count": 79,
   "metadata": {},
   "outputs": [
    {
     "name": "stdout",
     "output_type": "stream",
     "text": [
      "Epoch 51/100\n",
      "11175/11175 [==============================] - 184s 16ms/step - loss: 6.7200 - accuracy: 0.0405 - val_loss: 3.9112 - val_accuracy: 0.2591\n",
      "\n",
      "Epoch 00051: val_accuracy improved from -inf to 0.25914, saving model to E:\\projects\\DaKanjiRecognizerML\\single_kanji_cnn\\model\\tf\\checkpoints\\weights-improvement-51-0.26.hdf5\n",
      "Epoch 52/100\n",
      "11175/11175 [==============================] - 179s 16ms/step - loss: 3.8649 - accuracy: 0.2399 - val_loss: 2.2763 - val_accuracy: 0.5483\n",
      "\n",
      "Epoch 00052: val_accuracy improved from 0.25914 to 0.54825, saving model to E:\\projects\\DaKanjiRecognizerML\\single_kanji_cnn\\model\\tf\\checkpoints\\weights-improvement-52-0.55.hdf5\n",
      "Epoch 53/100\n",
      "11175/11175 [==============================] - 177s 16ms/step - loss: 2.7848 - accuracy: 0.4115 - val_loss: 1.7012 - val_accuracy: 0.6628\n",
      "\n",
      "Epoch 00053: val_accuracy improved from 0.54825 to 0.66276, saving model to E:\\projects\\DaKanjiRecognizerML\\single_kanji_cnn\\model\\tf\\checkpoints\\weights-improvement-53-0.66.hdf5\n",
      "Epoch 54/100\n",
      "11175/11175 [==============================] - 179s 16ms/step - loss: 2.2586 - accuracy: 0.5108 - val_loss: 1.3641 - val_accuracy: 0.7291\n",
      "\n",
      "Epoch 00054: val_accuracy improved from 0.66276 to 0.72911, saving model to E:\\projects\\DaKanjiRecognizerML\\single_kanji_cnn\\model\\tf\\checkpoints\\weights-improvement-54-0.73.hdf5\n",
      "Epoch 55/100\n",
      "11175/11175 [==============================] - 175s 15ms/step - loss: 1.9509 - accuracy: 0.5710 - val_loss: 1.1927 - val_accuracy: 0.7639\n",
      "\n",
      "Epoch 00055: val_accuracy improved from 0.72911 to 0.76385, saving model to E:\\projects\\DaKanjiRecognizerML\\single_kanji_cnn\\model\\tf\\checkpoints\\weights-improvement-55-0.76.hdf5\n",
      "Epoch 56/100\n",
      "11175/11175 [==============================] - 178s 16ms/step - loss: 1.7573 - accuracy: 0.6108 - val_loss: 1.0748 - val_accuracy: 0.7845\n",
      "\n",
      "Epoch 00056: val_accuracy improved from 0.76385 to 0.78447, saving model to E:\\projects\\DaKanjiRecognizerML\\single_kanji_cnn\\model\\tf\\checkpoints\\weights-improvement-56-0.78.hdf5\n",
      "Epoch 57/100\n",
      "11175/11175 [==============================] - 178s 16ms/step - loss: 1.6186 - accuracy: 0.6402 - val_loss: 0.9819 - val_accuracy: 0.8041\n",
      "\n",
      "Epoch 00057: val_accuracy improved from 0.78447 to 0.80411, saving model to E:\\projects\\DaKanjiRecognizerML\\single_kanji_cnn\\model\\tf\\checkpoints\\weights-improvement-57-0.80.hdf5\n",
      "Epoch 58/100\n",
      "11175/11175 [==============================] - 174s 15ms/step - loss: 1.5122 - accuracy: 0.6622 - val_loss: 0.9353 - val_accuracy: 0.8126\n",
      "\n",
      "Epoch 00058: val_accuracy improved from 0.80411 to 0.81261, saving model to E:\\projects\\DaKanjiRecognizerML\\single_kanji_cnn\\model\\tf\\checkpoints\\weights-improvement-58-0.81.hdf5\n",
      "Epoch 59/100\n",
      "11175/11175 [==============================] - 189s 17ms/step - loss: 1.4350 - accuracy: 0.6793 - val_loss: 0.8922 - val_accuracy: 0.8239\n",
      "\n",
      "Epoch 00059: val_accuracy improved from 0.81261 to 0.82394, saving model to E:\\projects\\DaKanjiRecognizerML\\single_kanji_cnn\\model\\tf\\checkpoints\\weights-improvement-59-0.82.hdf5\n",
      "Epoch 60/100\n",
      "11175/11175 [==============================] - 181s 16ms/step - loss: 1.3702 - accuracy: 0.6930 - val_loss: 0.8586 - val_accuracy: 0.8274\n",
      "\n",
      "Epoch 00060: val_accuracy improved from 0.82394 to 0.82743, saving model to E:\\projects\\DaKanjiRecognizerML\\single_kanji_cnn\\model\\tf\\checkpoints\\weights-improvement-60-0.83.hdf5\n",
      "Epoch 61/100\n",
      "11175/11175 [==============================] - 168s 15ms/step - loss: 1.3194 - accuracy: 0.7038 - val_loss: 0.8255 - val_accuracy: 0.8399\n",
      "\n",
      "Epoch 00061: val_accuracy improved from 0.82743 to 0.83990, saving model to E:\\projects\\DaKanjiRecognizerML\\single_kanji_cnn\\model\\tf\\checkpoints\\weights-improvement-61-0.84.hdf5\n",
      "Epoch 62/100\n",
      "11175/11175 [==============================] - 182s 16ms/step - loss: 1.2794 - accuracy: 0.7127 - val_loss: 0.7846 - val_accuracy: 0.8460\n",
      "\n",
      "Epoch 00062: val_accuracy improved from 0.83990 to 0.84596, saving model to E:\\projects\\DaKanjiRecognizerML\\single_kanji_cnn\\model\\tf\\checkpoints\\weights-improvement-62-0.85.hdf5\n",
      "Epoch 63/100\n",
      "11175/11175 [==============================] - 179s 16ms/step - loss: 1.2392 - accuracy: 0.7215 - val_loss: 0.7698 - val_accuracy: 0.8511\n",
      "\n",
      "Epoch 00063: val_accuracy improved from 0.84596 to 0.85107, saving model to E:\\projects\\DaKanjiRecognizerML\\single_kanji_cnn\\model\\tf\\checkpoints\\weights-improvement-63-0.85.hdf5\n",
      "Epoch 64/100\n",
      "11175/11175 [==============================] - 176s 15ms/step - loss: 1.2073 - accuracy: 0.7288 - val_loss: 0.7567 - val_accuracy: 0.8531\n",
      "\n",
      "Epoch 00064: val_accuracy improved from 0.85107 to 0.85308, saving model to E:\\projects\\DaKanjiRecognizerML\\single_kanji_cnn\\model\\tf\\checkpoints\\weights-improvement-64-0.85.hdf5\n",
      "Epoch 65/100\n",
      "11175/11175 [==============================] - 180s 16ms/step - loss: 1.1786 - accuracy: 0.7350 - val_loss: 0.7400 - val_accuracy: 0.8579\n",
      "\n",
      "Epoch 00065: val_accuracy improved from 0.85308 to 0.85785, saving model to E:\\projects\\DaKanjiRecognizerML\\single_kanji_cnn\\model\\tf\\checkpoints\\weights-improvement-65-0.86.hdf5\n",
      "Epoch 66/100\n",
      "11175/11175 [==============================] - 181s 16ms/step - loss: 1.1548 - accuracy: 0.7406 - val_loss: 0.7277 - val_accuracy: 0.8594\n",
      "\n",
      "Epoch 00066: val_accuracy improved from 0.85785 to 0.85939, saving model to E:\\projects\\DaKanjiRecognizerML\\single_kanji_cnn\\model\\tf\\checkpoints\\weights-improvement-66-0.86.hdf5\n",
      "Epoch 67/100\n",
      "11175/11175 [==============================] - 176s 15ms/step - loss: 1.1302 - accuracy: 0.7461 - val_loss: 0.7060 - val_accuracy: 0.8647\n",
      "\n",
      "Epoch 00067: val_accuracy improved from 0.85939 to 0.86475, saving model to E:\\projects\\DaKanjiRecognizerML\\single_kanji_cnn\\model\\tf\\checkpoints\\weights-improvement-67-0.86.hdf5\n",
      "Epoch 68/100\n",
      "11175/11175 [==============================] - 171s 15ms/step - loss: 1.1084 - accuracy: 0.7512 - val_loss: 0.7127 - val_accuracy: 0.8646\n",
      "\n",
      "Epoch 00068: val_accuracy did not improve from 0.86475\n",
      "Epoch 69/100\n",
      "11175/11175 [==============================] - 168s 15ms/step - loss: 1.0917 - accuracy: 0.7556 - val_loss: 0.6853 - val_accuracy: 0.8685\n",
      "\n",
      "Epoch 00069: val_accuracy improved from 0.86475 to 0.86848, saving model to E:\\projects\\DaKanjiRecognizerML\\single_kanji_cnn\\model\\tf\\checkpoints\\weights-improvement-69-0.87.hdf5\n",
      "Epoch 70/100\n",
      "11175/11175 [==============================] - 173s 15ms/step - loss: 1.0766 - accuracy: 0.7584 - val_loss: 0.6732 - val_accuracy: 0.8698\n",
      "\n",
      "Epoch 00070: val_accuracy improved from 0.86848 to 0.86980, saving model to E:\\projects\\DaKanjiRecognizerML\\single_kanji_cnn\\model\\tf\\checkpoints\\weights-improvement-70-0.87.hdf5\n",
      "Epoch 71/100\n",
      "11175/11175 [==============================] - 168s 15ms/step - loss: 1.0580 - accuracy: 0.7624 - val_loss: 0.6518 - val_accuracy: 0.8765\n",
      "\n",
      "Epoch 00071: val_accuracy improved from 0.86980 to 0.87647, saving model to E:\\projects\\DaKanjiRecognizerML\\single_kanji_cnn\\model\\tf\\checkpoints\\weights-improvement-71-0.88.hdf5\n",
      "Epoch 72/100\n",
      "11175/11175 [==============================] - 169s 15ms/step - loss: 1.0431 - accuracy: 0.7663 - val_loss: 0.6545 - val_accuracy: 0.8740\n",
      "\n",
      "Epoch 00072: val_accuracy did not improve from 0.87647\n",
      "Epoch 73/100\n",
      "11175/11175 [==============================] - 169s 15ms/step - loss: 1.0320 - accuracy: 0.7688 - val_loss: 0.6467 - val_accuracy: 0.8766\n",
      "\n",
      "Epoch 00073: val_accuracy improved from 0.87647 to 0.87665, saving model to E:\\projects\\DaKanjiRecognizerML\\single_kanji_cnn\\model\\tf\\checkpoints\\weights-improvement-73-0.88.hdf5\n",
      "Epoch 74/100\n",
      "11175/11175 [==============================] - 167s 15ms/step - loss: 1.0202 - accuracy: 0.7717 - val_loss: 0.6404 - val_accuracy: 0.8780\n",
      "\n",
      "Epoch 00074: val_accuracy improved from 0.87665 to 0.87800, saving model to E:\\projects\\DaKanjiRecognizerML\\single_kanji_cnn\\model\\tf\\checkpoints\\weights-improvement-74-0.88.hdf5\n",
      "Epoch 75/100\n",
      "11175/11175 [==============================] - 167s 15ms/step - loss: 1.0063 - accuracy: 0.7749 - val_loss: 0.6322 - val_accuracy: 0.8794\n",
      "\n",
      "Epoch 00075: val_accuracy improved from 0.87800 to 0.87944, saving model to E:\\projects\\DaKanjiRecognizerML\\single_kanji_cnn\\model\\tf\\checkpoints\\weights-improvement-75-0.88.hdf5\n",
      "Epoch 76/100\n",
      "11175/11175 [==============================] - 167s 15ms/step - loss: 0.9966 - accuracy: 0.7773 - val_loss: 0.6365 - val_accuracy: 0.8806\n",
      "\n",
      "Epoch 00076: val_accuracy improved from 0.87944 to 0.88059, saving model to E:\\projects\\DaKanjiRecognizerML\\single_kanji_cnn\\model\\tf\\checkpoints\\weights-improvement-76-0.88.hdf5\n"
     ]
    },
    {
     "name": "stdout",
     "output_type": "stream",
     "text": [
      "Epoch 77/100\n",
      "11175/11175 [==============================] - 168s 15ms/step - loss: 0.9871 - accuracy: 0.7790 - val_loss: 0.6106 - val_accuracy: 0.8850\n",
      "\n",
      "Epoch 00077: val_accuracy improved from 0.88059 to 0.88502, saving model to E:\\projects\\DaKanjiRecognizerML\\single_kanji_cnn\\model\\tf\\checkpoints\\weights-improvement-77-0.89.hdf5\n",
      "Epoch 78/100\n",
      "11175/11175 [==============================] - 167s 15ms/step - loss: 0.9799 - accuracy: 0.7812 - val_loss: 0.6186 - val_accuracy: 0.8839\n",
      "\n",
      "Epoch 00078: val_accuracy did not improve from 0.88502\n",
      "Epoch 79/100\n",
      "11175/11175 [==============================] - 168s 15ms/step - loss: 0.9687 - accuracy: 0.7834 - val_loss: 0.6120 - val_accuracy: 0.8860\n",
      "\n",
      "Epoch 00079: val_accuracy improved from 0.88502 to 0.88598, saving model to E:\\projects\\DaKanjiRecognizerML\\single_kanji_cnn\\model\\tf\\checkpoints\\weights-improvement-79-0.89.hdf5\n",
      "Epoch 80/100\n",
      "11175/11175 [==============================] - 167s 15ms/step - loss: 0.9618 - accuracy: 0.7849 - val_loss: 0.6135 - val_accuracy: 0.8839\n",
      "\n",
      "Epoch 00080: val_accuracy did not improve from 0.88598\n",
      "Epoch 81/100\n",
      "11175/11175 [==============================] - 168s 15ms/step - loss: 0.9558 - accuracy: 0.7867 - val_loss: 0.6120 - val_accuracy: 0.8855\n",
      "\n",
      "Epoch 00081: val_accuracy did not improve from 0.88598\n",
      "Epoch 82/100\n",
      "11175/11175 [==============================] - 167s 15ms/step - loss: 0.9480 - accuracy: 0.7890 - val_loss: 0.6051 - val_accuracy: 0.8878\n",
      "\n",
      "Epoch 00082: val_accuracy improved from 0.88598 to 0.88780, saving model to E:\\projects\\DaKanjiRecognizerML\\single_kanji_cnn\\model\\tf\\checkpoints\\weights-improvement-82-0.89.hdf5\n",
      "Epoch 83/100\n",
      "11175/11175 [==============================] - 168s 15ms/step - loss: 0.9440 - accuracy: 0.7895 - val_loss: 0.5824 - val_accuracy: 0.8895\n",
      "\n",
      "Epoch 00083: val_accuracy improved from 0.88780 to 0.88952, saving model to E:\\projects\\DaKanjiRecognizerML\\single_kanji_cnn\\model\\tf\\checkpoints\\weights-improvement-83-0.89.hdf5\n",
      "Epoch 84/100\n",
      "11175/11175 [==============================] - 167s 15ms/step - loss: 0.9355 - accuracy: 0.7909 - val_loss: 0.5972 - val_accuracy: 0.8884\n",
      "\n",
      "Epoch 00084: val_accuracy did not improve from 0.88952\n",
      "Epoch 85/100\n",
      "11175/11175 [==============================] - 168s 15ms/step - loss: 0.9299 - accuracy: 0.7928 - val_loss: 0.5908 - val_accuracy: 0.8899\n",
      "\n",
      "Epoch 00085: val_accuracy improved from 0.88952 to 0.88987, saving model to E:\\projects\\DaKanjiRecognizerML\\single_kanji_cnn\\model\\tf\\checkpoints\\weights-improvement-85-0.89.hdf5\n",
      "Epoch 86/100\n",
      "11175/11175 [==============================] - 168s 15ms/step - loss: 0.9249 - accuracy: 0.7941 - val_loss: 0.5838 - val_accuracy: 0.8922\n",
      "\n",
      "Epoch 00086: val_accuracy improved from 0.88987 to 0.89219, saving model to E:\\projects\\DaKanjiRecognizerML\\single_kanji_cnn\\model\\tf\\checkpoints\\weights-improvement-86-0.89.hdf5\n",
      "Epoch 87/100\n",
      "11175/11175 [==============================] - 168s 15ms/step - loss: 0.9188 - accuracy: 0.7955 - val_loss: 0.5756 - val_accuracy: 0.8919\n",
      "\n",
      "Epoch 00087: val_accuracy did not improve from 0.89219\n",
      "Epoch 88/100\n",
      "11175/11175 [==============================] - 168s 15ms/step - loss: 0.9148 - accuracy: 0.7964 - val_loss: 0.5778 - val_accuracy: 0.8938\n",
      "\n",
      "Epoch 00088: val_accuracy improved from 0.89219 to 0.89383, saving model to E:\\projects\\DaKanjiRecognizerML\\single_kanji_cnn\\model\\tf\\checkpoints\\weights-improvement-88-0.89.hdf5\n",
      "Epoch 89/100\n",
      "11175/11175 [==============================] - 168s 15ms/step - loss: 0.9101 - accuracy: 0.7976 - val_loss: 0.5754 - val_accuracy: 0.8928\n",
      "\n",
      "Epoch 00089: val_accuracy did not improve from 0.89383\n",
      "Epoch 90/100\n",
      "11175/11175 [==============================] - 167s 15ms/step - loss: 0.9044 - accuracy: 0.7985 - val_loss: 0.5842 - val_accuracy: 0.8907\n",
      "\n",
      "Epoch 00090: val_accuracy did not improve from 0.89383\n",
      "Epoch 91/100\n",
      "11175/11175 [==============================] - 168s 15ms/step - loss: 0.9003 - accuracy: 0.7996 - val_loss: 0.5778 - val_accuracy: 0.8938\n",
      "\n",
      "Epoch 00091: val_accuracy did not improve from 0.89383\n",
      "Epoch 92/100\n",
      "11175/11175 [==============================] - 168s 15ms/step - loss: 0.8957 - accuracy: 0.8013 - val_loss: 0.5695 - val_accuracy: 0.8942\n",
      "\n",
      "Epoch 00092: val_accuracy improved from 0.89383 to 0.89417, saving model to E:\\projects\\DaKanjiRecognizerML\\single_kanji_cnn\\model\\tf\\checkpoints\\weights-improvement-92-0.89.hdf5\n",
      "Epoch 93/100\n",
      "11175/11175 [==============================] - 168s 15ms/step - loss: 0.8923 - accuracy: 0.8019 - val_loss: 0.5611 - val_accuracy: 0.8947\n",
      "\n",
      "Epoch 00093: val_accuracy improved from 0.89417 to 0.89467, saving model to E:\\projects\\DaKanjiRecognizerML\\single_kanji_cnn\\model\\tf\\checkpoints\\weights-improvement-93-0.89.hdf5\n",
      "Epoch 94/100\n",
      "11175/11175 [==============================] - 168s 15ms/step - loss: 0.8882 - accuracy: 0.8026 - val_loss: 0.5705 - val_accuracy: 0.8949\n",
      "\n",
      "Epoch 00094: val_accuracy improved from 0.89467 to 0.89494, saving model to E:\\projects\\DaKanjiRecognizerML\\single_kanji_cnn\\model\\tf\\checkpoints\\weights-improvement-94-0.89.hdf5\n",
      "Epoch 95/100\n",
      "11175/11175 [==============================] - 168s 15ms/step - loss: 0.8862 - accuracy: 0.8034 - val_loss: 0.5633 - val_accuracy: 0.8962\n",
      "\n",
      "Epoch 00095: val_accuracy improved from 0.89494 to 0.89624, saving model to E:\\projects\\DaKanjiRecognizerML\\single_kanji_cnn\\model\\tf\\checkpoints\\weights-improvement-95-0.90.hdf5\n",
      "Epoch 96/100\n",
      "11175/11175 [==============================] - 169s 15ms/step - loss: 0.8817 - accuracy: 0.8040 - val_loss: 0.5749 - val_accuracy: 0.8929\n",
      "\n",
      "Epoch 00096: val_accuracy did not improve from 0.89624\n",
      "Epoch 97/100\n",
      "11175/11175 [==============================] - 168s 15ms/step - loss: 0.8772 - accuracy: 0.8053 - val_loss: 0.5566 - val_accuracy: 0.8972\n",
      "\n",
      "Epoch 00097: val_accuracy improved from 0.89624 to 0.89716, saving model to E:\\projects\\DaKanjiRecognizerML\\single_kanji_cnn\\model\\tf\\checkpoints\\weights-improvement-97-0.90.hdf5\n",
      "Epoch 98/100\n",
      "11175/11175 [==============================] - 167s 15ms/step - loss: 0.8763 - accuracy: 0.8057 - val_loss: 0.5535 - val_accuracy: 0.8976\n",
      "\n",
      "Epoch 00098: val_accuracy improved from 0.89716 to 0.89764, saving model to E:\\projects\\DaKanjiRecognizerML\\single_kanji_cnn\\model\\tf\\checkpoints\\weights-improvement-98-0.90.hdf5\n",
      "Epoch 99/100\n",
      "11175/11175 [==============================] - 169s 15ms/step - loss: 0.8713 - accuracy: 0.8068 - val_loss: 0.5473 - val_accuracy: 0.8981\n",
      "\n",
      "Epoch 00099: val_accuracy improved from 0.89764 to 0.89812, saving model to E:\\projects\\DaKanjiRecognizerML\\single_kanji_cnn\\model\\tf\\checkpoints\\weights-improvement-99-0.90.hdf5\n",
      "Epoch 100/100\n",
      "11175/11175 [==============================] - 169s 15ms/step - loss: 0.8700 - accuracy: 0.8073 - val_loss: 0.5500 - val_accuracy: 0.8981\n",
      "\n",
      "Epoch 00100: val_accuracy did not improve from 0.89812\n"
     ]
    }
   ],
   "source": [
    "#train the model\n",
    "hist = f16_model.fit(\n",
    "    train,\n",
    "    validation_data=val,\n",
    "    epochs=100,\n",
    "    initial_epoch=50,\n",
    "    workers=16,\n",
    "    use_multiprocessing=True,\n",
    "    callbacks=callbacks_list\n",
    ")"
   ]
  },
  {
   "cell_type": "markdown",
   "metadata": {},
   "source": [
    "## Evaluating the model\n",
    "\n",
    "After training plot the loss and accuracy for the test and validation sets."
   ]
  },
  {
   "cell_type": "code",
   "execution_count": 80,
   "metadata": {},
   "outputs": [
    {
     "data": {
      "image/png": "[encoded data removed]",
      "text/plain": [
       "<Figure size 432x288 with 1 Axes>"
      ]
     },
     "metadata": {
      "needs_background": "light"
     },
     "output_type": "display_data"
    }
   ],
   "source": [
    "plt.plot(hist.history['accuracy'])\n",
    "plt.plot(hist.history['val_accuracy'])\n",
    "plt.title('model accuracy')\n",
    "plt.ylabel('accuracy')\n",
    "plt.xlabel('epoch')\n",
    "plt.legend(['train', 'val'], loc='upper left')\n",
    "plt.show()"
   ]
  },
  {
   "cell_type": "markdown",
   "metadata": {},
   "source": [
    "The graphs look good.\n",
    "Let's now make a prediction."
   ]
  },
  {
   "cell_type": "code",
   "execution_count": 191,
   "metadata": {},
   "outputs": [
    {
     "name": "stdout",
     "output_type": "stream",
     "text": [
      "['ゆ', 'ゅ', '屮', '幼', '衂', '四', '叨', '血', '甥', 'め']\n"
     ]
    },
    {
     "data": {
      "image/png": "[encoded data removed]",
      "text/plain": [
       "<Figure size 158.4x158.4 with 1 Axes>"
      ]
     },
     "metadata": {
      "needs_background": "light"
     },
     "output_type": "display_data"
    }
   ],
   "source": [
    "sample = tf.keras.preprocessing.image.load_img(\n",
    "    path= r\"F:\\data_sets\\etlcdb\\0100\\10.jpg\",\n",
    "    color_mode=\"grayscale\"\n",
    ")\n",
    "sample = tf.keras.preprocessing.image.img_to_array(sample)\n",
    "sample = sample.reshape((1, 64, 64, 1))\n",
    "\n",
    "# output 10 most liekly predictions\n",
    "prediction = f16_model.predict(sample)[0]\n",
    "ind = np.argpartition(prediction, -10)[-10:]\n",
    "q = ind[np.argsort(prediction[ind])]\n",
    "print([ordered_labels[i] for i in reversed(q)])\n",
    "\n",
    "show_image(sample.reshape((64, 64)), ordered_labels[prediction.argmax()] + \" - %.2f\" % prediction.max())"
   ]
  },
  {
   "cell_type": "markdown",
   "metadata": {},
   "source": [
    "## Saving the model\n",
    "\n",
    "The model is perfoming very well therefore save the trained model as a \"*.pb\" file."
   ]
  },
  {
   "cell_type": "code",
   "execution_count": 56,
   "metadata": {},
   "outputs": [
    {
     "name": "stderr",
     "output_type": "stream",
     "text": [
      "WARNING:absl:Function `_wrapped_model` contains input name(s) conv2D_1_2_input_input with unsupported characters which will be renamed to conv2d_1_2_input_input in the SavedModel.\n"
     ]
    },
    {
     "name": "stdout",
     "output_type": "stream",
     "text": [
      "INFO:tensorflow:Assets written to: E:\\projects\\DaKanjiRecognizerML\\single_kanji_cnn\\model\\tf\\trained_model\\assets\n"
     ]
    },
    {
     "name": "stderr",
     "output_type": "stream",
     "text": [
      "INFO:tensorflow:Assets written to: E:\\projects\\DaKanjiRecognizerML\\single_kanji_cnn\\model\\tf\\trained_model\\assets\n"
     ]
    }
   ],
   "source": [
    "f16_model.save(os.path.join(model_dir, \"tf\", \"trained_model\"))"
   ]
  },
  {
   "cell_type": "code",
   "execution_count": 47,
   "metadata": {},
   "outputs": [],
   "source": [
    "# Create a float32 model with the same weights as the mixed_float16 model, so\n",
    "# that it loads into TF Lite\n",
    "policy = tf.keras.mixed_precision.global_policy()\n",
    "tf.keras.mixed_precision.set_global_policy(\"float32\")\n",
    "f32_model = get_model(\"DaKanjiRecognizer_f32\")\n",
    "f32_model.set_weights(f16_model.get_weights())\n",
    "#f32_model.summary()\n",
    "tf.keras.mixed_precision.set_global_policy(policy)"
   ]
  },
  {
   "cell_type": "markdown",
   "metadata": {},
   "source": [
    "Finally convert the model to a TF-Light model to be used in other applications ([DaKanjiRecognizer Desktop](https://github.com/CaptainDario/DaKanjiRecognizer-Desktop))"
   ]
  },
  {
   "cell_type": "code",
   "execution_count": 39,
   "metadata": {},
   "outputs": [
    {
     "name": "stdout",
     "output_type": "stream",
     "text": [
      "WARNING:tensorflow:Compiled the loaded model, but the compiled metrics have yet to be built. `model.compile_metrics` will be empty until you train or evaluate the model.\n"
     ]
    },
    {
     "name": "stderr",
     "output_type": "stream",
     "text": [
      "WARNING:tensorflow:Compiled the loaded model, but the compiled metrics have yet to be built. `model.compile_metrics` will be empty until you train or evaluate the model.\n",
      "WARNING:absl:Function `_wrapped_model` contains input name(s) conv2D_1_2_input_input with unsupported characters which will be renamed to conv2d_1_2_input_input in the SavedModel.\n"
     ]
    },
    {
     "name": "stdout",
     "output_type": "stream",
     "text": [
      "INFO:tensorflow:Assets written to: C:\\Users\\dario\\AppData\\Local\\Temp\\tmp0_8ibwdm\\assets\n"
     ]
    },
    {
     "name": "stderr",
     "output_type": "stream",
     "text": [
      "INFO:tensorflow:Assets written to: C:\\Users\\dario\\AppData\\Local\\Temp\\tmp0_8ibwdm\\assets\n"
     ]
    }
   ],
   "source": [
    "# Convert the model\n",
    "converter = tf.lite.TFLiteConverter.from_keras_model(f32_model) # path to the SavedModel directory\n",
    "tflite_model = converter.convert()\n",
    "\n",
    "# Save the model.\n",
    "with open(os.path.join(model_dir, \"tflite\", \"model.tflite\"), 'wb') as f:\n",
    "  f.write(tflite_model)\n"
   ]
  }
 ],
 "metadata": {
  "kernelspec": {
   "display_name": "Python 3",
   "language": "python",
   "name": "python3"
  },
  "language_info": {
   "codemirror_mode": {
    "name": "ipython",
    "version": 3
   },
   "file_extension": ".py",
   "mimetype": "text/x-python",
   "name": "python",
   "nbconvert_exporter": "python",
   "pygments_lexer": "ipython3",
   "version": "3.8.6"
  }
 },
 "nbformat": 4,
 "nbformat_minor": 4
}
