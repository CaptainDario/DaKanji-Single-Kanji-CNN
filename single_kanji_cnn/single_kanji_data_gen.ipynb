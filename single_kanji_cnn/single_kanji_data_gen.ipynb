{
 "cells": [
  {
   "cell_type": "markdown",
   "metadata": {},
   "source": [
    "# DaKanjiRecognizer - Single Kanji CNN : Create dataset"
   ]
  },
  {
   "cell_type": "markdown",
   "metadata": {},
   "source": [
    "## Setup\n",
    "\n",
    "Import the needed libraries."
   ]
  },
  {
   "cell_type": "code",
   "execution_count": 1,
   "metadata": {},
   "outputs": [],
   "source": [
    "#std lib\n",
    "import sys\n",
    "import os\n",
    "import random\n",
    "import math\n",
    "import multiprocessing as mp\n",
    "import gc\n",
    "import time\n",
    "import datetime\n",
    "from typing import Tuple, List\n",
    "\n",
    "from tqdm import tqdm\n",
    "import tensorflow as tf\n",
    "\n",
    "#reading the dataset\n",
    "from etldr.etl_data_reader import ETLDataReader\n",
    "from etldr.etl_character_groups import ETLCharacterGroups\n",
    "from etldr.etl_data_names import ETLDataNames\n",
    "\n",
    "from DataGenerator import generate_images, check_font_char_support\n",
    "\n",
    "#data handling\n",
    "import PIL\n",
    "from PIL import Image as PImage\n",
    "from PIL import ImageFilter, ImageFont, ImageDraw\n",
    "import numpy as np\n",
    "import cv2\n",
    "\n",
    "#plotting/showing graphics\n",
    "%matplotlib inline\n",
    "import matplotlib.pyplot as plt\n",
    "from IPython.display import Image\n",
    "\n",
    "#define a font to show japanese characters in matplotlib figures\n",
    "import matplotlib.font_manager as fm\n",
    "show_sample_font = fm.FontProperties(fname=os.path.join(\"..\", \"fonts\", \"NotoSerifCJKjp-Regular.otf\"), size=20)"
   ]
  },
  {
   "cell_type": "markdown",
   "metadata": {},
   "source": [
    "## Loading the data"
   ]
  },
  {
   "cell_type": "markdown",
   "metadata": {},
   "source": [
    "The [ETL Character data set](http://etlcdb.db.aist.go.jp/) which I am using is a data set with multiple sub sets (ETL1 - ETL7, ETL8B, ETL8G, ETL9B and ETL9G). <br/>\n",
    "After unpacking the data set I renamed all folders and files to have a uniform naming scheme: \"ETLX/ETLX_Y\". \"X\" is the number of the subset and Y the part of the subset. Also ETL7S was removed (ETL7L just smaller), the following renaming was also done: <br/>\n",
    "ETL8B $\\rightarrow$ ETL1, ETL8G $\\rightarrow$ ETL9, ETL9B $\\rightarrow$ ETL10 and ETL9G $\\rightarrow$ ETL11.<br/>\n",
    "This leads to the following data set structure: <br/> \n",
    "\n",
    "| name  |   type  |                    content                                              |   res   | Bit depth |    code    | samples perlabel | total samples |\n",
    "|:-----:|:-------:|:-----------------------------------------------------------------------:|:-------:|:---------:|:----------:|:----------------:|:-------------:|\n",
    "| ETL1  | M-Type  | Numbers <br/> Roman <br/> Symbols <br/> Katakana                        |  64x63  |     4     | JIS X 0201 |   ~1400          |     141319    |\n",
    "| ETL2  | K-Type  | Hiragana <br/> Katakana <br/> Kanji <br/> Roman <br/> Symbols           |  60x60  |     6     |    CO59    |     ~24          |      52796    |\n",
    "| ETL3  | C-Type  | Numeric <br/> Capital Roman <br/> Symbols                               |  72x76  |     4     | JIS X 0201 |     200          |       9600    |\n",
    "| ETL4  | C-Type  | Hiragana                                                                |  72x76  |     4     | JIS X 0201 |     120          |       6120    |\n",
    "| ETL5  | C-Type  | Katakana                                                                |  72x76  |     4     | JIS X 0201 |    ~200          |      10608    |\n",
    "| ETL6  | M-Type  | Katakana <br/> Symbols                                                  |  64x63  |     4     | JIS X 0201 |    1383          |     157662    |\n",
    "| ETL7  | M-Type  | Hiragana <br/> Symbols                                                  |  64x63  |     4     | JIS X 0201 |     160          |      16800    |\n",
    "| ETL8  | 8B-Type | Hiragana <br/> Kanji                                                    |  64x63  |     1     | JIS X 0208 |     160          |     157662    |\n",
    "| ETL9  | 8G-Type | Hiragana <br/> Kanji                                                    | 128x127 |     4     | JIS X 0208 |     200          |     607200    |\n",
    "| ETL10 | 9B-Type | Hiragana <br/> Kanji                                                    |  64x63  |     1     | JIS X 0208 |     160          |     152960    |\n",
    "| ETL11 | 9G-Type | Hiragana <br/> Kanji                                                    | 128x127 |     4     | JIS X 0208 |     200          |     607200    |\n"
   ]
  },
  {
   "cell_type": "markdown",
   "metadata": {},
   "source": [
    "Because the provided data set is distributed in a proprietary binary data format and therefore hard to handle I created a ```ETL_data_reader```-package. This package can be found [here](https://github.com/CaptainDario/ETLCDB_data_reader).\n",
    "The specific dataformat is C-struct like for types: M, 8B, 8G, 9B, 9G. But the types C and K are 6-bit encoded. All codes can be found on the [official website.](http://etlcdb.db.aist.go.jp/file-formats-and-sample-unpacking-code)\n",
    "I used the [struct module](https://docs.python.org/3/library/struct.html) and the [bitstring module](https://pypi.org/project/bitstring/) to unpack the binary data. <br/>"
   ]
  },
  {
   "cell_type": "markdown",
   "metadata": {},
   "source": [
    "First an instance of the ```ERL_data_reader``` -class is needed.\n",
    "The path parameter should lead to the folder in which all parts of the ETL data set can be found."
   ]
  },
  {
   "cell_type": "code",
   "execution_count": 2,
   "metadata": {
    "tags": []
   },
   "outputs": [],
   "source": [
    "path = \"Z:\\data_sets\\ETL_kanji\"\n",
    "reader = ETLDataReader(path)"
   ]
  },
  {
   "cell_type": "markdown",
   "metadata": {},
   "source": [
    "Define a convenience function for showing characters and their label."
   ]
  },
  {
   "cell_type": "code",
   "execution_count": 3,
   "metadata": {},
   "outputs": [],
   "source": [
    "def show_image(img : np.array, label : str):\n",
    "    plt.figure(figsize=(2.2, 2.2))\n",
    "    plt.title(label=label, font=show_sample_font)\n",
    "    plt.axis(\"off\")\n",
    "    plt.imshow(img.astype(np.float64), cmap=\"gray\")"
   ]
  },
  {
   "cell_type": "markdown",
   "metadata": {},
   "source": [
    "Now load all samples which contain Kanji, Hiragana and Katakana."
   ]
  },
  {
   "cell_type": "code",
   "execution_count": 19,
   "metadata": {
    "tags": []
   },
   "outputs": [
    {
     "data": {
      "application/vnd.jupyter.widget-view+json": {
       "model_id": "36c19407b1d548a883e6ef62498fa299",
       "version_major": 2,
       "version_minor": 0
      },
      "text/plain": [
       "  0%|          | 0/127 [00:00<?, ?it/s]"
      ]
     },
     "metadata": {},
     "output_type": "display_data"
    },
    {
     "name": "stdout",
     "output_type": "stream",
     "text": [
      "(1745185, 64, 64, 1) (1745185,)\n"
     ]
    }
   ],
   "source": [
    "types = [ETLCharacterGroups.kanji, ETLCharacterGroups.katakana, ETLCharacterGroups.hiragana]\n",
    "x, y = reader.read_dataset_whole(types, 16)\n",
    "print(x.shape, y.shape)"
   ]
  },
  {
   "cell_type": "markdown",
   "metadata": {},
   "source": [
    "With the loaded data we can take a look at the class distributions."
   ]
  },
  {
   "cell_type": "code",
   "execution_count": 20,
   "metadata": {
    "tags": []
   },
   "outputs": [
    {
     "data": {
      "image/png": "[encoded data removed]",
      "text/plain": [
       "<Figure size 432x288 with 1 Axes>"
      ]
     },
     "metadata": {
      "needs_background": "light"
     },
     "output_type": "display_data"
    }
   ],
   "source": [
    "unique, counts = np.unique(y, return_counts=True)\n",
    "balance = dict(zip(unique, counts))\n",
    "\n",
    "plt.bar(range(0, len(counts)), counts, width=1.0)\n",
    "plt.show()"
   ]
  },
  {
   "cell_type": "markdown",
   "metadata": {},
   "source": [
    "Because the data is quite imbalanced a function to generate artifical data is needed.\n",
    "If all images are the same, the artifical data is not really useful. <br/>\n",
    "Therefore a function to augment the created data is also needed. <br/>\n",
    "This was implemented in `DataGenerator.py` because Multiprocessing and Jupyter do not work nicely together on windows."
   ]
  },
  {
   "cell_type": "markdown",
   "metadata": {
    "tags": [
     "outputPrepend"
    ]
   },
   "source": [
    "Let's create augmented data so that all classes have atleast 1000 samples. <br/>\n",
    "Therefore a directory of fonts is needed."
   ]
  },
  {
   "cell_type": "code",
   "execution_count": 6,
   "metadata": {
    "tags": []
   },
   "outputs": [],
   "source": [
    "# the desired number of samples\n",
    "num_samples = 500\n",
    "\n",
    "# read the fonts from file and create ImageFont objects\n",
    "fonts = [os.path.join(os.path.dirname(os.getcwd()), \"fonts\", i) for i in os.listdir(os.path.join(\"..\", \"fonts\"))]"
   ]
  },
  {
   "cell_type": "markdown",
   "metadata": {},
   "source": [
    "Now we should check that every font supports the characters we want to generate."
   ]
  },
  {
   "cell_type": "code",
   "execution_count": 7,
   "metadata": {},
   "outputs": [],
   "source": [
    "arguments = [[fonts, i] for i in unique]\n",
    "\n",
    "# if the supporting fonts were not saved to file\n",
    "if(not os.path.isfile(\"supported_fonts_1.txt\")):\n",
    "    # check which fonts support which character\n",
    "    if(__name__ == \"__main__\"):\n",
    "        with mp.Pool(processes=16) as pool:\n",
    "            return_values = pool.starmap(check_font_char_support, tqdm(arguments, total=len(arguments)))\n",
    "    # save the characters and their supported fonts to file\n",
    "    with open(\"supported_fonts_1.txt\", mode=\"w+\", encoding=\"utf-8\") as f:\n",
    "        f.write(str(return_values))\n",
    "# if the supporting fonts were saved to file\n",
    "else:\n",
    "    with open(\"supported_fonts_1.txt\", mode=\"r\", encoding=\"utf-8\") as f:\n",
    "        content = f.read()\n",
    "        return_values = eval(content)"
   ]
  },
  {
   "cell_type": "markdown",
   "metadata": {},
   "source": [
    "Now generate the artificial data (with multiple processes)."
   ]
  },
  {
   "cell_type": "code",
   "execution_count": 8,
   "metadata": {},
   "outputs": [],
   "source": [
    "# create the arguments for each process to balance the data set\n",
    "slices, cnt = 128, 0\n",
    "arguments = [[[], [], []] for i in range(slices)]\n",
    "for key, value in balance.items():\n",
    "    # if there are less than desired samples\n",
    "    if(value < num_samples):\n",
    "        to_generate = num_samples - value\n",
    "        arguments[cnt % slices][0].append(to_generate)\n",
    "        arguments[cnt % slices][1].append(key)\n",
    "        arguments[cnt % slices][2].append(return_values[cnt][1])\n",
    "        cnt += 1"
   ]
  },
  {
   "cell_type": "code",
   "execution_count": 9,
   "metadata": {},
   "outputs": [
    {
     "name": "stderr",
     "output_type": "stream",
     "text": [
      "100%|██████████████████████████████████████████████████████████████████████████████████████████████████████████████████████████████████████████████| 128/128 [00:29<00:00,  4.32it/s]\n"
     ]
    }
   ],
   "source": [
    "if(__name__ == \"__main__\"):\n",
    "    with mp.Pool(processes=16) as pool:\n",
    "        return_values = pool.starmap(generate_images, tqdm(arguments, total=len(arguments)))"
   ]
  },
  {
   "cell_type": "markdown",
   "metadata": {},
   "source": [
    "Merge the generated data to two big umpy arrays."
   ]
  },
  {
   "cell_type": "code",
   "execution_count": 10,
   "metadata": {},
   "outputs": [
    {
     "data": {
      "text/plain": [
       "183889"
      ]
     },
     "execution_count": 10,
     "metadata": {},
     "output_type": "execute_result"
    }
   ],
   "source": [
    "augmented_imgs, augmented_labels = [x], [y]\n",
    "\n",
    "for _imgs, _labels in return_values: \n",
    "    if(len(_imgs) > 0 and len(_labels) > 0):\n",
    "        augmented_imgs.append(_imgs)\n",
    "        augmented_labels.append(_labels)\n",
    "\n",
    "x = np.concatenate(augmented_imgs)\n",
    "augmented_imgs = None\n",
    "y = np.concatenate(augmented_labels)\n",
    "augmented_labels = None\n",
    "gc.collect()"
   ]
  },
  {
   "cell_type": "markdown",
   "metadata": {},
   "source": [
    "When taking a look at the new class distribution it should be nearly balanced."
   ]
  },
  {
   "cell_type": "code",
   "execution_count": 21,
   "metadata": {},
   "outputs": [
    {
     "data": {
      "image/png": "[encoded data removed]",
      "text/plain": [
       "<Figure size 432x288 with 1 Axes>"
      ]
     },
     "metadata": {
      "needs_background": "light"
     },
     "output_type": "display_data"
    }
   ],
   "source": [
    "unique, counts = np.unique(y, return_counts=True)\n",
    "balance = dict(zip(unique, counts))\n",
    "\n",
    "plt.bar(range(0, len(counts)), counts, width=1.0)\n",
    "plt.show()"
   ]
  },
  {
   "cell_type": "markdown",
   "metadata": {},
   "source": [
    "The graph looks good only some classes have too many samples.\n",
    "As a last step remove samples from classes which have too many samples."
   ]
  },
  {
   "cell_type": "code",
   "execution_count": 22,
   "metadata": {},
   "outputs": [],
   "source": [
    "del_inds, cnt = [], 0\n",
    "for _x, _y in zip(x, y):\n",
    "    ind = np.where(unique == _y)\n",
    "    if(counts[ind] > 1000):\n",
    "            del_inds.append(cnt)\n",
    "            counts[ind] -= 1\n",
    "    cnt += 1\n",
    "\n",
    "x = np.delete(x, del_inds, axis=0)\n",
    "y = np.delete(y, del_inds)"
   ]
  },
  {
   "cell_type": "code",
   "execution_count": 25,
   "metadata": {},
   "outputs": [
    {
     "data": {
      "image/png": "[encoded data removed]",
      "text/plain": [
       "<Figure size 432x288 with 1 Axes>"
      ]
     },
     "metadata": {
      "needs_background": "light"
     },
     "output_type": "display_data"
    }
   ],
   "source": [
    "unique, counts = np.unique(y, return_counts=True)\n",
    "balance = dict(zip(unique, counts))\n",
    "\n",
    "plt.bar(range(0, len(counts)), counts, width=1.0)\n",
    "plt.show()"
   ]
  },
  {
   "cell_type": "markdown",
   "metadata": {},
   "source": [
    "### Save (augmented) images to disk \n",
    "To use the data later with keras we save them to disk in an appropriate folder structure. <br/>\n",
    "The ETL_data_reader package provides a handy function for this."
   ]
  },
  {
   "cell_type": "code",
   "execution_count": 26,
   "metadata": {},
   "outputs": [
    {
     "data": {
      "application/vnd.jupyter.widget-view+json": {
       "model_id": "58aa4cb0e09c49ca8597f31db935fba3",
       "version_major": 2,
       "version_minor": 0
      },
      "text/plain": [
       "  0%|          | 0/1630755 [00:00<?, ?it/s]"
      ]
     },
     "metadata": {},
     "output_type": "display_data"
    }
   ],
   "source": [
    "reader.save_to_file(x, y, r\"Z:\\data_sets\\etlcdb\", name=0)"
   ]
  },
  {
   "cell_type": "markdown",
   "metadata": {},
   "source": [
    "Also save the class with `2000 - their sample amount`. With those numbers the DaJapaneseDataGenerator can generate more sampels."
   ]
  },
  {
   "cell_type": "code",
   "execution_count": 39,
   "metadata": {},
   "outputs": [],
   "source": [
    "with open(\"Z:\\data_sets\\etlcdb\\class_distribution.txt\", mode=\"w+\", encoding=\"utf8\") as f:\n",
    "    f.write(str(dict(zip(unique, [2000 - c for c in counts]))))"
   ]
  },
  {
   "cell_type": "markdown",
   "metadata": {},
   "source": [
    "## Create images for missing JIS-2 Kanji\n",
    "\n",
    "Because not all JIS 2 characters are in the etlcdb we need to create artifical samples for them. <br/>\n",
    "First find the characters which are in JIS2 but not in the data set."
   ]
  },
  {
   "cell_type": "code",
   "execution_count": 45,
   "metadata": {
    "tags": []
   },
   "outputs": [],
   "source": [
    "jis = \"\"\n",
    "with open(\"jis2_characters.txt\", encoding=\"utf-8\") as f:\n",
    "    jis = f.read()\n",
    "\n",
    "jis = jis.replace(\"\\n\", \" \").split(\" \")\n",
    "\n",
    "needed_characters = np.array([c for c in jis if c not in unique])"
   ]
  },
  {
   "cell_type": "code",
   "execution_count": 59,
   "metadata": {},
   "outputs": [],
   "source": [
    "a = np.concatenate((needed_characters, unique)).tolist()\n",
    "\n",
    "with open(r\"Z:\\data_sets\\etlcdb\\all_classes.txt\", mode=\"w+\", encoding=\"utf8\") as f:\n",
    "    f.write(\"\".join(a))"
   ]
  },
  {
   "cell_type": "markdown",
   "metadata": {},
   "source": [
    "Now generate those kanji with [DaJapaneseDataGenerator](https://github.com/CaptainDario/Da-Japanese-Data-Generator).\n",
    "\n",
    "\n",
    "-------------------------- remove"
   ]
  },
  {
   "cell_type": "markdown",
   "metadata": {},
   "source": [
    "Now find all fonts which support the given character."
   ]
  },
  {
   "cell_type": "code",
   "execution_count": 23,
   "metadata": {},
   "outputs": [
    {
     "name": "stderr",
     "output_type": "stream",
     "text": [
      "100%|██████████████████████████████████████████████████████████████████████████████| 3388/3388 [13:26<00:00,  4.20it/s]\n"
     ]
    }
   ],
   "source": [
    "arguments = [[fonts, i] for i in needed_characters]\n",
    "\n",
    "# if the supporting fonts were not saved to file\n",
    "if(not os.path.isfile(\"supported_fonts_2.txt\")):\n",
    "    # check which fonts support which character\n",
    "    if(__name__ == \"__main__\"):\n",
    "        with mp.Pool(processes=16) as pool:\n",
    "            return_values = pool.starmap(check_font_char_support, tqdm(arguments, total=len(arguments)))\n",
    "    # save the characters and their supported fonts to file\n",
    "    with open(\"supported_fonts_2.txt\", mode=\"w+\", encoding=\"utf-8\") as f:\n",
    "        f.write(str(return_values))\n",
    "# if the supporting fonts were saved to file\n",
    "else:\n",
    "    with open(\"supported_fonts_2.txt\", mode=\"r\", encoding=\"utf-8\") as f:\n",
    "        content = f.read()\n",
    "        return_values = eval(content)"
   ]
  },
  {
   "cell_type": "markdown",
   "metadata": {},
   "source": [
    "Now generate the artificial data in parallel."
   ]
  },
  {
   "cell_type": "code",
   "execution_count": 24,
   "metadata": {
    "tags": []
   },
   "outputs": [
    {
     "name": "stdout",
     "output_type": "stream",
     "text": [
      "3119\n"
     ]
    }
   ],
   "source": [
    "# how many different characters were already in the etlcdb\n",
    "etlcdb_num_samples = len(unique)\n",
    "print(etlcdb_num_samples)\n",
    "\n",
    "# free memory\n",
    "x, y, augmented_x, augmented_y = None, None, None, None\n",
    "gc.collect()\n",
    "\n",
    "# create the arguments for each process to generate jis2 kanji\n",
    "slices, cnt = 128, 0\n",
    "arguments = [[[], [], []] for i in range(slices)]\n",
    "for c in needed_characters:\n",
    "    arguments[cnt % slices][0].append(num_samples)\n",
    "    arguments[cnt % slices][1].append(c)\n",
    "    arguments[cnt % slices][2].append(return_values[cnt][1])\n",
    "    cnt += 1"
   ]
  },
  {
   "cell_type": "code",
   "execution_count": 25,
   "metadata": {},
   "outputs": [
    {
     "name": "stderr",
     "output_type": "stream",
     "text": [
      "100%|████████████████████████████████████████████████████████████████████████████████| 128/128 [03:07<00:00,  1.47s/it]\n"
     ]
    }
   ],
   "source": [
    "if(__name__ == \"__main__\"):\n",
    "    with mp.Pool(processes=16) as pool:\n",
    "        return_values = pool.starmap(generate_images, tqdm(arguments, total=len(arguments)))"
   ]
  },
  {
   "cell_type": "markdown",
   "metadata": {},
   "source": [
    "Finally merge the data into two arrays."
   ]
  },
  {
   "cell_type": "code",
   "execution_count": 26,
   "metadata": {},
   "outputs": [
    {
     "data": {
      "text/plain": [
       "65"
      ]
     },
     "execution_count": 26,
     "metadata": {},
     "output_type": "execute_result"
    }
   ],
   "source": [
    "augmented_imgs, augmented_labels = [], []\n",
    "\n",
    "for _imgs, _labels in return_values: \n",
    "    if(len(_imgs) > 0 and len(_labels) > 0):\n",
    "        augmented_imgs.append(_imgs)\n",
    "        augmented_labels.append(_labels)\n",
    "\n",
    "x = np.concatenate(augmented_imgs)\n",
    "augmented_imgs = None\n",
    "y = np.concatenate(augmented_labels)\n",
    "augmented_labels = None\n",
    "gc.collect()"
   ]
  },
  {
   "cell_type": "markdown",
   "metadata": {},
   "source": [
    "### Save (augmented) images to disk \n",
    "To use the data later with keras we save them to disk in an appropriate folder structure.\n",
    "The ETL_data_reader package provides a handy function for this."
   ]
  },
  {
   "cell_type": "code",
   "execution_count": 27,
   "metadata": {
    "tags": []
   },
   "outputs": [
    {
     "data": {
      "application/vnd.jupyter.widget-view+json": {
       "model_id": "3ed68b8fce1b450da5d26a95dd1bba2b",
       "version_major": 2,
       "version_minor": 0
      },
      "text/plain": [
       "  0%|          | 0/1694000 [00:00<?, ?it/s]"
      ]
     },
     "metadata": {},
     "output_type": "display_data"
    }
   ],
   "source": [
    "reader.save_to_file(x, y, r\"F:\\data_sets\\etlcdb\", name=etlcdb_num_samples)"
   ]
  }
 ],
 "metadata": {
  "interpreter": {
   "hash": "7b66e6ad73e4584ec1c4fbbc9ad8719d99baf4738cd57ba39e580b8e9994d93a"
  },
  "kernelspec": {
   "display_name": "Python 3 (ipykernel)",
   "language": "python",
   "name": "python3"
  },
  "language_info": {
   "codemirror_mode": {
    "name": "ipython",
    "version": 3
   },
   "file_extension": ".py",
   "mimetype": "text/x-python",
   "name": "python",
   "nbconvert_exporter": "python",
   "pygments_lexer": "ipython3",
   "version": "3.9.0"
  },
  "metadata": {
   "interpreter": {
    "hash": "7b66e6ad73e4584ec1c4fbbc9ad8719d99baf4738cd57ba39e580b8e9994d93a"
   }
  }
 },
 "nbformat": 4,
 "nbformat_minor": 4
}
